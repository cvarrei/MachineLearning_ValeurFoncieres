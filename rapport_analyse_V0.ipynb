{
 "cells": [
  {
   "cell_type": "markdown",
   "metadata": {},
   "source": [
    "# Rapport analytique données immobilières"
   ]
  },
  {
   "cell_type": "code",
   "execution_count": 161,
   "metadata": {},
   "outputs": [
    {
     "name": "stderr",
     "output_type": "stream",
     "text": [
      "[NbConvertApp] Converting notebook C:\\Users\\user\\Documents\\GitHub\\immo_TD\\notebook_immob_explo.ipynb to html\n",
      "[NbConvertApp] Writing 286786 bytes to C:\\Users\\user\\Documents\\GitHub\\immo_TD\\notebook_immob_explo.html\n"
     ]
    }
   ],
   "source": [
    "!jupyter nbconvert C:\\Users\\user\\Documents\\GitHub\\immo_TD\\notebook_immob_explo.ipynb --to html --TemplateExporter.exclude_input=True\n"
   ]
  },
  {
   "cell_type": "markdown",
   "metadata": {},
   "source": [
    "## Contexte"
   ]
  },
  {
   "cell_type": "markdown",
   "metadata": {},
   "source": [
    "Nous allons explorer les données de ventes immobilières en France entre 2018 et 2021. Ces données ont été enrichies avec des données en libre accès (OPENDATA) pour créer un modèle de prédiction de la valeur foncière de biens immobiliers en fonction de certaines informations clés. Tout le développement de l'application a été réalisé en Python en utilisant les packages listés dans le fichier requirements.txt."
   ]
  },
  {
   "cell_type": "markdown",
   "metadata": {},
   "source": [
    "Nous avons utilisé les packages suivants\n",
    "- pandas\n",
    "- numpy\n",
    "- matplotlib\n",
    "- seaborn\n",
    "- plotly"
   ]
  },
  {
   "cell_type": "code",
   "execution_count": 92,
   "metadata": {},
   "outputs": [],
   "source": [
    "import pandas as pd\n",
    "import numpy as np\n",
    "import matplotlib.pyplot as plt\n",
    "import seaborn as sns\n",
    "import plotly.express as px\n",
    "import warnings\n",
    "warnings.filterwarnings(\"ignore\")"
   ]
  },
  {
   "cell_type": "markdown",
   "metadata": {},
   "source": [
    "## Présentation des jeux de données"
   ]
  },
  {
   "cell_type": "markdown",
   "metadata": {},
   "source": [
    "Nous avons donc 4 jeux de données qui représentent les ventes immobilières entre 2018 et 2018 qui ont été concaténés. Il contient 1 512 5102 observations, pour 43 variables."
   ]
  },
  {
   "cell_type": "code",
   "execution_count": 93,
   "metadata": {},
   "outputs": [],
   "source": [
    "df_2018 = pd.read_csv('Data/valeursfoncieres-2018.txt', sep=\"|\", decimal=\",\")\n",
    "df_2019 = pd.read_csv('Data/valeursfoncieres-2019.txt', sep=\"|\", decimal=\",\")\n",
    "df_2020 = pd.read_csv('Data/valeursfoncieres-2020.txt', sep=\"|\", decimal=\",\")\n",
    "df_2021 = pd.read_csv('Data/valeursfoncieres-2021.txt', sep=\"|\", decimal=\",\")"
   ]
  },
  {
   "cell_type": "code",
   "execution_count": 94,
   "metadata": {},
   "outputs": [],
   "source": [
    "df_2018.shape[0] + df_2019.shape[0] + df_2020.shape[0] + df_2021.shape[0]\n",
    "df = pd.concat([df_2018,df_2019, df_2020, df_2021], axis=0)"
   ]
  },
  {
   "cell_type": "code",
   "execution_count": 95,
   "metadata": {},
   "outputs": [
    {
     "data": {
      "text/html": [
       "<div>\n",
       "<style scoped>\n",
       "    .dataframe tbody tr th:only-of-type {\n",
       "        vertical-align: middle;\n",
       "    }\n",
       "\n",
       "    .dataframe tbody tr th {\n",
       "        vertical-align: top;\n",
       "    }\n",
       "\n",
       "    .dataframe thead th {\n",
       "        text-align: right;\n",
       "    }\n",
       "</style>\n",
       "<table border=\"1\" class=\"dataframe\">\n",
       "  <thead>\n",
       "    <tr style=\"text-align: right;\">\n",
       "      <th></th>\n",
       "      <th>Identifiant de document</th>\n",
       "      <th>Reference document</th>\n",
       "      <th>1 Articles CGI</th>\n",
       "      <th>2 Articles CGI</th>\n",
       "      <th>3 Articles CGI</th>\n",
       "      <th>4 Articles CGI</th>\n",
       "      <th>5 Articles CGI</th>\n",
       "      <th>No disposition</th>\n",
       "      <th>Date mutation</th>\n",
       "      <th>Nature mutation</th>\n",
       "      <th>Valeur fonciere</th>\n",
       "      <th>No voie</th>\n",
       "      <th>B/T/Q</th>\n",
       "      <th>Type de voie</th>\n",
       "      <th>Code voie</th>\n",
       "      <th>Voie</th>\n",
       "      <th>Code postal</th>\n",
       "      <th>Commune</th>\n",
       "      <th>Code departement</th>\n",
       "      <th>Code commune</th>\n",
       "      <th>Prefixe de section</th>\n",
       "      <th>Section</th>\n",
       "      <th>No plan</th>\n",
       "      <th>No Volume</th>\n",
       "      <th>1er lot</th>\n",
       "      <th>Surface Carrez du 1er lot</th>\n",
       "      <th>2eme lot</th>\n",
       "      <th>Surface Carrez du 2eme lot</th>\n",
       "      <th>3eme lot</th>\n",
       "      <th>Surface Carrez du 3eme lot</th>\n",
       "      <th>4eme lot</th>\n",
       "      <th>Surface Carrez du 4eme lot</th>\n",
       "      <th>5eme lot</th>\n",
       "      <th>Surface Carrez du 5eme lot</th>\n",
       "      <th>Nombre de lots</th>\n",
       "      <th>Code type local</th>\n",
       "      <th>Type local</th>\n",
       "      <th>Identifiant local</th>\n",
       "      <th>Surface reelle bati</th>\n",
       "      <th>Nombre pieces principales</th>\n",
       "      <th>Nature culture</th>\n",
       "      <th>Nature culture speciale</th>\n",
       "      <th>Surface terrain</th>\n",
       "    </tr>\n",
       "  </thead>\n",
       "  <tbody>\n",
       "    <tr>\n",
       "      <th>0</th>\n",
       "      <td>NaN</td>\n",
       "      <td>NaN</td>\n",
       "      <td>NaN</td>\n",
       "      <td>NaN</td>\n",
       "      <td>NaN</td>\n",
       "      <td>NaN</td>\n",
       "      <td>NaN</td>\n",
       "      <td>1</td>\n",
       "      <td>03/01/2018</td>\n",
       "      <td>Vente</td>\n",
       "      <td>109000.0</td>\n",
       "      <td>13.0</td>\n",
       "      <td>NaN</td>\n",
       "      <td>RUE</td>\n",
       "      <td>1660</td>\n",
       "      <td>GEN LOGEROT</td>\n",
       "      <td>1000.0</td>\n",
       "      <td>BOURG-EN-BRESSE</td>\n",
       "      <td>1</td>\n",
       "      <td>53</td>\n",
       "      <td>NaN</td>\n",
       "      <td>AN</td>\n",
       "      <td>73</td>\n",
       "      <td>NaN</td>\n",
       "      <td>1</td>\n",
       "      <td>NaN</td>\n",
       "      <td>31.0</td>\n",
       "      <td>NaN</td>\n",
       "      <td>NaN</td>\n",
       "      <td>NaN</td>\n",
       "      <td>NaN</td>\n",
       "      <td>NaN</td>\n",
       "      <td>NaN</td>\n",
       "      <td>NaN</td>\n",
       "      <td>2</td>\n",
       "      <td>2.0</td>\n",
       "      <td>Appartement</td>\n",
       "      <td>NaN</td>\n",
       "      <td>73.0</td>\n",
       "      <td>4.0</td>\n",
       "      <td>NaN</td>\n",
       "      <td>NaN</td>\n",
       "      <td>NaN</td>\n",
       "    </tr>\n",
       "    <tr>\n",
       "      <th>1</th>\n",
       "      <td>NaN</td>\n",
       "      <td>NaN</td>\n",
       "      <td>NaN</td>\n",
       "      <td>NaN</td>\n",
       "      <td>NaN</td>\n",
       "      <td>NaN</td>\n",
       "      <td>NaN</td>\n",
       "      <td>1</td>\n",
       "      <td>03/01/2018</td>\n",
       "      <td>Vente</td>\n",
       "      <td>109000.0</td>\n",
       "      <td>13.0</td>\n",
       "      <td>NaN</td>\n",
       "      <td>RUE</td>\n",
       "      <td>1660</td>\n",
       "      <td>GEN LOGEROT</td>\n",
       "      <td>1000.0</td>\n",
       "      <td>BOURG-EN-BRESSE</td>\n",
       "      <td>1</td>\n",
       "      <td>53</td>\n",
       "      <td>NaN</td>\n",
       "      <td>AN</td>\n",
       "      <td>73</td>\n",
       "      <td>NaN</td>\n",
       "      <td>13</td>\n",
       "      <td>NaN</td>\n",
       "      <td>NaN</td>\n",
       "      <td>NaN</td>\n",
       "      <td>NaN</td>\n",
       "      <td>NaN</td>\n",
       "      <td>NaN</td>\n",
       "      <td>NaN</td>\n",
       "      <td>NaN</td>\n",
       "      <td>NaN</td>\n",
       "      <td>1</td>\n",
       "      <td>3.0</td>\n",
       "      <td>Dépendance</td>\n",
       "      <td>NaN</td>\n",
       "      <td>0.0</td>\n",
       "      <td>0.0</td>\n",
       "      <td>NaN</td>\n",
       "      <td>NaN</td>\n",
       "      <td>NaN</td>\n",
       "    </tr>\n",
       "    <tr>\n",
       "      <th>2</th>\n",
       "      <td>NaN</td>\n",
       "      <td>NaN</td>\n",
       "      <td>NaN</td>\n",
       "      <td>NaN</td>\n",
       "      <td>NaN</td>\n",
       "      <td>NaN</td>\n",
       "      <td>NaN</td>\n",
       "      <td>1</td>\n",
       "      <td>04/01/2018</td>\n",
       "      <td>Vente</td>\n",
       "      <td>239300.0</td>\n",
       "      <td>4.0</td>\n",
       "      <td>NaN</td>\n",
       "      <td>RUE</td>\n",
       "      <td>0025</td>\n",
       "      <td>DE LA BARMETTE</td>\n",
       "      <td>1250.0</td>\n",
       "      <td>NIVIGNE ET SURAN</td>\n",
       "      <td>1</td>\n",
       "      <td>95</td>\n",
       "      <td>NaN</td>\n",
       "      <td>AH</td>\n",
       "      <td>186</td>\n",
       "      <td>NaN</td>\n",
       "      <td>NaN</td>\n",
       "      <td>NaN</td>\n",
       "      <td>NaN</td>\n",
       "      <td>NaN</td>\n",
       "      <td>NaN</td>\n",
       "      <td>NaN</td>\n",
       "      <td>NaN</td>\n",
       "      <td>NaN</td>\n",
       "      <td>NaN</td>\n",
       "      <td>NaN</td>\n",
       "      <td>0</td>\n",
       "      <td>1.0</td>\n",
       "      <td>Maison</td>\n",
       "      <td>NaN</td>\n",
       "      <td>163.0</td>\n",
       "      <td>4.0</td>\n",
       "      <td>S</td>\n",
       "      <td>NaN</td>\n",
       "      <td>949.0</td>\n",
       "    </tr>\n",
       "    <tr>\n",
       "      <th>3</th>\n",
       "      <td>NaN</td>\n",
       "      <td>NaN</td>\n",
       "      <td>NaN</td>\n",
       "      <td>NaN</td>\n",
       "      <td>NaN</td>\n",
       "      <td>NaN</td>\n",
       "      <td>NaN</td>\n",
       "      <td>1</td>\n",
       "      <td>04/01/2018</td>\n",
       "      <td>Vente</td>\n",
       "      <td>239300.0</td>\n",
       "      <td>4.0</td>\n",
       "      <td>NaN</td>\n",
       "      <td>RUE</td>\n",
       "      <td>0025</td>\n",
       "      <td>DE LA BARMETTE</td>\n",
       "      <td>1250.0</td>\n",
       "      <td>NIVIGNE ET SURAN</td>\n",
       "      <td>1</td>\n",
       "      <td>95</td>\n",
       "      <td>NaN</td>\n",
       "      <td>AH</td>\n",
       "      <td>186</td>\n",
       "      <td>NaN</td>\n",
       "      <td>NaN</td>\n",
       "      <td>NaN</td>\n",
       "      <td>NaN</td>\n",
       "      <td>NaN</td>\n",
       "      <td>NaN</td>\n",
       "      <td>NaN</td>\n",
       "      <td>NaN</td>\n",
       "      <td>NaN</td>\n",
       "      <td>NaN</td>\n",
       "      <td>NaN</td>\n",
       "      <td>0</td>\n",
       "      <td>1.0</td>\n",
       "      <td>Maison</td>\n",
       "      <td>NaN</td>\n",
       "      <td>163.0</td>\n",
       "      <td>4.0</td>\n",
       "      <td>AG</td>\n",
       "      <td>JARD</td>\n",
       "      <td>420.0</td>\n",
       "    </tr>\n",
       "    <tr>\n",
       "      <th>4</th>\n",
       "      <td>NaN</td>\n",
       "      <td>NaN</td>\n",
       "      <td>NaN</td>\n",
       "      <td>NaN</td>\n",
       "      <td>NaN</td>\n",
       "      <td>NaN</td>\n",
       "      <td>NaN</td>\n",
       "      <td>1</td>\n",
       "      <td>04/01/2018</td>\n",
       "      <td>Vente</td>\n",
       "      <td>239300.0</td>\n",
       "      <td>4.0</td>\n",
       "      <td>NaN</td>\n",
       "      <td>RUE</td>\n",
       "      <td>0025</td>\n",
       "      <td>DE LA BARMETTE</td>\n",
       "      <td>1250.0</td>\n",
       "      <td>NIVIGNE ET SURAN</td>\n",
       "      <td>1</td>\n",
       "      <td>95</td>\n",
       "      <td>NaN</td>\n",
       "      <td>AH</td>\n",
       "      <td>186</td>\n",
       "      <td>NaN</td>\n",
       "      <td>NaN</td>\n",
       "      <td>NaN</td>\n",
       "      <td>NaN</td>\n",
       "      <td>NaN</td>\n",
       "      <td>NaN</td>\n",
       "      <td>NaN</td>\n",
       "      <td>NaN</td>\n",
       "      <td>NaN</td>\n",
       "      <td>NaN</td>\n",
       "      <td>NaN</td>\n",
       "      <td>0</td>\n",
       "      <td>1.0</td>\n",
       "      <td>Maison</td>\n",
       "      <td>NaN</td>\n",
       "      <td>51.0</td>\n",
       "      <td>2.0</td>\n",
       "      <td>AG</td>\n",
       "      <td>JARD</td>\n",
       "      <td>420.0</td>\n",
       "    </tr>\n",
       "  </tbody>\n",
       "</table>\n",
       "</div>"
      ],
      "text/plain": [
       "   Identifiant de document  Reference document  1 Articles CGI  \\\n",
       "0                      NaN                 NaN             NaN   \n",
       "1                      NaN                 NaN             NaN   \n",
       "2                      NaN                 NaN             NaN   \n",
       "3                      NaN                 NaN             NaN   \n",
       "4                      NaN                 NaN             NaN   \n",
       "\n",
       "   2 Articles CGI  3 Articles CGI  4 Articles CGI  5 Articles CGI  \\\n",
       "0             NaN             NaN             NaN             NaN   \n",
       "1             NaN             NaN             NaN             NaN   \n",
       "2             NaN             NaN             NaN             NaN   \n",
       "3             NaN             NaN             NaN             NaN   \n",
       "4             NaN             NaN             NaN             NaN   \n",
       "\n",
       "   No disposition Date mutation Nature mutation  Valeur fonciere  No voie  \\\n",
       "0               1    03/01/2018           Vente         109000.0     13.0   \n",
       "1               1    03/01/2018           Vente         109000.0     13.0   \n",
       "2               1    04/01/2018           Vente         239300.0      4.0   \n",
       "3               1    04/01/2018           Vente         239300.0      4.0   \n",
       "4               1    04/01/2018           Vente         239300.0      4.0   \n",
       "\n",
       "  B/T/Q Type de voie Code voie            Voie  Code postal           Commune  \\\n",
       "0   NaN          RUE      1660     GEN LOGEROT       1000.0   BOURG-EN-BRESSE   \n",
       "1   NaN          RUE      1660     GEN LOGEROT       1000.0   BOURG-EN-BRESSE   \n",
       "2   NaN          RUE      0025  DE LA BARMETTE       1250.0  NIVIGNE ET SURAN   \n",
       "3   NaN          RUE      0025  DE LA BARMETTE       1250.0  NIVIGNE ET SURAN   \n",
       "4   NaN          RUE      0025  DE LA BARMETTE       1250.0  NIVIGNE ET SURAN   \n",
       "\n",
       "  Code departement  Code commune  Prefixe de section Section  No plan  \\\n",
       "0                1            53                 NaN      AN       73   \n",
       "1                1            53                 NaN      AN       73   \n",
       "2                1            95                 NaN      AH      186   \n",
       "3                1            95                 NaN      AH      186   \n",
       "4                1            95                 NaN      AH      186   \n",
       "\n",
       "  No Volume 1er lot  Surface Carrez du 1er lot 2eme lot  \\\n",
       "0       NaN       1                        NaN     31.0   \n",
       "1       NaN      13                        NaN      NaN   \n",
       "2       NaN     NaN                        NaN      NaN   \n",
       "3       NaN     NaN                        NaN      NaN   \n",
       "4       NaN     NaN                        NaN      NaN   \n",
       "\n",
       "   Surface Carrez du 2eme lot 3eme lot  Surface Carrez du 3eme lot 4eme lot  \\\n",
       "0                         NaN      NaN                         NaN      NaN   \n",
       "1                         NaN      NaN                         NaN      NaN   \n",
       "2                         NaN      NaN                         NaN      NaN   \n",
       "3                         NaN      NaN                         NaN      NaN   \n",
       "4                         NaN      NaN                         NaN      NaN   \n",
       "\n",
       "   Surface Carrez du 4eme lot 5eme lot  Surface Carrez du 5eme lot  \\\n",
       "0                         NaN      NaN                         NaN   \n",
       "1                         NaN      NaN                         NaN   \n",
       "2                         NaN      NaN                         NaN   \n",
       "3                         NaN      NaN                         NaN   \n",
       "4                         NaN      NaN                         NaN   \n",
       "\n",
       "   Nombre de lots  Code type local   Type local  Identifiant local  \\\n",
       "0               2              2.0  Appartement                NaN   \n",
       "1               1              3.0   Dépendance                NaN   \n",
       "2               0              1.0       Maison                NaN   \n",
       "3               0              1.0       Maison                NaN   \n",
       "4               0              1.0       Maison                NaN   \n",
       "\n",
       "   Surface reelle bati  Nombre pieces principales Nature culture  \\\n",
       "0                 73.0                        4.0            NaN   \n",
       "1                  0.0                        0.0            NaN   \n",
       "2                163.0                        4.0              S   \n",
       "3                163.0                        4.0             AG   \n",
       "4                 51.0                        2.0             AG   \n",
       "\n",
       "  Nature culture speciale  Surface terrain  \n",
       "0                     NaN              NaN  \n",
       "1                     NaN              NaN  \n",
       "2                     NaN            949.0  \n",
       "3                    JARD            420.0  \n",
       "4                    JARD            420.0  "
      ]
     },
     "execution_count": 95,
     "metadata": {},
     "output_type": "execute_result"
    }
   ],
   "source": [
    "# On paramétrise notre display function pour avoir toutes les variables\n",
    "pd.set_option('display.max_columns', None)\n",
    "df.head()"
   ]
  },
  {
   "cell_type": "markdown",
   "metadata": {},
   "source": [
    "Voici toutes les variables disponibles dans notre dataset."
   ]
  },
  {
   "cell_type": "code",
   "execution_count": 96,
   "metadata": {},
   "outputs": [
    {
     "data": {
      "text/plain": [
       "Index(['Identifiant de document', 'Reference document', '1 Articles CGI',\n",
       "       '2 Articles CGI', '3 Articles CGI', '4 Articles CGI', '5 Articles CGI',\n",
       "       'No disposition', 'Date mutation', 'Nature mutation', 'Valeur fonciere',\n",
       "       'No voie', 'B/T/Q', 'Type de voie', 'Code voie', 'Voie', 'Code postal',\n",
       "       'Commune', 'Code departement', 'Code commune', 'Prefixe de section',\n",
       "       'Section', 'No plan', 'No Volume', '1er lot',\n",
       "       'Surface Carrez du 1er lot', '2eme lot', 'Surface Carrez du 2eme lot',\n",
       "       '3eme lot', 'Surface Carrez du 3eme lot', '4eme lot',\n",
       "       'Surface Carrez du 4eme lot', '5eme lot', 'Surface Carrez du 5eme lot',\n",
       "       'Nombre de lots', 'Code type local', 'Type local', 'Identifiant local',\n",
       "       'Surface reelle bati', 'Nombre pieces principales', 'Nature culture',\n",
       "       'Nature culture speciale', 'Surface terrain'],\n",
       "      dtype='object')"
      ]
     },
     "execution_count": 96,
     "metadata": {},
     "output_type": "execute_result"
    }
   ],
   "source": [
    "df.columns"
   ]
  },
  {
   "cell_type": "markdown",
   "metadata": {},
   "source": [
    "On regarde le nombre de valeurs unique dans chaque colonne pour enlever les variables qui n'apporte pas d'information"
   ]
  },
  {
   "cell_type": "code",
   "execution_count": 97,
   "metadata": {},
   "outputs": [
    {
     "name": "stdout",
     "output_type": "stream",
     "text": [
      "Identifiant de document  :  1\n",
      "Reference document  :  1\n",
      "1 Articles CGI  :  1\n",
      "2 Articles CGI  :  1\n",
      "3 Articles CGI  :  1\n",
      "4 Articles CGI  :  1\n",
      "5 Articles CGI  :  1\n",
      "No disposition  :  694\n",
      "Date mutation  :  1458\n",
      "Nature mutation  :  6\n",
      "Valeur fonciere  :  378224\n",
      "No voie  :  8953\n",
      "B/T/Q  :  43\n",
      "Type de voie  :  148\n",
      "Code voie  :  20766\n",
      "Voie  :  997235\n",
      "Code postal  :  5875\n",
      "Commune  :  32044\n",
      "Code departement  :  99\n",
      "Code commune  :  908\n",
      "Prefixe de section  :  758\n",
      "Section  :  589\n",
      "No plan  :  8226\n",
      "No Volume  :  2389\n",
      "1er lot  :  24159\n",
      "Surface Carrez du 1er lot  :  27268\n",
      "2eme lot  :  10816\n",
      "Surface Carrez du 2eme lot  :  17277\n",
      "3eme lot  :  2873\n",
      "Surface Carrez du 3eme lot  :  11695\n",
      "4eme lot  :  1535\n",
      "Surface Carrez du 4eme lot  :  5051\n",
      "5eme lot  :  1101\n",
      "Surface Carrez du 5eme lot  :  2269\n",
      "Nombre de lots  :  122\n",
      "Code type local  :  5\n",
      "Type local  :  5\n",
      "Identifiant local  :  1\n",
      "Surface reelle bati  :  8522\n",
      "Nombre pieces principales  :  66\n",
      "Nature culture  :  28\n",
      "Nature culture speciale  :  133\n",
      "Surface terrain  :  78770\n"
     ]
    }
   ],
   "source": [
    "# On regarde le nombre de valeurs unique dans chaque colonne pour enlever les variables qui n'apporte pas d'information\n",
    "for col in df.columns:\n",
    "    print(col, \" : \",len(df[col].unique()))"
   ]
  },
  {
   "cell_type": "markdown",
   "metadata": {},
   "source": [
    "## Nettoyage du jeu de données"
   ]
  },
  {
   "cell_type": "markdown",
   "metadata": {},
   "source": [
    "On enlève donc les variables avec une valeur (souvent NaN) ou d'identifiant (qui n'auront donc pas d'intérêt dans la prédiction ou l'exploration)\n",
    "- Identifiant de document\n",
    "- Reference document\n",
    "- 1 Articles CGI\n",
    "- 2 Articles CGI\n",
    "- 3 Articles CGI\n",
    "- 4 Articles CGI\n",
    "- 5 Articles CGI\n",
    "- No disposition\n",
    "- No plan\n",
    "- Identifiant local\n",
    "- No Volume"
   ]
  },
  {
   "cell_type": "code",
   "execution_count": 98,
   "metadata": {},
   "outputs": [],
   "source": [
    "# On enlève donc les variables avec une valeur (souvent NaN) ou d'identifiant (qui n'auront donc pas d'intérêt dans la prédiction ou l'exploration)\n",
    "df.drop(columns=['Identifiant de document', 'Reference document', '1 Articles CGI',\n",
    "       '2 Articles CGI', '3 Articles CGI', '4 Articles CGI', '5 Articles CGI','No disposition', 'No plan', 'Identifiant local', 'No Volume'], inplace=True)"
   ]
  },
  {
   "cell_type": "markdown",
   "metadata": {},
   "source": [
    "B/T/Q représente l'indice de répétition qui est est une mention qui complète une numérotation de voirie. L’indice de répétition permet de\n",
    "différencier plusieurs adresses portant le même numéro dans la même rue. Elle ne nous servira pas donc on l'enlève également."
   ]
  },
  {
   "cell_type": "code",
   "execution_count": 99,
   "metadata": {},
   "outputs": [],
   "source": [
    "df.drop(columns=[\"B/T/Q\"], inplace=True)"
   ]
  },
  {
   "cell_type": "markdown",
   "metadata": {},
   "source": [
    "On regarde le nombre de valeurs manquantes dans chaque colonne pour enlever les variables qui n'apporte pas d'information"
   ]
  },
  {
   "cell_type": "code",
   "execution_count": 100,
   "metadata": {},
   "outputs": [
    {
     "name": "stdout",
     "output_type": "stream",
     "text": [
      "Date mutation  :  0.0\n",
      "Nature mutation  :  0.0\n",
      "Valeur fonciere  :  0.010980884624778068\n",
      "No voie  :  0.39393069878140324\n",
      "Type de voie  :  0.4124630696705384\n",
      "Code voie  :  0.008502950922248327\n",
      "Voie  :  0.008520868156789952\n",
      "Code postal  :  0.008544405188143525\n",
      "Commune  :  0.0\n",
      "Code departement  :  0.0\n",
      "Code commune  :  0.0\n",
      "Prefixe de section  :  0.9532110262793599\n",
      "Section  :  3.173532317335777e-05\n",
      "1er lot  :  0.6884300019927139\n",
      "Surface Carrez du 1er lot  :  0.9147595169936705\n",
      "2eme lot  :  0.9262992077673261\n",
      "Surface Carrez du 2eme lot  :  0.9766547690058553\n",
      "3eme lot  :  0.9872174085173111\n",
      "Surface Carrez du 3eme lot  :  0.9975565784614213\n",
      "4eme lot  :  0.9957234007413636\n",
      "Surface Carrez du 4eme lot  :  0.9993702521807787\n",
      "5eme lot  :  0.998045302438291\n",
      "Surface Carrez du 5eme lot  :  0.9997469107976925\n",
      "Nombre de lots  :  0.0\n",
      "Code type local  :  0.43260752886162357\n",
      "Type local  :  0.43260752886162357\n",
      "Surface reelle bati  :  0.4333014084797577\n",
      "Nombre pieces principales  :  0.4333014084797577\n",
      "Nature culture  :  0.31595019987303224\n",
      "Nature culture speciale  :  0.9562014193358829\n",
      "Surface terrain  :  0.31595019987303224\n"
     ]
    }
   ],
   "source": [
    "# On regarde le nombre de valeurs manquantes dans chaque colonne pour enlever les variables qui n'apporte pas d'information\n",
    "for col in df.columns:\n",
    "    print(col,\" : \", df[col].isnull().sum()/df.shape[0])"
   ]
  },
  {
   "cell_type": "markdown",
   "metadata": {},
   "source": [
    "Le nombre de lot est suffisant pour nous indiquer la présence ou non de lots. Le reste est redondant. On supprime les variables : \n",
    "- 1er lot\n",
    "- Surface Carrez du 1er lot\n",
    "- 2eme lot\n",
    "- Surface Carrez du 2eme lot\n",
    "- 3eme lot\n",
    "- Surface Carrez du 3eme lot\n",
    "- 4eme lot\n",
    "- Surface Carrez du 4eme lot\n",
    "- 5eme lot\n",
    "- Surface Carrez du 5eme lot"
   ]
  },
  {
   "cell_type": "code",
   "execution_count": 101,
   "metadata": {},
   "outputs": [],
   "source": [
    "df.drop(columns=['1er lot',\n",
    "       'Surface Carrez du 1er lot', '2eme lot', 'Surface Carrez du 2eme lot',\n",
    "       '3eme lot', 'Surface Carrez du 3eme lot', '4eme lot',\n",
    "       'Surface Carrez du 4eme lot', '5eme lot', 'Surface Carrez du 5eme lot'], inplace=True)"
   ]
  },
  {
   "cell_type": "markdown",
   "metadata": {},
   "source": [
    "Nous nous occupons désormais de la variable nature culture spéciale qui nous indique la présence ou non d'un extérieur. La présence d'un terrain est clairement indiquer par la surface présente, donc si elle est de 0: il n'y a pas de terrain. En s'appuyant sur la documentation, on se rend compte que le relatif aux sections n'est pas pertinent, on supprime donc la variable. Il en va de meme pour la variable Nature mutation qui n'est pas pertinente pour notre problématique"
   ]
  },
  {
   "cell_type": "code",
   "execution_count": 102,
   "metadata": {},
   "outputs": [],
   "source": [
    "df.drop(columns=[ \"Nature culture speciale\"], inplace=True)"
   ]
  },
  {
   "cell_type": "code",
   "execution_count": 103,
   "metadata": {},
   "outputs": [],
   "source": [
    "df.loc[df[\"Nature culture\"].isna(), \"exterieur\"] = 0\n",
    "df.loc[df[\"exterieur\"].isna(), \"exterieur\"] = 1\n",
    "# La présence d'un terrain est clairement indiquer par la surface présente, donc si elle est de 0: il n'y a pas de terrain\n",
    "df.loc[df[\"Surface terrain\"].isnull(), \"Surface terrain\"] = 0\n",
    "# En s'appuyant sur la documentation, on se rend compte que le relatif aux sections n'est pas pertinent\n",
    "df.drop(columns=[\"Prefixe de section\", \"Section\"], inplace=True)"
   ]
  },
  {
   "cell_type": "code",
   "execution_count": 104,
   "metadata": {},
   "outputs": [
    {
     "data": {
      "text/plain": [
       "array(['Vente', \"Vente en l'état futur d'achèvement\", 'Echange',\n",
       "       'Vente terrain à bâtir', 'Adjudication', 'Expropriation'],\n",
       "      dtype=object)"
      ]
     },
     "execution_count": 104,
     "metadata": {},
     "output_type": "execute_result"
    }
   ],
   "source": [
    "# On extrait les différentes modalités prises par Nature mutation\n",
    "df[\"Nature mutation\"].unique()"
   ]
  },
  {
   "cell_type": "code",
   "execution_count": 105,
   "metadata": {},
   "outputs": [],
   "source": [
    "# On observe que ce n'est pas pertinent pour notre problématique.\n",
    "df.drop(columns=[\"Nature mutation\"], inplace=True)"
   ]
  },
  {
   "cell_type": "markdown",
   "metadata": {},
   "source": [
    "La variable en relation avec l'adresse se sépare en plusieurs variables, nous allons donc la concaténer. Si l'adresse est nulle, c'est parce qu'il n'y a pas de n° de voie (lieux dits?), donc on remplie adresse avec \"Voie\"."
   ]
  },
  {
   "cell_type": "code",
   "execution_count": 106,
   "metadata": {},
   "outputs": [],
   "source": [
    "df[\"key\"]=  df[\"No voie\"].astype(str)+df[\"Voie\"]+df[\"Commune\"]+df[\"Date mutation\"]"
   ]
  },
  {
   "cell_type": "markdown",
   "metadata": {},
   "source": [
    "On enlève les références à l'adresse qui ne nous seront d'aucunes utilité. On enlève également le code département qui ne nous servira pas pour récupérer les départements (nous utiliserons le code postal et le nom de la commune). Pour ne garder les ventes que de lots uniques, on enlève toutes les ventes qui se répètent plus d'une fois."
   ]
  },
  {
   "cell_type": "code",
   "execution_count": 107,
   "metadata": {},
   "outputs": [],
   "source": [
    "# On enlève les références à l'adresse qui ne nous seront d'aucunes utilité\n",
    "df.drop(columns=[\"Type de voie\", \"Voie\", \"No voie\", \"Code voie\"], inplace=True)\n",
    "# On enlève également le code département qui ne nous servira pas pour récupérer les départements (nous utiliserons le code postal et le nom de la commune)\n",
    "df.drop(columns=[\"Code departement\"], inplace=True)"
   ]
  },
  {
   "cell_type": "code",
   "execution_count": 108,
   "metadata": {},
   "outputs": [
    {
     "data": {
      "text/plain": [
       "(4577310, 14)"
      ]
     },
     "execution_count": 108,
     "metadata": {},
     "output_type": "execute_result"
    }
   ],
   "source": [
    "# Pour ne garder les ventes que de lots uniques, on enlève toutes les ventes qui se répètent plus d'une fois\n",
    "df2 = df.drop_duplicates(subset='key', keep=False)\n",
    "df2.shape"
   ]
  },
  {
   "cell_type": "markdown",
   "metadata": {},
   "source": []
  },
  {
   "cell_type": "code",
   "execution_count": 109,
   "metadata": {},
   "outputs": [],
   "source": [
    "# On change le format de la date de vente en format datetime.\n",
    "df2.loc[:, 'Date mutation'] = pd.to_datetime(df2['Date mutation'] , format='%d/%m/%Y')\n",
    "# On récupère le mois et l'année de la vente.\n",
    "df2.loc[:, 'year'] = pd.DatetimeIndex(df2['Date mutation']).year\n",
    "df2.loc[:, 'month'] = pd.DatetimeIndex(df2['Date mutation']).month\n",
    "# On enlève la clé qui nous a servi à enlever les duplicatas et la date entière qui ne nous sert plus\n",
    "df2.drop(columns=[\"Date mutation\", \"key\"], inplace=True)\n",
    "# Si NaN values dans ces variables de surfaces ou nombre de pièces principales, 0 assigné\n",
    "df2.loc[df2[\"Surface reelle bati\"].isnull(), \"Surface reelle bati\"] = 0\n",
    "df2.loc[df2[\"Surface terrain\"].isnull(), \"Surface terrain\"] = 0\n",
    "df2.loc[df2[\"Nombre pieces principales\"].isnull(), \"Nombre pieces principales\"] = 0\n",
    "# On enlève la clé qui nous a servi à enlever les duplicatas et la date entière qui ne nous sert plus\n",
    "df2.drop(columns=[\"Nature culture\"], inplace=True)\n",
    "# On enlève la clé qui nous a servi à enlever les duplicatas et la date entière qui ne nous sert plus\n",
    "df2.drop(columns=[\"Code type local\"], inplace=True)\n",
    "df2.loc[df2[\"Type local\"].isna(), \"Type local\"] = \"Autres\""
   ]
  },
  {
   "cell_type": "code",
   "execution_count": 110,
   "metadata": {},
   "outputs": [
    {
     "name": "stdout",
     "output_type": "stream",
     "text": [
      "Valeur fonciere  :  23421\n",
      "Code postal  :  214\n",
      "Commune  :  0\n",
      "Code commune  :  0\n",
      "Nombre de lots  :  0\n",
      "Type local  :  0\n",
      "Surface reelle bati  :  0\n",
      "Nombre pieces principales  :  0\n",
      "Surface terrain  :  0\n",
      "exterieur  :  0\n",
      "year  :  0\n",
      "month  :  0\n"
     ]
    }
   ],
   "source": [
    "for col in df2.columns:\n",
    "    print(col,\" : \",df2[col].isnull().sum())"
   ]
  },
  {
   "cell_type": "code",
   "execution_count": 111,
   "metadata": {},
   "outputs": [],
   "source": [
    "# On enlève les lignes avec des valeurs nulles\n",
    "df2 = df2.dropna()"
   ]
  },
  {
   "cell_type": "code",
   "execution_count": 112,
   "metadata": {},
   "outputs": [
    {
     "name": "stdout",
     "output_type": "stream",
     "text": [
      "Valeur fonciere\n",
      "0\n",
      "Code postal\n",
      "0\n",
      "Commune\n",
      "0\n",
      "Code commune\n",
      "0\n",
      "Nombre de lots\n",
      "0\n",
      "Type local\n",
      "0\n",
      "Surface reelle bati\n",
      "0\n",
      "Nombre pieces principales\n",
      "0\n",
      "Surface terrain\n",
      "0\n",
      "exterieur\n",
      "0\n",
      "year\n",
      "0\n",
      "month\n",
      "0\n"
     ]
    }
   ],
   "source": [
    "for col in df2.columns:\n",
    "    print(col)\n",
    "    print(df2[col].isnull().sum())"
   ]
  },
  {
   "cell_type": "markdown",
   "metadata": {},
   "source": [
    "Certains biens sont à l'euro symbolique ou ont un prix inférieur à 100€, nous enlevons ces biens"
   ]
  },
  {
   "cell_type": "code",
   "execution_count": 113,
   "metadata": {},
   "outputs": [
    {
     "data": {
      "text/plain": [
       "([<matplotlib.patches.Wedge at 0x2205e64bc50>,\n",
       "  <matplotlib.patches.Wedge at 0x21fec010260>],\n",
       " [Text(-1.0995429208157466, 0.03170749570649091, ''),\n",
       "  Text(1.0995429192386392, -0.03170755039689271, '')],\n",
       " [Text(-0.5997506840813162, 0.017294997658085946, '99%'),\n",
       "  Text(0.5997506832210758, -0.0172950274892142, '1%')])"
      ]
     },
     "execution_count": 113,
     "metadata": {},
     "output_type": "execute_result"
    },
    {
     "data": {
      "image/png": "[encoded data removed]",
      "text/plain": [
       "<Figure size 640x480 with 1 Axes>"
      ]
     },
     "metadata": {},
     "output_type": "display_data"
    }
   ],
   "source": [
    "# On visualise le pourcentage de biens avec un prix de vente inférieur à 100€.\n",
    "euro_symbol = (df2[\"Valeur fonciere\"] < 100).value_counts()\n",
    "\n",
    "plt.pie(euro_symbol, autopct='%.0f%%')"
   ]
  },
  {
   "cell_type": "markdown",
   "metadata": {},
   "source": [
    "On ne garde que les biens ayant eu un prix de vente supérieur à 100€."
   ]
  },
  {
   "cell_type": "code",
   "execution_count": 114,
   "metadata": {},
   "outputs": [],
   "source": [
    "# On ne garde que les biens ayant eu un prix de vente supérieur à 100€.\n",
    "df3 = df2[df2[\"Valeur fonciere\"] > 100]"
   ]
  },
  {
   "cell_type": "markdown",
   "metadata": {},
   "source": [
    "Voici à quoi ressemble notre jeu de données maintenant"
   ]
  },
  {
   "cell_type": "code",
   "execution_count": 115,
   "metadata": {},
   "outputs": [
    {
     "data": {
      "text/html": [
       "<div>\n",
       "<style scoped>\n",
       "    .dataframe tbody tr th:only-of-type {\n",
       "        vertical-align: middle;\n",
       "    }\n",
       "\n",
       "    .dataframe tbody tr th {\n",
       "        vertical-align: top;\n",
       "    }\n",
       "\n",
       "    .dataframe thead th {\n",
       "        text-align: right;\n",
       "    }\n",
       "</style>\n",
       "<table border=\"1\" class=\"dataframe\">\n",
       "  <thead>\n",
       "    <tr style=\"text-align: right;\">\n",
       "      <th></th>\n",
       "      <th>Valeur fonciere</th>\n",
       "      <th>Code postal</th>\n",
       "      <th>Commune</th>\n",
       "      <th>Code commune</th>\n",
       "      <th>Nombre de lots</th>\n",
       "      <th>Type local</th>\n",
       "      <th>Surface reelle bati</th>\n",
       "      <th>Nombre pieces principales</th>\n",
       "      <th>Surface terrain</th>\n",
       "      <th>exterieur</th>\n",
       "      <th>year</th>\n",
       "      <th>month</th>\n",
       "    </tr>\n",
       "  </thead>\n",
       "  <tbody>\n",
       "    <tr>\n",
       "      <th>7</th>\n",
       "      <td>90000.0</td>\n",
       "      <td>1380.0</td>\n",
       "      <td>SAINT-CYR-SUR-MENTHON</td>\n",
       "      <td>343</td>\n",
       "      <td>0</td>\n",
       "      <td>Maison</td>\n",
       "      <td>150.0</td>\n",
       "      <td>3.0</td>\n",
       "      <td>347.0</td>\n",
       "      <td>1.0</td>\n",
       "      <td>2018</td>\n",
       "      <td>1</td>\n",
       "    </tr>\n",
       "    <tr>\n",
       "      <th>9</th>\n",
       "      <td>3150.0</td>\n",
       "      <td>1160.0</td>\n",
       "      <td>PONT-D AIN</td>\n",
       "      <td>304</td>\n",
       "      <td>0</td>\n",
       "      <td>Autres</td>\n",
       "      <td>0.0</td>\n",
       "      <td>0.0</td>\n",
       "      <td>126.0</td>\n",
       "      <td>1.0</td>\n",
       "      <td>2018</td>\n",
       "      <td>1</td>\n",
       "    </tr>\n",
       "    <tr>\n",
       "      <th>10</th>\n",
       "      <td>2100.0</td>\n",
       "      <td>1250.0</td>\n",
       "      <td>JASSERON</td>\n",
       "      <td>195</td>\n",
       "      <td>0</td>\n",
       "      <td>Autres</td>\n",
       "      <td>0.0</td>\n",
       "      <td>0.0</td>\n",
       "      <td>197.0</td>\n",
       "      <td>1.0</td>\n",
       "      <td>2018</td>\n",
       "      <td>1</td>\n",
       "    </tr>\n",
       "    <tr>\n",
       "      <th>11</th>\n",
       "      <td>67000.0</td>\n",
       "      <td>1000.0</td>\n",
       "      <td>BOURG-EN-BRESSE</td>\n",
       "      <td>53</td>\n",
       "      <td>1</td>\n",
       "      <td>Appartement</td>\n",
       "      <td>45.0</td>\n",
       "      <td>1.0</td>\n",
       "      <td>0.0</td>\n",
       "      <td>0.0</td>\n",
       "      <td>2018</td>\n",
       "      <td>1</td>\n",
       "    </tr>\n",
       "    <tr>\n",
       "      <th>12</th>\n",
       "      <td>76200.0</td>\n",
       "      <td>1000.0</td>\n",
       "      <td>BOURG-EN-BRESSE</td>\n",
       "      <td>53</td>\n",
       "      <td>2</td>\n",
       "      <td>Appartement</td>\n",
       "      <td>68.0</td>\n",
       "      <td>3.0</td>\n",
       "      <td>0.0</td>\n",
       "      <td>0.0</td>\n",
       "      <td>2018</td>\n",
       "      <td>1</td>\n",
       "    </tr>\n",
       "  </tbody>\n",
       "</table>\n",
       "</div>"
      ],
      "text/plain": [
       "    Valeur fonciere  Code postal                Commune  Code commune  \\\n",
       "7           90000.0       1380.0  SAINT-CYR-SUR-MENTHON           343   \n",
       "9            3150.0       1160.0             PONT-D AIN           304   \n",
       "10           2100.0       1250.0               JASSERON           195   \n",
       "11          67000.0       1000.0        BOURG-EN-BRESSE            53   \n",
       "12          76200.0       1000.0        BOURG-EN-BRESSE            53   \n",
       "\n",
       "    Nombre de lots   Type local  Surface reelle bati  \\\n",
       "7                0       Maison                150.0   \n",
       "9                0       Autres                  0.0   \n",
       "10               0       Autres                  0.0   \n",
       "11               1  Appartement                 45.0   \n",
       "12               2  Appartement                 68.0   \n",
       "\n",
       "    Nombre pieces principales  Surface terrain  exterieur  year  month  \n",
       "7                         3.0            347.0        1.0  2018      1  \n",
       "9                         0.0            126.0        1.0  2018      1  \n",
       "10                        0.0            197.0        1.0  2018      1  \n",
       "11                        1.0              0.0        0.0  2018      1  \n",
       "12                        3.0              0.0        0.0  2018      1  "
      ]
     },
     "execution_count": 115,
     "metadata": {},
     "output_type": "execute_result"
    }
   ],
   "source": [
    "df3.head()"
   ]
  },
  {
   "cell_type": "markdown",
   "metadata": {},
   "source": [
    "On récupère les différents quartiles pour pouvoir enlever les biens avec un prix anormalement hauts comparés aux autres biens. On calcule le rang interquartile. On détexte les biens ayant un prix supérieur au troisième quartile multiplié par 1.5 fois le rang interquartile"
   ]
  },
  {
   "cell_type": "code",
   "execution_count": 116,
   "metadata": {},
   "outputs": [],
   "source": [
    "# On récupère les différents quartiles pour pouvoir enlever les biens avec un prix anormalement hauts comparés aux autres biens.\n",
    "Q1, Q2, Q3 = df3['Valeur fonciere'].quantile([0.25, 0.5, 0.75])\n",
    "\n",
    "# On calcule le rang interquartile\n",
    "IQR = Q3-Q1"
   ]
  },
  {
   "cell_type": "code",
   "execution_count": 117,
   "metadata": {},
   "outputs": [
    {
     "data": {
      "text/plain": [
       "([<matplotlib.patches.Wedge at 0x22308f16a50>,\n",
       "  <matplotlib.patches.Wedge at 0x223fbad46b0>],\n",
       " [Text(-1.0828180000568592, 0.19366253833114905, ''),\n",
       "  Text(1.0828179932573603, -0.1936625763489254, '')],\n",
       " [Text(-0.590628000031014, 0.10563411181699038, '94%'),\n",
       "  Text(0.5906279963221964, -0.10563413255395929, '6%')])"
      ]
     },
     "execution_count": 117,
     "metadata": {},
     "output_type": "execute_result"
    },
    {
     "data": {
      "image/png": "[encoded data removed]",
      "text/plain": [
       "<Figure size 640x480 with 1 Axes>"
      ]
     },
     "metadata": {},
     "output_type": "display_data"
    }
   ],
   "source": [
    "# On détexte les biens ayant un prix supérieur au troisième quartile multiplié par 1.5 fois le rang interquartile\n",
    "outliers_max = df3[\"Valeur fonciere\"] > (Q3 + 1.5*(IQR))\n",
    "plt.pie(outliers_max.value_counts(), autopct='%.0f%%')"
   ]
  },
  {
   "cell_type": "code",
   "execution_count": 118,
   "metadata": {},
   "outputs": [
    {
     "data": {
      "text/plain": [
       "(4505856, 12)"
      ]
     },
     "execution_count": 118,
     "metadata": {},
     "output_type": "execute_result"
    }
   ],
   "source": [
    "df3.shape"
   ]
  },
  {
   "cell_type": "code",
   "execution_count": 119,
   "metadata": {},
   "outputs": [],
   "source": [
    "# On ne garde que les biens n'ayant pas un prix de vente anormalement haut.\n",
    "df3 = df3[df3[\"Valeur fonciere\"] < (Q3 + 1.5*(IQR))]"
   ]
  },
  {
   "cell_type": "markdown",
   "metadata": {},
   "source": [
    "## Liaison avec données des départements et communes"
   ]
  },
  {
   "cell_type": "markdown",
   "metadata": {},
   "source": [
    "On récupère la base de données des communes/département"
   ]
  },
  {
   "cell_type": "code",
   "execution_count": 120,
   "metadata": {},
   "outputs": [
    {
     "data": {
      "text/html": [
       "<div>\n",
       "<style scoped>\n",
       "    .dataframe tbody tr th:only-of-type {\n",
       "        vertical-align: middle;\n",
       "    }\n",
       "\n",
       "    .dataframe tbody tr th {\n",
       "        vertical-align: top;\n",
       "    }\n",
       "\n",
       "    .dataframe thead th {\n",
       "        text-align: right;\n",
       "    }\n",
       "</style>\n",
       "<table border=\"1\" class=\"dataframe\">\n",
       "  <thead>\n",
       "    <tr style=\"text-align: right;\">\n",
       "      <th></th>\n",
       "      <th>code_commune_INSEE</th>\n",
       "      <th>nom_commune_postal</th>\n",
       "      <th>code_postal</th>\n",
       "      <th>libelle_acheminement</th>\n",
       "      <th>ligne_5</th>\n",
       "      <th>latitude</th>\n",
       "      <th>longitude</th>\n",
       "      <th>code_commune</th>\n",
       "      <th>article</th>\n",
       "      <th>nom_commune</th>\n",
       "      <th>nom_commune_complet</th>\n",
       "      <th>code_departement</th>\n",
       "      <th>nom_departement</th>\n",
       "      <th>code_region</th>\n",
       "      <th>nom_region</th>\n",
       "    </tr>\n",
       "  </thead>\n",
       "  <tbody>\n",
       "    <tr>\n",
       "      <th>0</th>\n",
       "      <td>1001</td>\n",
       "      <td>L ABERGEMENT CLEMENCIAT</td>\n",
       "      <td>1400</td>\n",
       "      <td>L ABERGEMENT CLEMENCIAT</td>\n",
       "      <td>NaN</td>\n",
       "      <td>46.153426</td>\n",
       "      <td>4.926114</td>\n",
       "      <td>1.0</td>\n",
       "      <td>L'</td>\n",
       "      <td>Abergement-Clémenciat</td>\n",
       "      <td>L'Abergement-Clémenciat</td>\n",
       "      <td>1</td>\n",
       "      <td>Ain</td>\n",
       "      <td>84.0</td>\n",
       "      <td>Auvergne-Rhône-Alpes</td>\n",
       "    </tr>\n",
       "    <tr>\n",
       "      <th>1</th>\n",
       "      <td>1002</td>\n",
       "      <td>L ABERGEMENT DE VAREY</td>\n",
       "      <td>1640</td>\n",
       "      <td>L ABERGEMENT DE VAREY</td>\n",
       "      <td>NaN</td>\n",
       "      <td>46.009188</td>\n",
       "      <td>5.428017</td>\n",
       "      <td>2.0</td>\n",
       "      <td>L'</td>\n",
       "      <td>Abergement-de-Varey</td>\n",
       "      <td>L'Abergement-de-Varey</td>\n",
       "      <td>1</td>\n",
       "      <td>Ain</td>\n",
       "      <td>84.0</td>\n",
       "      <td>Auvergne-Rhône-Alpes</td>\n",
       "    </tr>\n",
       "    <tr>\n",
       "      <th>2</th>\n",
       "      <td>1004</td>\n",
       "      <td>AMBERIEU EN BUGEY</td>\n",
       "      <td>1500</td>\n",
       "      <td>AMBERIEU EN BUGEY</td>\n",
       "      <td>NaN</td>\n",
       "      <td>45.960848</td>\n",
       "      <td>5.372926</td>\n",
       "      <td>4.0</td>\n",
       "      <td>NaN</td>\n",
       "      <td>Ambérieu-en-Bugey</td>\n",
       "      <td>Ambérieu-en-Bugey</td>\n",
       "      <td>1</td>\n",
       "      <td>Ain</td>\n",
       "      <td>84.0</td>\n",
       "      <td>Auvergne-Rhône-Alpes</td>\n",
       "    </tr>\n",
       "    <tr>\n",
       "      <th>3</th>\n",
       "      <td>1005</td>\n",
       "      <td>AMBERIEUX EN DOMBES</td>\n",
       "      <td>1330</td>\n",
       "      <td>AMBERIEUX EN DOMBES</td>\n",
       "      <td>NaN</td>\n",
       "      <td>45.996180</td>\n",
       "      <td>4.912273</td>\n",
       "      <td>5.0</td>\n",
       "      <td>NaN</td>\n",
       "      <td>Ambérieux-en-Dombes</td>\n",
       "      <td>Ambérieux-en-Dombes</td>\n",
       "      <td>1</td>\n",
       "      <td>Ain</td>\n",
       "      <td>84.0</td>\n",
       "      <td>Auvergne-Rhône-Alpes</td>\n",
       "    </tr>\n",
       "    <tr>\n",
       "      <th>4</th>\n",
       "      <td>1006</td>\n",
       "      <td>AMBLEON</td>\n",
       "      <td>1300</td>\n",
       "      <td>AMBLEON</td>\n",
       "      <td>NaN</td>\n",
       "      <td>45.749499</td>\n",
       "      <td>5.594320</td>\n",
       "      <td>6.0</td>\n",
       "      <td>NaN</td>\n",
       "      <td>Ambléon</td>\n",
       "      <td>Ambléon</td>\n",
       "      <td>1</td>\n",
       "      <td>Ain</td>\n",
       "      <td>84.0</td>\n",
       "      <td>Auvergne-Rhône-Alpes</td>\n",
       "    </tr>\n",
       "  </tbody>\n",
       "</table>\n",
       "</div>"
      ],
      "text/plain": [
       "  code_commune_INSEE       nom_commune_postal  code_postal  \\\n",
       "0               1001  L ABERGEMENT CLEMENCIAT         1400   \n",
       "1               1002    L ABERGEMENT DE VAREY         1640   \n",
       "2               1004        AMBERIEU EN BUGEY         1500   \n",
       "3               1005      AMBERIEUX EN DOMBES         1330   \n",
       "4               1006                  AMBLEON         1300   \n",
       "\n",
       "      libelle_acheminement ligne_5   latitude  longitude  code_commune  \\\n",
       "0  L ABERGEMENT CLEMENCIAT     NaN  46.153426   4.926114           1.0   \n",
       "1    L ABERGEMENT DE VAREY     NaN  46.009188   5.428017           2.0   \n",
       "2        AMBERIEU EN BUGEY     NaN  45.960848   5.372926           4.0   \n",
       "3      AMBERIEUX EN DOMBES     NaN  45.996180   4.912273           5.0   \n",
       "4                  AMBLEON     NaN  45.749499   5.594320           6.0   \n",
       "\n",
       "  article            nom_commune      nom_commune_complet code_departement  \\\n",
       "0      L'  Abergement-Clémenciat  L'Abergement-Clémenciat                1   \n",
       "1      L'    Abergement-de-Varey    L'Abergement-de-Varey                1   \n",
       "2     NaN      Ambérieu-en-Bugey        Ambérieu-en-Bugey                1   \n",
       "3     NaN    Ambérieux-en-Dombes      Ambérieux-en-Dombes                1   \n",
       "4     NaN                Ambléon                  Ambléon                1   \n",
       "\n",
       "  nom_departement  code_region            nom_region  \n",
       "0             Ain         84.0  Auvergne-Rhône-Alpes  \n",
       "1             Ain         84.0  Auvergne-Rhône-Alpes  \n",
       "2             Ain         84.0  Auvergne-Rhône-Alpes  \n",
       "3             Ain         84.0  Auvergne-Rhône-Alpes  \n",
       "4             Ain         84.0  Auvergne-Rhône-Alpes  "
      ]
     },
     "execution_count": 120,
     "metadata": {},
     "output_type": "execute_result"
    }
   ],
   "source": [
    "# On récupère la base de données des communes/département\n",
    "departement = pd.read_csv(\"Data/communes-departement-region.csv\")\n",
    "departement.head()"
   ]
  },
  {
   "cell_type": "code",
   "execution_count": 121,
   "metadata": {},
   "outputs": [],
   "source": [
    "# On ne garde que les variables qui nous serviront à cartographier nos données\n",
    "departement  = departement.loc[:,[\"code_postal\", \"nom_commune\", \"nom_departement\",\"nom_region\", \"latitude\", \"longitude\"]]\n",
    "# On met en majuscule le nom des communes pour joindre les bases de données\n",
    "departement[\"nom_commune\"] = departement[\"nom_commune\"].str.upper()"
   ]
  },
  {
   "cell_type": "code",
   "execution_count": 122,
   "metadata": {},
   "outputs": [],
   "source": [
    "# On fait une jointure interne entre les deux bases de données\n",
    "df4  = pd.merge(df3, departement, left_on=['Commune', 'Code postal'], right_on=['nom_commune', 'code_postal'], how='inner')"
   ]
  },
  {
   "cell_type": "code",
   "execution_count": 123,
   "metadata": {},
   "outputs": [],
   "source": [
    "# On change le type de pièces principales pour la visualisation\n",
    "df4[\"Nombre pieces principales\"] = df4[\"Nombre pieces principales\"].astype(int)\n",
    "# On raccourcit le nom de ce type de local pour la visualisation\n",
    "df4.loc[df4[\"Type local\"] == 'Local industriel. commercial ou assimilé', \"Type local\"] = \"Local\""
   ]
  },
  {
   "cell_type": "code",
   "execution_count": 124,
   "metadata": {},
   "outputs": [
    {
     "data": {
      "text/plain": [
       "<Axes: xlabel='Surface terrain', ylabel='Valeur fonciere'>"
      ]
     },
     "execution_count": 124,
     "metadata": {},
     "output_type": "execute_result"
    },
    {
     "data": {
      "image/png": "[encoded data removed]",
      "text/plain": [
       "<Figure size 3000x1200 with 6 Axes>"
      ]
     },
     "metadata": {},
     "output_type": "display_data"
    }
   ],
   "source": [
    "fig, axes = plt.subplots(2, 3,figsize=(30,12))\n",
    "\n",
    "#create boxplot in each subplot\n",
    "sns.boxplot(data=df4, x=\"month\", y=\"Valeur fonciere\", ax=axes[0,0])\n",
    "sns.boxplot(data=df4, x=\"Type local\", y=\"Valeur fonciere\", ax=axes[0,1])\n",
    "sns.boxplot(data=df4, x=\"Nombre de lots\", y=\"Valeur fonciere\", ax=axes[0,2])\n",
    "sns.boxplot(data=df4, x=\"Nombre pieces principales\", y=\"Valeur fonciere\", ax=axes[1,0])\n",
    "sns.scatterplot(data=df4, x=\"Surface reelle bati\", y=\"Valeur fonciere\", ax=axes[1,1])\n",
    "sns.scatterplot(data=df4, x=\"Surface terrain\", y=\"Valeur fonciere\", ax=axes[1,2])"
   ]
  },
  {
   "cell_type": "code",
   "execution_count": 125,
   "metadata": {},
   "outputs": [],
   "source": [
    "month_dict_fr = {\n",
    "    1: 'Janvier',\n",
    "    2: 'Février',\n",
    "    3: 'Mars',\n",
    "    4: 'Avril',\n",
    "    5: 'Mai',\n",
    "    6: 'Juin',\n",
    "    7: 'Juillet',\n",
    "    8: 'Août',\n",
    "    9: 'Septembre',\n",
    "    10: 'Octobre',\n",
    "    11: 'Novembre',\n",
    "    12: 'Décembre'\n",
    "}\n"
   ]
  },
  {
   "cell_type": "code",
   "execution_count": 126,
   "metadata": {},
   "outputs": [],
   "source": [
    "df4[\"month\"] = [month_dict_fr[month] for month in df4[\"month\"]]"
   ]
  },
  {
   "cell_type": "code",
   "execution_count": 127,
   "metadata": {},
   "outputs": [
    {
     "data": {
      "text/html": [
       "<div>\n",
       "<style scoped>\n",
       "    .dataframe tbody tr th:only-of-type {\n",
       "        vertical-align: middle;\n",
       "    }\n",
       "\n",
       "    .dataframe tbody tr th {\n",
       "        vertical-align: top;\n",
       "    }\n",
       "\n",
       "    .dataframe thead th {\n",
       "        text-align: right;\n",
       "    }\n",
       "</style>\n",
       "<table border=\"1\" class=\"dataframe\">\n",
       "  <thead>\n",
       "    <tr style=\"text-align: right;\">\n",
       "      <th></th>\n",
       "      <th>Valeur fonciere</th>\n",
       "      <th>Code postal</th>\n",
       "      <th>Commune</th>\n",
       "      <th>Code commune</th>\n",
       "      <th>Nombre de lots</th>\n",
       "      <th>Type local</th>\n",
       "      <th>Surface reelle bati</th>\n",
       "      <th>Nombre pieces principales</th>\n",
       "      <th>Surface terrain</th>\n",
       "      <th>exterieur</th>\n",
       "      <th>year</th>\n",
       "      <th>month</th>\n",
       "      <th>code_postal</th>\n",
       "      <th>nom_commune</th>\n",
       "      <th>nom_departement</th>\n",
       "      <th>nom_region</th>\n",
       "      <th>latitude</th>\n",
       "      <th>longitude</th>\n",
       "    </tr>\n",
       "  </thead>\n",
       "  <tbody>\n",
       "    <tr>\n",
       "      <th>0</th>\n",
       "      <td>90000.0</td>\n",
       "      <td>1380.0</td>\n",
       "      <td>SAINT-CYR-SUR-MENTHON</td>\n",
       "      <td>343</td>\n",
       "      <td>0</td>\n",
       "      <td>Maison</td>\n",
       "      <td>150.0</td>\n",
       "      <td>3</td>\n",
       "      <td>347.0</td>\n",
       "      <td>1.0</td>\n",
       "      <td>2018</td>\n",
       "      <td>Janvier</td>\n",
       "      <td>1380</td>\n",
       "      <td>SAINT-CYR-SUR-MENTHON</td>\n",
       "      <td>Ain</td>\n",
       "      <td>Auvergne-Rhône-Alpes</td>\n",
       "      <td>46.275401</td>\n",
       "      <td>4.967571</td>\n",
       "    </tr>\n",
       "    <tr>\n",
       "      <th>1</th>\n",
       "      <td>7300.0</td>\n",
       "      <td>1380.0</td>\n",
       "      <td>SAINT-CYR-SUR-MENTHON</td>\n",
       "      <td>343</td>\n",
       "      <td>0</td>\n",
       "      <td>Autres</td>\n",
       "      <td>0.0</td>\n",
       "      <td>0</td>\n",
       "      <td>344.0</td>\n",
       "      <td>1.0</td>\n",
       "      <td>2018</td>\n",
       "      <td>Janvier</td>\n",
       "      <td>1380</td>\n",
       "      <td>SAINT-CYR-SUR-MENTHON</td>\n",
       "      <td>Ain</td>\n",
       "      <td>Auvergne-Rhône-Alpes</td>\n",
       "      <td>46.275401</td>\n",
       "      <td>4.967571</td>\n",
       "    </tr>\n",
       "    <tr>\n",
       "      <th>2</th>\n",
       "      <td>60000.0</td>\n",
       "      <td>1380.0</td>\n",
       "      <td>SAINT-CYR-SUR-MENTHON</td>\n",
       "      <td>343</td>\n",
       "      <td>0</td>\n",
       "      <td>Autres</td>\n",
       "      <td>0.0</td>\n",
       "      <td>0</td>\n",
       "      <td>210.0</td>\n",
       "      <td>1.0</td>\n",
       "      <td>2018</td>\n",
       "      <td>Janvier</td>\n",
       "      <td>1380</td>\n",
       "      <td>SAINT-CYR-SUR-MENTHON</td>\n",
       "      <td>Ain</td>\n",
       "      <td>Auvergne-Rhône-Alpes</td>\n",
       "      <td>46.275401</td>\n",
       "      <td>4.967571</td>\n",
       "    </tr>\n",
       "    <tr>\n",
       "      <th>3</th>\n",
       "      <td>60000.0</td>\n",
       "      <td>1380.0</td>\n",
       "      <td>SAINT-CYR-SUR-MENTHON</td>\n",
       "      <td>343</td>\n",
       "      <td>0</td>\n",
       "      <td>Autres</td>\n",
       "      <td>0.0</td>\n",
       "      <td>0</td>\n",
       "      <td>798.0</td>\n",
       "      <td>1.0</td>\n",
       "      <td>2018</td>\n",
       "      <td>Janvier</td>\n",
       "      <td>1380</td>\n",
       "      <td>SAINT-CYR-SUR-MENTHON</td>\n",
       "      <td>Ain</td>\n",
       "      <td>Auvergne-Rhône-Alpes</td>\n",
       "      <td>46.275401</td>\n",
       "      <td>4.967571</td>\n",
       "    </tr>\n",
       "    <tr>\n",
       "      <th>4</th>\n",
       "      <td>69000.0</td>\n",
       "      <td>1380.0</td>\n",
       "      <td>SAINT-CYR-SUR-MENTHON</td>\n",
       "      <td>343</td>\n",
       "      <td>0</td>\n",
       "      <td>Autres</td>\n",
       "      <td>0.0</td>\n",
       "      <td>0</td>\n",
       "      <td>979.0</td>\n",
       "      <td>1.0</td>\n",
       "      <td>2018</td>\n",
       "      <td>Février</td>\n",
       "      <td>1380</td>\n",
       "      <td>SAINT-CYR-SUR-MENTHON</td>\n",
       "      <td>Ain</td>\n",
       "      <td>Auvergne-Rhône-Alpes</td>\n",
       "      <td>46.275401</td>\n",
       "      <td>4.967571</td>\n",
       "    </tr>\n",
       "  </tbody>\n",
       "</table>\n",
       "</div>"
      ],
      "text/plain": [
       "   Valeur fonciere  Code postal                Commune  Code commune  \\\n",
       "0          90000.0       1380.0  SAINT-CYR-SUR-MENTHON           343   \n",
       "1           7300.0       1380.0  SAINT-CYR-SUR-MENTHON           343   \n",
       "2          60000.0       1380.0  SAINT-CYR-SUR-MENTHON           343   \n",
       "3          60000.0       1380.0  SAINT-CYR-SUR-MENTHON           343   \n",
       "4          69000.0       1380.0  SAINT-CYR-SUR-MENTHON           343   \n",
       "\n",
       "   Nombre de lots Type local  Surface reelle bati  Nombre pieces principales  \\\n",
       "0               0     Maison                150.0                          3   \n",
       "1               0     Autres                  0.0                          0   \n",
       "2               0     Autres                  0.0                          0   \n",
       "3               0     Autres                  0.0                          0   \n",
       "4               0     Autres                  0.0                          0   \n",
       "\n",
       "   Surface terrain  exterieur  year    month  code_postal  \\\n",
       "0            347.0        1.0  2018  Janvier         1380   \n",
       "1            344.0        1.0  2018  Janvier         1380   \n",
       "2            210.0        1.0  2018  Janvier         1380   \n",
       "3            798.0        1.0  2018  Janvier         1380   \n",
       "4            979.0        1.0  2018  Février         1380   \n",
       "\n",
       "             nom_commune nom_departement            nom_region   latitude  \\\n",
       "0  SAINT-CYR-SUR-MENTHON             Ain  Auvergne-Rhône-Alpes  46.275401   \n",
       "1  SAINT-CYR-SUR-MENTHON             Ain  Auvergne-Rhône-Alpes  46.275401   \n",
       "2  SAINT-CYR-SUR-MENTHON             Ain  Auvergne-Rhône-Alpes  46.275401   \n",
       "3  SAINT-CYR-SUR-MENTHON             Ain  Auvergne-Rhône-Alpes  46.275401   \n",
       "4  SAINT-CYR-SUR-MENTHON             Ain  Auvergne-Rhône-Alpes  46.275401   \n",
       "\n",
       "   longitude  \n",
       "0   4.967571  \n",
       "1   4.967571  \n",
       "2   4.967571  \n",
       "3   4.967571  \n",
       "4   4.967571  "
      ]
     },
     "execution_count": 127,
     "metadata": {},
     "output_type": "execute_result"
    }
   ],
   "source": [
    "df4.head()"
   ]
  },
  {
   "cell_type": "code",
   "execution_count": 128,
   "metadata": {},
   "outputs": [],
   "source": [
    "pivot_table = pd.pivot_table(df4, values='Valeur fonciere', index=['nom_region', 'nom_departement', 'year', 'month'], aggfunc='mean')\n",
    "pivot_table_df = pd.DataFrame(pivot_table).reset_index()\n",
    "\n",
    "pivot_table.to_csv('C:/Users/user/Documents/GitHub/immo_TD/table_croisee.csv')"
   ]
  },
  {
   "cell_type": "code",
   "execution_count": 129,
   "metadata": {},
   "outputs": [],
   "source": [
    "order_month = ['Janvier', 'Février', 'Mars', 'Avril', 'Mai', 'Juin', 'Juillet', 'Août', 'Septembre', 'Octobre', 'Novembre', 'Décembre']\n"
   ]
  },
  {
   "cell_type": "markdown",
   "metadata": {},
   "source": [
    "Sur ce graphique , on peut observer la variation de la valeur foncière tout au long de l'année."
   ]
  },
  {
   "cell_type": "code",
   "execution_count": null,
   "metadata": {},
   "outputs": [],
   "source": [
    "import nbformat\n",
    "fig = px.box(df4, x=\"month\", y=\"Valeur fonciere\", category_orders={'month': order_month}, color=\"month\")\n",
    "\n",
    "fig.show()"
   ]
  },
  {
   "cell_type": "code",
   "execution_count": 131,
   "metadata": {},
   "outputs": [
    {
     "data": {
      "text/html": [
       "<div>\n",
       "<style scoped>\n",
       "    .dataframe tbody tr th:only-of-type {\n",
       "        vertical-align: middle;\n",
       "    }\n",
       "\n",
       "    .dataframe tbody tr th {\n",
       "        vertical-align: top;\n",
       "    }\n",
       "\n",
       "    .dataframe thead th {\n",
       "        text-align: right;\n",
       "    }\n",
       "</style>\n",
       "<table border=\"1\" class=\"dataframe\">\n",
       "  <thead>\n",
       "    <tr style=\"text-align: right;\">\n",
       "      <th></th>\n",
       "      <th>nom_departement</th>\n",
       "      <th>month</th>\n",
       "      <th>Valeur fonciere</th>\n",
       "    </tr>\n",
       "  </thead>\n",
       "  <tbody>\n",
       "    <tr>\n",
       "      <th>0</th>\n",
       "      <td>Ain</td>\n",
       "      <td>Août</td>\n",
       "      <td>163701.393680</td>\n",
       "    </tr>\n",
       "    <tr>\n",
       "      <th>1</th>\n",
       "      <td>Ain</td>\n",
       "      <td>Avril</td>\n",
       "      <td>143599.392546</td>\n",
       "    </tr>\n",
       "    <tr>\n",
       "      <th>2</th>\n",
       "      <td>Ain</td>\n",
       "      <td>Décembre</td>\n",
       "      <td>138901.500705</td>\n",
       "    </tr>\n",
       "    <tr>\n",
       "      <th>3</th>\n",
       "      <td>Ain</td>\n",
       "      <td>Février</td>\n",
       "      <td>136412.926154</td>\n",
       "    </tr>\n",
       "    <tr>\n",
       "      <th>4</th>\n",
       "      <td>Ain</td>\n",
       "      <td>Janvier</td>\n",
       "      <td>140093.377314</td>\n",
       "    </tr>\n",
       "    <tr>\n",
       "      <th>...</th>\n",
       "      <td>...</td>\n",
       "      <td>...</td>\n",
       "      <td>...</td>\n",
       "    </tr>\n",
       "    <tr>\n",
       "      <th>1159</th>\n",
       "      <td>Yvelines</td>\n",
       "      <td>Mai</td>\n",
       "      <td>224805.868248</td>\n",
       "    </tr>\n",
       "    <tr>\n",
       "      <th>1160</th>\n",
       "      <td>Yvelines</td>\n",
       "      <td>Mars</td>\n",
       "      <td>212466.261230</td>\n",
       "    </tr>\n",
       "    <tr>\n",
       "      <th>1161</th>\n",
       "      <td>Yvelines</td>\n",
       "      <td>Novembre</td>\n",
       "      <td>215346.613407</td>\n",
       "    </tr>\n",
       "    <tr>\n",
       "      <th>1162</th>\n",
       "      <td>Yvelines</td>\n",
       "      <td>Octobre</td>\n",
       "      <td>223668.854705</td>\n",
       "    </tr>\n",
       "    <tr>\n",
       "      <th>1163</th>\n",
       "      <td>Yvelines</td>\n",
       "      <td>Septembre</td>\n",
       "      <td>228101.446122</td>\n",
       "    </tr>\n",
       "  </tbody>\n",
       "</table>\n",
       "<p>1164 rows × 3 columns</p>\n",
       "</div>"
      ],
      "text/plain": [
       "     nom_departement      month  Valeur fonciere\n",
       "0                Ain       Août    163701.393680\n",
       "1                Ain      Avril    143599.392546\n",
       "2                Ain   Décembre    138901.500705\n",
       "3                Ain    Février    136412.926154\n",
       "4                Ain    Janvier    140093.377314\n",
       "...              ...        ...              ...\n",
       "1159        Yvelines        Mai    224805.868248\n",
       "1160        Yvelines       Mars    212466.261230\n",
       "1161        Yvelines   Novembre    215346.613407\n",
       "1162        Yvelines    Octobre    223668.854705\n",
       "1163        Yvelines  Septembre    228101.446122\n",
       "\n",
       "[1164 rows x 3 columns]"
      ]
     },
     "execution_count": 131,
     "metadata": {},
     "output_type": "execute_result"
    }
   ],
   "source": [
    "pivot_departement = df4.pivot_table(index=[\"nom_departement\",\"month\"], values=\"Valeur fonciere\", aggfunc=\"mean\").reset_index()\n",
    "pivot_departement"
   ]
  },
  {
   "cell_type": "code",
   "execution_count": 132,
   "metadata": {},
   "outputs": [],
   "source": [
    "months_order = ['Janvier', 'Février', 'Mars', 'Avril', 'Mai', 'Juin', 'Juillet', 'Août', 'Septembre', 'Octobre', 'Novembre', 'Décembre']\n",
    "\n",
    "# Create a categorical data type with the order of months\n",
    "month_cat = pd.CategoricalDtype(categories=months_order, ordered=True)\n",
    "\n",
    "# Convert the 'month' column to the categorical data type\n",
    "pivot_departement['month'] = pivot_departement['month'].astype(month_cat)\n",
    "\n",
    "# Now sort by the 'month' column\n",
    "pivot_departement = pivot_departement.sort_values(by='month')"
   ]
  },
  {
   "cell_type": "markdown",
   "metadata": {},
   "source": [
    "Sur ce graphique , on peut observer la variation de la valeur foncière en fonction du département."
   ]
  },
  {
   "cell_type": "code",
   "execution_count": null,
   "metadata": {},
   "outputs": [],
   "source": [
    "fig = px.line(pivot_departement, x=\"month\", y=\"Valeur fonciere\", color='nom_departement')\n",
    "fig.show()"
   ]
  },
  {
   "cell_type": "code",
   "execution_count": 134,
   "metadata": {},
   "outputs": [],
   "source": [
    "pivot_region = df4.pivot_table(index=[\"nom_region\",\"month\"], values=\"Valeur fonciere\", aggfunc=\"mean\").reset_index()\n",
    "\n",
    "# Convert the 'month' column to the categorical data type\n",
    "pivot_region['month'] = pivot_region['month'].astype(month_cat)\n",
    "\n",
    "# Now sort by the 'month' column\n",
    "pivot_region = pivot_region.sort_values(by='month')"
   ]
  },
  {
   "cell_type": "markdown",
   "metadata": {},
   "source": [
    "Sur ce graphique , on peut observer la variation de la valeur foncière en fonction de la région."
   ]
  },
  {
   "cell_type": "code",
   "execution_count": null,
   "metadata": {},
   "outputs": [],
   "source": [
    "\n",
    "fig = px.line(pivot_region, x=\"month\", y=\"Valeur fonciere\", color='nom_region')\n",
    "fig.show()"
   ]
  },
  {
   "cell_type": "markdown",
   "metadata": {},
   "source": [
    "# Map"
   ]
  },
  {
   "cell_type": "code",
   "execution_count": 136,
   "metadata": {},
   "outputs": [
    {
     "data": {
      "text/html": [
       "<div>\n",
       "<style scoped>\n",
       "    .dataframe tbody tr th:only-of-type {\n",
       "        vertical-align: middle;\n",
       "    }\n",
       "\n",
       "    .dataframe tbody tr th {\n",
       "        vertical-align: top;\n",
       "    }\n",
       "\n",
       "    .dataframe thead th {\n",
       "        text-align: right;\n",
       "    }\n",
       "</style>\n",
       "<table border=\"1\" class=\"dataframe\">\n",
       "  <thead>\n",
       "    <tr style=\"text-align: right;\">\n",
       "      <th></th>\n",
       "      <th>Valeur fonciere</th>\n",
       "      <th>Code postal</th>\n",
       "      <th>Commune</th>\n",
       "      <th>Code commune</th>\n",
       "      <th>Nombre de lots</th>\n",
       "      <th>Type local</th>\n",
       "      <th>Surface reelle bati</th>\n",
       "      <th>Nombre pieces principales</th>\n",
       "      <th>Surface terrain</th>\n",
       "      <th>exterieur</th>\n",
       "      <th>year</th>\n",
       "      <th>month</th>\n",
       "      <th>code_postal</th>\n",
       "      <th>nom_commune</th>\n",
       "      <th>nom_departement</th>\n",
       "      <th>nom_region</th>\n",
       "      <th>latitude</th>\n",
       "      <th>longitude</th>\n",
       "    </tr>\n",
       "  </thead>\n",
       "  <tbody>\n",
       "    <tr>\n",
       "      <th>0</th>\n",
       "      <td>90000.0</td>\n",
       "      <td>1380.0</td>\n",
       "      <td>SAINT-CYR-SUR-MENTHON</td>\n",
       "      <td>343</td>\n",
       "      <td>0</td>\n",
       "      <td>Maison</td>\n",
       "      <td>150.0</td>\n",
       "      <td>3</td>\n",
       "      <td>347.0</td>\n",
       "      <td>1.0</td>\n",
       "      <td>2018</td>\n",
       "      <td>Janvier</td>\n",
       "      <td>1380</td>\n",
       "      <td>SAINT-CYR-SUR-MENTHON</td>\n",
       "      <td>Ain</td>\n",
       "      <td>Auvergne-Rhône-Alpes</td>\n",
       "      <td>46.275401</td>\n",
       "      <td>4.967571</td>\n",
       "    </tr>\n",
       "    <tr>\n",
       "      <th>1</th>\n",
       "      <td>7300.0</td>\n",
       "      <td>1380.0</td>\n",
       "      <td>SAINT-CYR-SUR-MENTHON</td>\n",
       "      <td>343</td>\n",
       "      <td>0</td>\n",
       "      <td>Autres</td>\n",
       "      <td>0.0</td>\n",
       "      <td>0</td>\n",
       "      <td>344.0</td>\n",
       "      <td>1.0</td>\n",
       "      <td>2018</td>\n",
       "      <td>Janvier</td>\n",
       "      <td>1380</td>\n",
       "      <td>SAINT-CYR-SUR-MENTHON</td>\n",
       "      <td>Ain</td>\n",
       "      <td>Auvergne-Rhône-Alpes</td>\n",
       "      <td>46.275401</td>\n",
       "      <td>4.967571</td>\n",
       "    </tr>\n",
       "    <tr>\n",
       "      <th>2</th>\n",
       "      <td>60000.0</td>\n",
       "      <td>1380.0</td>\n",
       "      <td>SAINT-CYR-SUR-MENTHON</td>\n",
       "      <td>343</td>\n",
       "      <td>0</td>\n",
       "      <td>Autres</td>\n",
       "      <td>0.0</td>\n",
       "      <td>0</td>\n",
       "      <td>210.0</td>\n",
       "      <td>1.0</td>\n",
       "      <td>2018</td>\n",
       "      <td>Janvier</td>\n",
       "      <td>1380</td>\n",
       "      <td>SAINT-CYR-SUR-MENTHON</td>\n",
       "      <td>Ain</td>\n",
       "      <td>Auvergne-Rhône-Alpes</td>\n",
       "      <td>46.275401</td>\n",
       "      <td>4.967571</td>\n",
       "    </tr>\n",
       "    <tr>\n",
       "      <th>3</th>\n",
       "      <td>60000.0</td>\n",
       "      <td>1380.0</td>\n",
       "      <td>SAINT-CYR-SUR-MENTHON</td>\n",
       "      <td>343</td>\n",
       "      <td>0</td>\n",
       "      <td>Autres</td>\n",
       "      <td>0.0</td>\n",
       "      <td>0</td>\n",
       "      <td>798.0</td>\n",
       "      <td>1.0</td>\n",
       "      <td>2018</td>\n",
       "      <td>Janvier</td>\n",
       "      <td>1380</td>\n",
       "      <td>SAINT-CYR-SUR-MENTHON</td>\n",
       "      <td>Ain</td>\n",
       "      <td>Auvergne-Rhône-Alpes</td>\n",
       "      <td>46.275401</td>\n",
       "      <td>4.967571</td>\n",
       "    </tr>\n",
       "    <tr>\n",
       "      <th>4</th>\n",
       "      <td>69000.0</td>\n",
       "      <td>1380.0</td>\n",
       "      <td>SAINT-CYR-SUR-MENTHON</td>\n",
       "      <td>343</td>\n",
       "      <td>0</td>\n",
       "      <td>Autres</td>\n",
       "      <td>0.0</td>\n",
       "      <td>0</td>\n",
       "      <td>979.0</td>\n",
       "      <td>1.0</td>\n",
       "      <td>2018</td>\n",
       "      <td>Février</td>\n",
       "      <td>1380</td>\n",
       "      <td>SAINT-CYR-SUR-MENTHON</td>\n",
       "      <td>Ain</td>\n",
       "      <td>Auvergne-Rhône-Alpes</td>\n",
       "      <td>46.275401</td>\n",
       "      <td>4.967571</td>\n",
       "    </tr>\n",
       "  </tbody>\n",
       "</table>\n",
       "</div>"
      ],
      "text/plain": [
       "   Valeur fonciere  Code postal                Commune  Code commune  \\\n",
       "0          90000.0       1380.0  SAINT-CYR-SUR-MENTHON           343   \n",
       "1           7300.0       1380.0  SAINT-CYR-SUR-MENTHON           343   \n",
       "2          60000.0       1380.0  SAINT-CYR-SUR-MENTHON           343   \n",
       "3          60000.0       1380.0  SAINT-CYR-SUR-MENTHON           343   \n",
       "4          69000.0       1380.0  SAINT-CYR-SUR-MENTHON           343   \n",
       "\n",
       "   Nombre de lots Type local  Surface reelle bati  Nombre pieces principales  \\\n",
       "0               0     Maison                150.0                          3   \n",
       "1               0     Autres                  0.0                          0   \n",
       "2               0     Autres                  0.0                          0   \n",
       "3               0     Autres                  0.0                          0   \n",
       "4               0     Autres                  0.0                          0   \n",
       "\n",
       "   Surface terrain  exterieur  year    month  code_postal  \\\n",
       "0            347.0        1.0  2018  Janvier         1380   \n",
       "1            344.0        1.0  2018  Janvier         1380   \n",
       "2            210.0        1.0  2018  Janvier         1380   \n",
       "3            798.0        1.0  2018  Janvier         1380   \n",
       "4            979.0        1.0  2018  Février         1380   \n",
       "\n",
       "             nom_commune nom_departement            nom_region   latitude  \\\n",
       "0  SAINT-CYR-SUR-MENTHON             Ain  Auvergne-Rhône-Alpes  46.275401   \n",
       "1  SAINT-CYR-SUR-MENTHON             Ain  Auvergne-Rhône-Alpes  46.275401   \n",
       "2  SAINT-CYR-SUR-MENTHON             Ain  Auvergne-Rhône-Alpes  46.275401   \n",
       "3  SAINT-CYR-SUR-MENTHON             Ain  Auvergne-Rhône-Alpes  46.275401   \n",
       "4  SAINT-CYR-SUR-MENTHON             Ain  Auvergne-Rhône-Alpes  46.275401   \n",
       "\n",
       "   longitude  \n",
       "0   4.967571  \n",
       "1   4.967571  \n",
       "2   4.967571  \n",
       "3   4.967571  \n",
       "4   4.967571  "
      ]
     },
     "execution_count": 136,
     "metadata": {},
     "output_type": "execute_result"
    }
   ],
   "source": [
    "df4.head()"
   ]
  },
  {
   "cell_type": "code",
   "execution_count": 137,
   "metadata": {},
   "outputs": [
    {
     "data": {
      "text/html": [
       "<div>\n",
       "<style scoped>\n",
       "    .dataframe tbody tr th:only-of-type {\n",
       "        vertical-align: middle;\n",
       "    }\n",
       "\n",
       "    .dataframe tbody tr th {\n",
       "        vertical-align: top;\n",
       "    }\n",
       "\n",
       "    .dataframe thead th {\n",
       "        text-align: right;\n",
       "    }\n",
       "</style>\n",
       "<table border=\"1\" class=\"dataframe\">\n",
       "  <thead>\n",
       "    <tr style=\"text-align: right;\">\n",
       "      <th></th>\n",
       "      <th>longitude</th>\n",
       "      <th>latitude</th>\n",
       "      <th>Valeur fonciere</th>\n",
       "    </tr>\n",
       "  </thead>\n",
       "  <tbody>\n",
       "    <tr>\n",
       "      <th>0</th>\n",
       "      <td>-61.779579</td>\n",
       "      <td>16.303798</td>\n",
       "      <td>146256.557101</td>\n",
       "    </tr>\n",
       "    <tr>\n",
       "      <th>1</th>\n",
       "      <td>-61.754179</td>\n",
       "      <td>16.143722</td>\n",
       "      <td>142566.181338</td>\n",
       "    </tr>\n",
       "    <tr>\n",
       "      <th>2</th>\n",
       "      <td>-61.719296</td>\n",
       "      <td>16.045514</td>\n",
       "      <td>113274.779744</td>\n",
       "    </tr>\n",
       "    <tr>\n",
       "      <th>3</th>\n",
       "      <td>-61.690102</td>\n",
       "      <td>16.033779</td>\n",
       "      <td>159319.548957</td>\n",
       "    </tr>\n",
       "    <tr>\n",
       "      <th>4</th>\n",
       "      <td>-61.686418</td>\n",
       "      <td>15.993902</td>\n",
       "      <td>155072.902439</td>\n",
       "    </tr>\n",
       "    <tr>\n",
       "      <th>...</th>\n",
       "      <td>...</td>\n",
       "      <td>...</td>\n",
       "      <td>...</td>\n",
       "    </tr>\n",
       "    <tr>\n",
       "      <th>21510</th>\n",
       "      <td>55.421339</td>\n",
       "      <td>-21.233927</td>\n",
       "      <td>142396.880427</td>\n",
       "    </tr>\n",
       "    <tr>\n",
       "      <th>21511</th>\n",
       "      <td>55.458604</td>\n",
       "      <td>-21.144166</td>\n",
       "      <td>100545.672000</td>\n",
       "    </tr>\n",
       "    <tr>\n",
       "      <th>21512</th>\n",
       "      <td>55.508238</td>\n",
       "      <td>-21.046919</td>\n",
       "      <td>73868.957059</td>\n",
       "    </tr>\n",
       "    <tr>\n",
       "      <th>21513</th>\n",
       "      <td>55.619585</td>\n",
       "      <td>-21.023328</td>\n",
       "      <td>137034.653746</td>\n",
       "    </tr>\n",
       "    <tr>\n",
       "      <th>21514</th>\n",
       "      <td>55.642069</td>\n",
       "      <td>-21.306355</td>\n",
       "      <td>130689.673644</td>\n",
       "    </tr>\n",
       "  </tbody>\n",
       "</table>\n",
       "<p>21515 rows × 3 columns</p>\n",
       "</div>"
      ],
      "text/plain": [
       "       longitude   latitude  Valeur fonciere\n",
       "0     -61.779579  16.303798    146256.557101\n",
       "1     -61.754179  16.143722    142566.181338\n",
       "2     -61.719296  16.045514    113274.779744\n",
       "3     -61.690102  16.033779    159319.548957\n",
       "4     -61.686418  15.993902    155072.902439\n",
       "...          ...        ...              ...\n",
       "21510  55.421339 -21.233927    142396.880427\n",
       "21511  55.458604 -21.144166    100545.672000\n",
       "21512  55.508238 -21.046919     73868.957059\n",
       "21513  55.619585 -21.023328    137034.653746\n",
       "21514  55.642069 -21.306355    130689.673644\n",
       "\n",
       "[21515 rows x 3 columns]"
      ]
     },
     "execution_count": 137,
     "metadata": {},
     "output_type": "execute_result"
    }
   ],
   "source": [
    "mean_values = pd.pivot_table(data=df4, index=[\"longitude\", \"latitude\"], values=\"Valeur fonciere\", aggfunc=\"mean\")\n",
    "mean_values = mean_values.reset_index()\n",
    "mean_values"
   ]
  },
  {
   "cell_type": "code",
   "execution_count": 138,
   "metadata": {},
   "outputs": [
    {
     "data": {
      "text/html": [
       "<div>\n",
       "<style scoped>\n",
       "    .dataframe tbody tr th:only-of-type {\n",
       "        vertical-align: middle;\n",
       "    }\n",
       "\n",
       "    .dataframe tbody tr th {\n",
       "        vertical-align: top;\n",
       "    }\n",
       "\n",
       "    .dataframe thead th {\n",
       "        text-align: right;\n",
       "    }\n",
       "</style>\n",
       "<table border=\"1\" class=\"dataframe\">\n",
       "  <thead>\n",
       "    <tr style=\"text-align: right;\">\n",
       "      <th></th>\n",
       "      <th>longitude</th>\n",
       "      <th>latitude</th>\n",
       "      <th>Valeur fonciere</th>\n",
       "    </tr>\n",
       "  </thead>\n",
       "  <tbody>\n",
       "    <tr>\n",
       "      <th>0</th>\n",
       "      <td>-61.779579</td>\n",
       "      <td>16.303798</td>\n",
       "      <td>146256.557101</td>\n",
       "    </tr>\n",
       "    <tr>\n",
       "      <th>1</th>\n",
       "      <td>-61.754179</td>\n",
       "      <td>16.143722</td>\n",
       "      <td>142566.181338</td>\n",
       "    </tr>\n",
       "    <tr>\n",
       "      <th>2</th>\n",
       "      <td>-61.719296</td>\n",
       "      <td>16.045514</td>\n",
       "      <td>113274.779744</td>\n",
       "    </tr>\n",
       "    <tr>\n",
       "      <th>3</th>\n",
       "      <td>-61.690102</td>\n",
       "      <td>16.033779</td>\n",
       "      <td>159319.548957</td>\n",
       "    </tr>\n",
       "    <tr>\n",
       "      <th>4</th>\n",
       "      <td>-61.686418</td>\n",
       "      <td>15.993902</td>\n",
       "      <td>155072.902439</td>\n",
       "    </tr>\n",
       "  </tbody>\n",
       "</table>\n",
       "</div>"
      ],
      "text/plain": [
       "   longitude   latitude  Valeur fonciere\n",
       "0 -61.779579  16.303798    146256.557101\n",
       "1 -61.754179  16.143722    142566.181338\n",
       "2 -61.719296  16.045514    113274.779744\n",
       "3 -61.690102  16.033779    159319.548957\n",
       "4 -61.686418  15.993902    155072.902439"
      ]
     },
     "execution_count": 138,
     "metadata": {},
     "output_type": "execute_result"
    }
   ],
   "source": [
    "mean_values.head()"
   ]
  },
  {
   "cell_type": "code",
   "execution_count": 139,
   "metadata": {},
   "outputs": [
    {
     "data": {
      "text/plain": [
       "<Axes: ylabel='Frequency'>"
      ]
     },
     "execution_count": 139,
     "metadata": {},
     "output_type": "execute_result"
    },
    {
     "data": {
      "image/png": "[encoded data removed]",
      "text/plain": [
       "<Figure size 640x480 with 1 Axes>"
      ]
     },
     "metadata": {},
     "output_type": "display_data"
    }
   ],
   "source": [
    "mean_values['normalized_value'] = (mean_values['Valeur fonciere'] -mean_values['Valeur fonciere'].min()) / (mean_values['Valeur fonciere'].max() - mean_values['Valeur fonciere'].min())\n",
    "mean_values['normalized_value'].plot.hist(bins=30, alpha=0.5)\n"
   ]
  },
  {
   "cell_type": "markdown",
   "metadata": {},
   "source": [
    "Voici la carte de la france avec un degradé de couleur suivant la valeur foncière, on observe logiquement que l'ile de la france et les plus grandes villes possèdent la valeur foncière la plus haute."
   ]
  },
  {
   "cell_type": "code",
   "execution_count": null,
   "metadata": {},
   "outputs": [],
   "source": [
    "fig = px.scatter_geo(mean_values,\n",
    "                     lat='latitude',\n",
    "                     lon='longitude',\n",
    "                     scope='europe', \n",
    "                    color='Valeur fonciere',\n",
    "                     color_continuous_scale='Inferno',\n",
    "                     # Centré sur la france\n",
    "                     center=dict(lat=46.26, lon=2.52),\n",
    "                     # Normalisé car doit être en 0 et 1\n",
    "                     opacity=mean_values[\"normalized_value\"])\n",
    "\n",
    "#On update la map pour la centrer sur la france\n",
    "fig.update_layout(\n",
    "    autosize=True,\n",
    "    height=600,\n",
    "    geo=dict(\n",
    "        center=dict(\n",
    "            lat=46.26,\n",
    "            lon=2.52\n",
    "        ),\n",
    "        scope='europe',\n",
    "        projection_scale=6\n",
    "    )\n",
    ")\n",
    "fig.show()"
   ]
  },
  {
   "cell_type": "markdown",
   "metadata": {},
   "source": [
    "### Polygons de DataGouv: https://www.data.gouv.fr/fr/datasets/contours-des-communes-de-france-simplifie-avec-regions-et-departement-doutre-mer-rapproches/"
   ]
  },
  {
   "cell_type": "code",
   "execution_count": 141,
   "metadata": {},
   "outputs": [],
   "source": [
    "import json"
   ]
  },
  {
   "cell_type": "code",
   "execution_count": 142,
   "metadata": {},
   "outputs": [
    {
     "data": {
      "text/html": [
       "<div>\n",
       "<style scoped>\n",
       "    .dataframe tbody tr th:only-of-type {\n",
       "        vertical-align: middle;\n",
       "    }\n",
       "\n",
       "    .dataframe tbody tr th {\n",
       "        vertical-align: top;\n",
       "    }\n",
       "\n",
       "    .dataframe thead th {\n",
       "        text-align: right;\n",
       "    }\n",
       "</style>\n",
       "<table border=\"1\" class=\"dataframe\">\n",
       "  <thead>\n",
       "    <tr style=\"text-align: right;\">\n",
       "      <th></th>\n",
       "      <th>nom_region</th>\n",
       "      <th>Valeur fonciere</th>\n",
       "    </tr>\n",
       "  </thead>\n",
       "  <tbody>\n",
       "    <tr>\n",
       "      <th>0</th>\n",
       "      <td>Auvergne-Rhône-Alpes</td>\n",
       "      <td>140339.636889</td>\n",
       "    </tr>\n",
       "    <tr>\n",
       "      <th>1</th>\n",
       "      <td>Bourgogne-Franche-Comté</td>\n",
       "      <td>93709.791664</td>\n",
       "    </tr>\n",
       "    <tr>\n",
       "      <th>2</th>\n",
       "      <td>Bretagne</td>\n",
       "      <td>134788.434725</td>\n",
       "    </tr>\n",
       "    <tr>\n",
       "      <th>3</th>\n",
       "      <td>Centre-Val de Loire</td>\n",
       "      <td>108479.394553</td>\n",
       "    </tr>\n",
       "    <tr>\n",
       "      <th>4</th>\n",
       "      <td>Corse</td>\n",
       "      <td>142444.630483</td>\n",
       "    </tr>\n",
       "    <tr>\n",
       "      <th>5</th>\n",
       "      <td>Grand Est</td>\n",
       "      <td>99314.216636</td>\n",
       "    </tr>\n",
       "    <tr>\n",
       "      <th>6</th>\n",
       "      <td>Guadeloupe</td>\n",
       "      <td>134420.680600</td>\n",
       "    </tr>\n",
       "    <tr>\n",
       "      <th>7</th>\n",
       "      <td>Guyane</td>\n",
       "      <td>134975.596933</td>\n",
       "    </tr>\n",
       "    <tr>\n",
       "      <th>8</th>\n",
       "      <td>Hauts-de-France</td>\n",
       "      <td>131574.359498</td>\n",
       "    </tr>\n",
       "    <tr>\n",
       "      <th>9</th>\n",
       "      <td>La Réunion</td>\n",
       "      <td>163072.696808</td>\n",
       "    </tr>\n",
       "    <tr>\n",
       "      <th>10</th>\n",
       "      <td>Martinique</td>\n",
       "      <td>137051.288972</td>\n",
       "    </tr>\n",
       "    <tr>\n",
       "      <th>11</th>\n",
       "      <td>Normandie</td>\n",
       "      <td>115077.312400</td>\n",
       "    </tr>\n",
       "    <tr>\n",
       "      <th>12</th>\n",
       "      <td>Nouvelle-Aquitaine</td>\n",
       "      <td>125199.573242</td>\n",
       "    </tr>\n",
       "    <tr>\n",
       "      <th>13</th>\n",
       "      <td>Occitanie</td>\n",
       "      <td>126237.989767</td>\n",
       "    </tr>\n",
       "    <tr>\n",
       "      <th>14</th>\n",
       "      <td>Pays de la Loire</td>\n",
       "      <td>131551.883294</td>\n",
       "    </tr>\n",
       "    <tr>\n",
       "      <th>15</th>\n",
       "      <td>Provence-Alpes-Côte d'Azur</td>\n",
       "      <td>166612.142019</td>\n",
       "    </tr>\n",
       "    <tr>\n",
       "      <th>16</th>\n",
       "      <td>Île-de-France</td>\n",
       "      <td>219444.504985</td>\n",
       "    </tr>\n",
       "  </tbody>\n",
       "</table>\n",
       "</div>"
      ],
      "text/plain": [
       "                    nom_region  Valeur fonciere\n",
       "0         Auvergne-Rhône-Alpes    140339.636889\n",
       "1      Bourgogne-Franche-Comté     93709.791664\n",
       "2                     Bretagne    134788.434725\n",
       "3          Centre-Val de Loire    108479.394553\n",
       "4                        Corse    142444.630483\n",
       "5                    Grand Est     99314.216636\n",
       "6                   Guadeloupe    134420.680600\n",
       "7                       Guyane    134975.596933\n",
       "8              Hauts-de-France    131574.359498\n",
       "9                   La Réunion    163072.696808\n",
       "10                  Martinique    137051.288972\n",
       "11                   Normandie    115077.312400\n",
       "12          Nouvelle-Aquitaine    125199.573242\n",
       "13                   Occitanie    126237.989767\n",
       "14            Pays de la Loire    131551.883294\n",
       "15  Provence-Alpes-Côte d'Azur    166612.142019\n",
       "16               Île-de-France    219444.504985"
      ]
     },
     "execution_count": 142,
     "metadata": {},
     "output_type": "execute_result"
    }
   ],
   "source": [
    "mean_values_json = pd.pivot_table(data=df4, index=[\"nom_region\"], values=\"Valeur fonciere\", aggfunc=\"mean\")\n",
    "mean_values_json = mean_values_json.reset_index()\n",
    "mean_values_json"
   ]
  },
  {
   "cell_type": "code",
   "execution_count": 143,
   "metadata": {},
   "outputs": [],
   "source": [
    "mean_values_json.loc[mean_values_json[\"nom_region\"] == \"Nouvelle-Aquitaine\", \"nom_region\"] = \"Nouvelle Aquitaine\"\n",
    "mean_values_json.loc[mean_values_json[\"nom_region\"] == \"Grand Est\", \"nom_region\"] = \"Grand-Est\""
   ]
  },
  {
   "cell_type": "code",
   "execution_count": 144,
   "metadata": {},
   "outputs": [],
   "source": [
    "with open(\"Data/regions.json\", \"r\") as file:\n",
    "    regions_data = json.load(file)"
   ]
  },
  {
   "cell_type": "markdown",
   "metadata": {},
   "source": [
    "La carte de la France correspondant à la  valeur foncière moyenne par région"
   ]
  },
  {
   "cell_type": "code",
   "execution_count": null,
   "metadata": {},
   "outputs": [],
   "source": [
    "# Create the choropleth map\n",
    "fig = px.choropleth(\n",
    "    mean_values_json,  # replace df with your DataFrame\n",
    "    geojson=regions_data,\n",
    "    locations='nom_region',  # replace 'id' with the column name containing the regions' ids\n",
    "    color='Valeur fonciere',  # replace 'value' with the column name containing the values you want to plot\n",
    "    color_continuous_scale='Inferno',\n",
    "    featureidkey=\"properties.libgeo\",  # replace 'properties.id' with the path to the ids in the geojson\n",
    "    range_color=[100000, 250000]\n",
    ")\n",
    "\n",
    "# Update the geos layout to focus on France\n",
    "fig.update_geos(\n",
    "    center={\"lat\": 46.603354, \"lon\": 1.888334},  # Coordinates of France's centroid\n",
    "    projection_scale=15,  # Adjust the scale to fit France\n",
    "    visible=False  # Hide the base map\n",
    ")\n",
    "\n",
    "# Update the layout\n",
    "fig.update_layout(\n",
    "    title=\"Choropleth Map of France\",\n",
    "    margin={\"r\":0,\"t\":40,\"l\":0,\"b\":0}\n",
    ")\n",
    "\n",
    "# Show the map\n",
    "fig.show()"
   ]
  },
  {
   "cell_type": "code",
   "execution_count": 146,
   "metadata": {},
   "outputs": [],
   "source": [
    "with open(\"Data/departement.json\", \"r\") as file:\n",
    "    dep_data = json.load(file)"
   ]
  },
  {
   "cell_type": "code",
   "execution_count": 147,
   "metadata": {},
   "outputs": [
    {
     "data": {
      "text/html": [
       "<div>\n",
       "<style scoped>\n",
       "    .dataframe tbody tr th:only-of-type {\n",
       "        vertical-align: middle;\n",
       "    }\n",
       "\n",
       "    .dataframe tbody tr th {\n",
       "        vertical-align: top;\n",
       "    }\n",
       "\n",
       "    .dataframe thead th {\n",
       "        text-align: right;\n",
       "    }\n",
       "</style>\n",
       "<table border=\"1\" class=\"dataframe\">\n",
       "  <thead>\n",
       "    <tr style=\"text-align: right;\">\n",
       "      <th></th>\n",
       "      <th>nom_departement</th>\n",
       "      <th>Valeur fonciere</th>\n",
       "    </tr>\n",
       "  </thead>\n",
       "  <tbody>\n",
       "    <tr>\n",
       "      <th>0</th>\n",
       "      <td>Ain</td>\n",
       "      <td>145011.319333</td>\n",
       "    </tr>\n",
       "    <tr>\n",
       "      <th>1</th>\n",
       "      <td>Aisne</td>\n",
       "      <td>88177.572367</td>\n",
       "    </tr>\n",
       "    <tr>\n",
       "      <th>2</th>\n",
       "      <td>Allier</td>\n",
       "      <td>78420.351116</td>\n",
       "    </tr>\n",
       "    <tr>\n",
       "      <th>3</th>\n",
       "      <td>Alpes-Maritimes</td>\n",
       "      <td>159515.269030</td>\n",
       "    </tr>\n",
       "    <tr>\n",
       "      <th>4</th>\n",
       "      <td>Alpes-de-Haute-Provence</td>\n",
       "      <td>118616.706569</td>\n",
       "    </tr>\n",
       "    <tr>\n",
       "      <th>...</th>\n",
       "      <td>...</td>\n",
       "      <td>...</td>\n",
       "    </tr>\n",
       "    <tr>\n",
       "      <th>92</th>\n",
       "      <td>Vendée</td>\n",
       "      <td>115242.119491</td>\n",
       "    </tr>\n",
       "    <tr>\n",
       "      <th>93</th>\n",
       "      <td>Vienne</td>\n",
       "      <td>88732.840569</td>\n",
       "    </tr>\n",
       "    <tr>\n",
       "      <th>94</th>\n",
       "      <td>Vosges</td>\n",
       "      <td>67587.950664</td>\n",
       "    </tr>\n",
       "    <tr>\n",
       "      <th>95</th>\n",
       "      <td>Yonne</td>\n",
       "      <td>83883.844964</td>\n",
       "    </tr>\n",
       "    <tr>\n",
       "      <th>96</th>\n",
       "      <td>Yvelines</td>\n",
       "      <td>223243.327206</td>\n",
       "    </tr>\n",
       "  </tbody>\n",
       "</table>\n",
       "<p>97 rows × 2 columns</p>\n",
       "</div>"
      ],
      "text/plain": [
       "            nom_departement  Valeur fonciere\n",
       "0                       Ain    145011.319333\n",
       "1                     Aisne     88177.572367\n",
       "2                    Allier     78420.351116\n",
       "3           Alpes-Maritimes    159515.269030\n",
       "4   Alpes-de-Haute-Provence    118616.706569\n",
       "..                      ...              ...\n",
       "92                   Vendée    115242.119491\n",
       "93                   Vienne     88732.840569\n",
       "94                   Vosges     67587.950664\n",
       "95                    Yonne     83883.844964\n",
       "96                 Yvelines    223243.327206\n",
       "\n",
       "[97 rows x 2 columns]"
      ]
     },
     "execution_count": 147,
     "metadata": {},
     "output_type": "execute_result"
    }
   ],
   "source": [
    "mean_values_json_departement = pd.pivot_table(data=df4, index=[\"nom_departement\"], values=\"Valeur fonciere\", aggfunc=\"mean\")\n",
    "mean_values_json_departement = mean_values_json_departement.reset_index()\n",
    "mean_values_json_departement"
   ]
  },
  {
   "cell_type": "markdown",
   "metadata": {},
   "source": [
    "La carte correspondant au valeur foncière moyenne par département"
   ]
  },
  {
   "cell_type": "code",
   "execution_count": null,
   "metadata": {},
   "outputs": [],
   "source": [
    "# Create the choropleth map\n",
    "fig = px.choropleth(\n",
    "    mean_values_json_departement,  # replace df with your DataFrame\n",
    "    geojson=dep_data,\n",
    "    locations='nom_departement',  # replace 'id' with the column name containing the regions' ids\n",
    "    color='Valeur fonciere',  # replace 'value' with the column name containing the values you want to plot\n",
    "    color_continuous_scale='Inferno',\n",
    "    featureidkey=\"properties.libgeo\"  # replace 'properties.id' with the path to the ids in the geojson\n",
    ")\n",
    "\n",
    "# Update the geos layout to focus on France\n",
    "fig.update_geos(\n",
    "    center={\"lat\": 46.603354, \"lon\": 1.888334},  # Coordinates of France's centroid\n",
    "    projection_scale=15,  # Adjust the scale to fit France\n",
    "    visible=False  # Hide the base map\n",
    ")\n",
    "\n",
    "# Update the layout\n",
    "fig.update_layout(\n",
    "    title=\"Choropleth Map of France\",\n",
    "    margin={\"r\":0,\"t\":40,\"l\":0,\"b\":0}\n",
    ")\n",
    "\n",
    "# Show the map\n",
    "fig.show()"
   ]
  },
  {
   "cell_type": "markdown",
   "metadata": {},
   "source": [
    "## Variables supplémentaires et opendata"
   ]
  },
  {
   "cell_type": "markdown",
   "metadata": {},
   "source": [
    "### Population active"
   ]
  },
  {
   "cell_type": "markdown",
   "metadata": {},
   "source": [
    "Nous avons récupéré la population active par département: https://www.insee.fr/fr/statistiques/2012710#titre-bloc-1"
   ]
  },
  {
   "cell_type": "code",
   "execution_count": 149,
   "metadata": {},
   "outputs": [],
   "source": [
    "pop = pd.read_excel(\"Data/pop_active.xlsx\")"
   ]
  },
  {
   "cell_type": "markdown",
   "metadata": {},
   "source": [
    "On fait une jointure interne entre les deux bases de données"
   ]
  },
  {
   "cell_type": "code",
   "execution_count": 150,
   "metadata": {},
   "outputs": [],
   "source": [
    "df5  = pd.merge(df4, pop, on=\"nom_departement\", how='inner')"
   ]
  },
  {
   "cell_type": "markdown",
   "metadata": {},
   "source": [
    "### Salaire Net Horaire Moyen par département (2021)"
   ]
  },
  {
   "cell_type": "markdown",
   "metadata": {},
   "source": [
    "Nous avons récupéré le salaire net horaire moyen par département: https://www.insee.fr/fr/statistiques/2021266"
   ]
  },
  {
   "cell_type": "code",
   "execution_count": 151,
   "metadata": {},
   "outputs": [],
   "source": [
    "# On importe le salaire horaire moyen\n",
    "salaire = pd.read_excel(\"Data/base-cc-bases-tous-salaries-2021.xlsx\")"
   ]
  },
  {
   "cell_type": "markdown",
   "metadata": {},
   "source": [
    "On fait une jointure interne entre les deux bases de données"
   ]
  },
  {
   "cell_type": "code",
   "execution_count": 152,
   "metadata": {},
   "outputs": [],
   "source": [
    "# On fait une jointure interne entre les deux bases de données\n",
    "df5  = pd.merge(df5, salaire, on=\"nom_departement\", how='inner')"
   ]
  },
  {
   "cell_type": "markdown",
   "metadata": {},
   "source": [
    "On observe que le salaire moyen est un peu corrélé avec la valeur foncière on conserve cette variable pour l'utilser dans notre modèle"
   ]
  },
  {
   "cell_type": "code",
   "execution_count": 153,
   "metadata": {},
   "outputs": [
    {
     "data": {
      "text/html": [
       "<div>\n",
       "<style scoped>\n",
       "    .dataframe tbody tr th:only-of-type {\n",
       "        vertical-align: middle;\n",
       "    }\n",
       "\n",
       "    .dataframe tbody tr th {\n",
       "        vertical-align: top;\n",
       "    }\n",
       "\n",
       "    .dataframe thead th {\n",
       "        text-align: right;\n",
       "    }\n",
       "</style>\n",
       "<table border=\"1\" class=\"dataframe\">\n",
       "  <thead>\n",
       "    <tr style=\"text-align: right;\">\n",
       "      <th></th>\n",
       "      <th>Valeur fonciere</th>\n",
       "      <th>Nombre de lots</th>\n",
       "      <th>Surface reelle bati</th>\n",
       "      <th>Nombre pieces principales</th>\n",
       "      <th>Surface terrain</th>\n",
       "      <th>pop_active</th>\n",
       "      <th>salaire_moyen</th>\n",
       "    </tr>\n",
       "  </thead>\n",
       "  <tbody>\n",
       "    <tr>\n",
       "      <th>Valeur fonciere</th>\n",
       "      <td>1.000000</td>\n",
       "      <td>0.074827</td>\n",
       "      <td>0.110982</td>\n",
       "      <td>0.372435</td>\n",
       "      <td>-0.073682</td>\n",
       "      <td>0.288318</td>\n",
       "      <td>0.290083</td>\n",
       "    </tr>\n",
       "    <tr>\n",
       "      <th>Nombre de lots</th>\n",
       "      <td>0.074827</td>\n",
       "      <td>1.000000</td>\n",
       "      <td>0.000544</td>\n",
       "      <td>0.003551</td>\n",
       "      <td>-0.097384</td>\n",
       "      <td>0.222079</td>\n",
       "      <td>0.329686</td>\n",
       "    </tr>\n",
       "    <tr>\n",
       "      <th>Surface reelle bati</th>\n",
       "      <td>0.110982</td>\n",
       "      <td>0.000544</td>\n",
       "      <td>1.000000</td>\n",
       "      <td>0.176307</td>\n",
       "      <td>-0.008648</td>\n",
       "      <td>-0.001502</td>\n",
       "      <td>-0.019695</td>\n",
       "    </tr>\n",
       "    <tr>\n",
       "      <th>Nombre pieces principales</th>\n",
       "      <td>0.372435</td>\n",
       "      <td>0.003551</td>\n",
       "      <td>0.176307</td>\n",
       "      <td>1.000000</td>\n",
       "      <td>-0.111696</td>\n",
       "      <td>0.062579</td>\n",
       "      <td>-0.019291</td>\n",
       "    </tr>\n",
       "    <tr>\n",
       "      <th>Surface terrain</th>\n",
       "      <td>-0.073682</td>\n",
       "      <td>-0.097384</td>\n",
       "      <td>-0.008648</td>\n",
       "      <td>-0.111696</td>\n",
       "      <td>1.000000</td>\n",
       "      <td>-0.077409</td>\n",
       "      <td>-0.065192</td>\n",
       "    </tr>\n",
       "    <tr>\n",
       "      <th>pop_active</th>\n",
       "      <td>0.288318</td>\n",
       "      <td>0.222079</td>\n",
       "      <td>-0.001502</td>\n",
       "      <td>0.062579</td>\n",
       "      <td>-0.077409</td>\n",
       "      <td>1.000000</td>\n",
       "      <td>0.642677</td>\n",
       "    </tr>\n",
       "    <tr>\n",
       "      <th>salaire_moyen</th>\n",
       "      <td>0.290083</td>\n",
       "      <td>0.329686</td>\n",
       "      <td>-0.019695</td>\n",
       "      <td>-0.019291</td>\n",
       "      <td>-0.065192</td>\n",
       "      <td>0.642677</td>\n",
       "      <td>1.000000</td>\n",
       "    </tr>\n",
       "  </tbody>\n",
       "</table>\n",
       "</div>"
      ],
      "text/plain": [
       "                           Valeur fonciere  Nombre de lots  \\\n",
       "Valeur fonciere                   1.000000        0.074827   \n",
       "Nombre de lots                    0.074827        1.000000   \n",
       "Surface reelle bati               0.110982        0.000544   \n",
       "Nombre pieces principales         0.372435        0.003551   \n",
       "Surface terrain                  -0.073682       -0.097384   \n",
       "pop_active                        0.288318        0.222079   \n",
       "salaire_moyen                     0.290083        0.329686   \n",
       "\n",
       "                           Surface reelle bati  Nombre pieces principales  \\\n",
       "Valeur fonciere                       0.110982                   0.372435   \n",
       "Nombre de lots                        0.000544                   0.003551   \n",
       "Surface reelle bati                   1.000000                   0.176307   \n",
       "Nombre pieces principales             0.176307                   1.000000   \n",
       "Surface terrain                      -0.008648                  -0.111696   \n",
       "pop_active                           -0.001502                   0.062579   \n",
       "salaire_moyen                        -0.019695                  -0.019291   \n",
       "\n",
       "                           Surface terrain  pop_active  salaire_moyen  \n",
       "Valeur fonciere                  -0.073682    0.288318       0.290083  \n",
       "Nombre de lots                   -0.097384    0.222079       0.329686  \n",
       "Surface reelle bati              -0.008648   -0.001502      -0.019695  \n",
       "Nombre pieces principales        -0.111696    0.062579      -0.019291  \n",
       "Surface terrain                   1.000000   -0.077409      -0.065192  \n",
       "pop_active                       -0.077409    1.000000       0.642677  \n",
       "salaire_moyen                    -0.065192    0.642677       1.000000  "
      ]
     },
     "execution_count": 153,
     "metadata": {},
     "output_type": "execute_result"
    }
   ],
   "source": [
    "# On crée une matrice de corrélation\n",
    "matrix = df5.loc[:,['Valeur fonciere', 'Nombre de lots', 'Surface reelle bati', 'Nombre pieces principales', 'Surface terrain', \"pop_active\", \"salaire_moyen\"]].corr()\n",
    "matrix"
   ]
  },
  {
   "cell_type": "markdown",
   "metadata": {},
   "source": [
    "### Nombre d'écoles par département"
   ]
  },
  {
   "cell_type": "markdown",
   "metadata": {},
   "source": [
    "Nous avons récupéré le nombre d'écoles par département : https://www.observatoire-des-territoires.gouv.fr/nombre-decoles-elementaires"
   ]
  },
  {
   "cell_type": "code",
   "execution_count": 154,
   "metadata": {},
   "outputs": [],
   "source": [
    "# On importe le dataset avec le nombre d'écoles élémentaires par commune\n",
    "ecole = pd.read_excel(\"Data/ecoles2.xlsx\")"
   ]
  },
  {
   "cell_type": "markdown",
   "metadata": {},
   "source": [
    "On fait une jointure interne entre les deux bases de données"
   ]
  },
  {
   "cell_type": "code",
   "execution_count": 155,
   "metadata": {},
   "outputs": [],
   "source": [
    "# On fait une jointure interne entre les deux bases de données\n",
    "df6  = pd.merge(df5, ecole, on=\"nom_departement\", how='inner')\n"
   ]
  }
 ],
 "metadata": {
  "kernelspec": {
   "display_name": "Python 3",
   "language": "python",
   "name": "python3"
  },
  "language_info": {
   "codemirror_mode": {
    "name": "ipython",
    "version": 3
   },
   "file_extension": ".py",
   "mimetype": "text/x-python",
   "name": "python",
   "nbconvert_exporter": "python",
   "pygments_lexer": "ipython3",
   "version": "3.12.0"
  },
  "orig_nbformat": 4
 },
 "nbformat": 4,
 "nbformat_minor": 2
}
