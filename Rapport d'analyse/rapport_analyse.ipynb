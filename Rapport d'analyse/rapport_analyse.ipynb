{
 "cells": [
  {
   "cell_type": "markdown",
   "metadata": {},
   "source": [
    "# Rapport analytique données immobilières"
   ]
  },
  {
   "cell_type": "markdown",
   "metadata": {},
   "source": [
    "## Contexte"
   ]
  },
  {
   "cell_type": "markdown",
   "metadata": {},
   "source": [
    "Nous allons explorer les données de ventes immobilières en France entre 2018 et 2021. Ces données ont été enrichies avec des données en libre accès (OPENDATA) pour créer un modèle de prédiction de la valeur foncière de biens immobiliers en fonction de certaines informations clés. Tout le développement de l'application a été réalisé en Python en utilisant les packages listés dans le fichier requirements.txt."
   ]
  },
  {
   "cell_type": "markdown",
   "metadata": {},
   "source": [
    "Nous avons utilisé les packages suivants\n",
    "- pandas\n",
    "- numpy\n",
    "- matplotlib\n",
    "- seaborn\n",
    "- plotly"
   ]
  },
  {
   "cell_type": "markdown",
   "metadata": {},
   "source": [
    "## Présentation des jeux de données"
   ]
  },
  {
   "cell_type": "markdown",
   "metadata": {},
   "source": [
    "Nous avons donc 4 jeux de données qui représentent les ventes immobilières en France entre 2018 et 2018 qui ont été concaténés. Il contient 1 512 5102 observations, pour 43 variables."
   ]
  },
  {
   "cell_type": "code",
   "execution_count": 73,
   "metadata": {},
   "outputs": [
    {
     "data": {
      "text/html": [
       "<div>\n",
       "<style scoped>\n",
       "    .dataframe tbody tr th:only-of-type {\n",
       "        vertical-align: middle;\n",
       "    }\n",
       "\n",
       "    .dataframe tbody tr th {\n",
       "        vertical-align: top;\n",
       "    }\n",
       "\n",
       "    .dataframe thead th {\n",
       "        text-align: right;\n",
       "    }\n",
       "</style>\n",
       "<table border=\"1\" class=\"dataframe\">\n",
       "  <thead>\n",
       "    <tr style=\"text-align: right;\">\n",
       "      <th></th>\n",
       "      <th>Identifiant de document</th>\n",
       "      <th>Reference document</th>\n",
       "      <th>1 Articles CGI</th>\n",
       "      <th>2 Articles CGI</th>\n",
       "      <th>3 Articles CGI</th>\n",
       "      <th>4 Articles CGI</th>\n",
       "      <th>5 Articles CGI</th>\n",
       "      <th>No disposition</th>\n",
       "      <th>Date mutation</th>\n",
       "      <th>Nature mutation</th>\n",
       "      <th>Valeur fonciere</th>\n",
       "      <th>No voie</th>\n",
       "      <th>B/T/Q</th>\n",
       "      <th>Type de voie</th>\n",
       "      <th>Code voie</th>\n",
       "      <th>Voie</th>\n",
       "      <th>Code postal</th>\n",
       "      <th>Commune</th>\n",
       "      <th>Code departement</th>\n",
       "      <th>Code commune</th>\n",
       "      <th>Prefixe de section</th>\n",
       "      <th>Section</th>\n",
       "      <th>No plan</th>\n",
       "      <th>No Volume</th>\n",
       "      <th>1er lot</th>\n",
       "      <th>Surface Carrez du 1er lot</th>\n",
       "      <th>2eme lot</th>\n",
       "      <th>Surface Carrez du 2eme lot</th>\n",
       "      <th>3eme lot</th>\n",
       "      <th>Surface Carrez du 3eme lot</th>\n",
       "      <th>4eme lot</th>\n",
       "      <th>Surface Carrez du 4eme lot</th>\n",
       "      <th>5eme lot</th>\n",
       "      <th>Surface Carrez du 5eme lot</th>\n",
       "      <th>Nombre de lots</th>\n",
       "      <th>Code type local</th>\n",
       "      <th>Type local</th>\n",
       "      <th>Identifiant local</th>\n",
       "      <th>Surface reelle bati</th>\n",
       "      <th>Nombre pieces principales</th>\n",
       "      <th>Nature culture</th>\n",
       "      <th>Nature culture speciale</th>\n",
       "      <th>Surface terrain</th>\n",
       "    </tr>\n",
       "  </thead>\n",
       "  <tbody>\n",
       "    <tr>\n",
       "      <th>0</th>\n",
       "      <td>NaN</td>\n",
       "      <td>NaN</td>\n",
       "      <td>NaN</td>\n",
       "      <td>NaN</td>\n",
       "      <td>NaN</td>\n",
       "      <td>NaN</td>\n",
       "      <td>NaN</td>\n",
       "      <td>1</td>\n",
       "      <td>03/01/2018</td>\n",
       "      <td>Vente</td>\n",
       "      <td>109000.0</td>\n",
       "      <td>13.0</td>\n",
       "      <td>NaN</td>\n",
       "      <td>RUE</td>\n",
       "      <td>1660</td>\n",
       "      <td>GEN LOGEROT</td>\n",
       "      <td>1000.0</td>\n",
       "      <td>BOURG-EN-BRESSE</td>\n",
       "      <td>1</td>\n",
       "      <td>53</td>\n",
       "      <td>NaN</td>\n",
       "      <td>AN</td>\n",
       "      <td>73</td>\n",
       "      <td>NaN</td>\n",
       "      <td>1</td>\n",
       "      <td>NaN</td>\n",
       "      <td>31.0</td>\n",
       "      <td>NaN</td>\n",
       "      <td>NaN</td>\n",
       "      <td>NaN</td>\n",
       "      <td>NaN</td>\n",
       "      <td>NaN</td>\n",
       "      <td>NaN</td>\n",
       "      <td>NaN</td>\n",
       "      <td>2</td>\n",
       "      <td>2.0</td>\n",
       "      <td>Appartement</td>\n",
       "      <td>NaN</td>\n",
       "      <td>73.0</td>\n",
       "      <td>4.0</td>\n",
       "      <td>NaN</td>\n",
       "      <td>NaN</td>\n",
       "      <td>NaN</td>\n",
       "    </tr>\n",
       "    <tr>\n",
       "      <th>1</th>\n",
       "      <td>NaN</td>\n",
       "      <td>NaN</td>\n",
       "      <td>NaN</td>\n",
       "      <td>NaN</td>\n",
       "      <td>NaN</td>\n",
       "      <td>NaN</td>\n",
       "      <td>NaN</td>\n",
       "      <td>1</td>\n",
       "      <td>03/01/2018</td>\n",
       "      <td>Vente</td>\n",
       "      <td>109000.0</td>\n",
       "      <td>13.0</td>\n",
       "      <td>NaN</td>\n",
       "      <td>RUE</td>\n",
       "      <td>1660</td>\n",
       "      <td>GEN LOGEROT</td>\n",
       "      <td>1000.0</td>\n",
       "      <td>BOURG-EN-BRESSE</td>\n",
       "      <td>1</td>\n",
       "      <td>53</td>\n",
       "      <td>NaN</td>\n",
       "      <td>AN</td>\n",
       "      <td>73</td>\n",
       "      <td>NaN</td>\n",
       "      <td>13</td>\n",
       "      <td>NaN</td>\n",
       "      <td>NaN</td>\n",
       "      <td>NaN</td>\n",
       "      <td>NaN</td>\n",
       "      <td>NaN</td>\n",
       "      <td>NaN</td>\n",
       "      <td>NaN</td>\n",
       "      <td>NaN</td>\n",
       "      <td>NaN</td>\n",
       "      <td>1</td>\n",
       "      <td>3.0</td>\n",
       "      <td>Dépendance</td>\n",
       "      <td>NaN</td>\n",
       "      <td>0.0</td>\n",
       "      <td>0.0</td>\n",
       "      <td>NaN</td>\n",
       "      <td>NaN</td>\n",
       "      <td>NaN</td>\n",
       "    </tr>\n",
       "    <tr>\n",
       "      <th>2</th>\n",
       "      <td>NaN</td>\n",
       "      <td>NaN</td>\n",
       "      <td>NaN</td>\n",
       "      <td>NaN</td>\n",
       "      <td>NaN</td>\n",
       "      <td>NaN</td>\n",
       "      <td>NaN</td>\n",
       "      <td>1</td>\n",
       "      <td>04/01/2018</td>\n",
       "      <td>Vente</td>\n",
       "      <td>239300.0</td>\n",
       "      <td>4.0</td>\n",
       "      <td>NaN</td>\n",
       "      <td>RUE</td>\n",
       "      <td>0025</td>\n",
       "      <td>DE LA BARMETTE</td>\n",
       "      <td>1250.0</td>\n",
       "      <td>NIVIGNE ET SURAN</td>\n",
       "      <td>1</td>\n",
       "      <td>95</td>\n",
       "      <td>NaN</td>\n",
       "      <td>AH</td>\n",
       "      <td>186</td>\n",
       "      <td>NaN</td>\n",
       "      <td>NaN</td>\n",
       "      <td>NaN</td>\n",
       "      <td>NaN</td>\n",
       "      <td>NaN</td>\n",
       "      <td>NaN</td>\n",
       "      <td>NaN</td>\n",
       "      <td>NaN</td>\n",
       "      <td>NaN</td>\n",
       "      <td>NaN</td>\n",
       "      <td>NaN</td>\n",
       "      <td>0</td>\n",
       "      <td>1.0</td>\n",
       "      <td>Maison</td>\n",
       "      <td>NaN</td>\n",
       "      <td>163.0</td>\n",
       "      <td>4.0</td>\n",
       "      <td>S</td>\n",
       "      <td>NaN</td>\n",
       "      <td>949.0</td>\n",
       "    </tr>\n",
       "    <tr>\n",
       "      <th>3</th>\n",
       "      <td>NaN</td>\n",
       "      <td>NaN</td>\n",
       "      <td>NaN</td>\n",
       "      <td>NaN</td>\n",
       "      <td>NaN</td>\n",
       "      <td>NaN</td>\n",
       "      <td>NaN</td>\n",
       "      <td>1</td>\n",
       "      <td>04/01/2018</td>\n",
       "      <td>Vente</td>\n",
       "      <td>239300.0</td>\n",
       "      <td>4.0</td>\n",
       "      <td>NaN</td>\n",
       "      <td>RUE</td>\n",
       "      <td>0025</td>\n",
       "      <td>DE LA BARMETTE</td>\n",
       "      <td>1250.0</td>\n",
       "      <td>NIVIGNE ET SURAN</td>\n",
       "      <td>1</td>\n",
       "      <td>95</td>\n",
       "      <td>NaN</td>\n",
       "      <td>AH</td>\n",
       "      <td>186</td>\n",
       "      <td>NaN</td>\n",
       "      <td>NaN</td>\n",
       "      <td>NaN</td>\n",
       "      <td>NaN</td>\n",
       "      <td>NaN</td>\n",
       "      <td>NaN</td>\n",
       "      <td>NaN</td>\n",
       "      <td>NaN</td>\n",
       "      <td>NaN</td>\n",
       "      <td>NaN</td>\n",
       "      <td>NaN</td>\n",
       "      <td>0</td>\n",
       "      <td>1.0</td>\n",
       "      <td>Maison</td>\n",
       "      <td>NaN</td>\n",
       "      <td>163.0</td>\n",
       "      <td>4.0</td>\n",
       "      <td>AG</td>\n",
       "      <td>JARD</td>\n",
       "      <td>420.0</td>\n",
       "    </tr>\n",
       "    <tr>\n",
       "      <th>4</th>\n",
       "      <td>NaN</td>\n",
       "      <td>NaN</td>\n",
       "      <td>NaN</td>\n",
       "      <td>NaN</td>\n",
       "      <td>NaN</td>\n",
       "      <td>NaN</td>\n",
       "      <td>NaN</td>\n",
       "      <td>1</td>\n",
       "      <td>04/01/2018</td>\n",
       "      <td>Vente</td>\n",
       "      <td>239300.0</td>\n",
       "      <td>4.0</td>\n",
       "      <td>NaN</td>\n",
       "      <td>RUE</td>\n",
       "      <td>0025</td>\n",
       "      <td>DE LA BARMETTE</td>\n",
       "      <td>1250.0</td>\n",
       "      <td>NIVIGNE ET SURAN</td>\n",
       "      <td>1</td>\n",
       "      <td>95</td>\n",
       "      <td>NaN</td>\n",
       "      <td>AH</td>\n",
       "      <td>186</td>\n",
       "      <td>NaN</td>\n",
       "      <td>NaN</td>\n",
       "      <td>NaN</td>\n",
       "      <td>NaN</td>\n",
       "      <td>NaN</td>\n",
       "      <td>NaN</td>\n",
       "      <td>NaN</td>\n",
       "      <td>NaN</td>\n",
       "      <td>NaN</td>\n",
       "      <td>NaN</td>\n",
       "      <td>NaN</td>\n",
       "      <td>0</td>\n",
       "      <td>1.0</td>\n",
       "      <td>Maison</td>\n",
       "      <td>NaN</td>\n",
       "      <td>51.0</td>\n",
       "      <td>2.0</td>\n",
       "      <td>AG</td>\n",
       "      <td>JARD</td>\n",
       "      <td>420.0</td>\n",
       "    </tr>\n",
       "  </tbody>\n",
       "</table>\n",
       "</div>"
      ],
      "text/plain": [
       "   Identifiant de document  Reference document  1 Articles CGI  \\\n",
       "0                      NaN                 NaN             NaN   \n",
       "1                      NaN                 NaN             NaN   \n",
       "2                      NaN                 NaN             NaN   \n",
       "3                      NaN                 NaN             NaN   \n",
       "4                      NaN                 NaN             NaN   \n",
       "\n",
       "   2 Articles CGI  3 Articles CGI  4 Articles CGI  5 Articles CGI  \\\n",
       "0             NaN             NaN             NaN             NaN   \n",
       "1             NaN             NaN             NaN             NaN   \n",
       "2             NaN             NaN             NaN             NaN   \n",
       "3             NaN             NaN             NaN             NaN   \n",
       "4             NaN             NaN             NaN             NaN   \n",
       "\n",
       "   No disposition Date mutation Nature mutation  Valeur fonciere  No voie  \\\n",
       "0               1    03/01/2018           Vente         109000.0     13.0   \n",
       "1               1    03/01/2018           Vente         109000.0     13.0   \n",
       "2               1    04/01/2018           Vente         239300.0      4.0   \n",
       "3               1    04/01/2018           Vente         239300.0      4.0   \n",
       "4               1    04/01/2018           Vente         239300.0      4.0   \n",
       "\n",
       "  B/T/Q Type de voie Code voie            Voie  Code postal           Commune  \\\n",
       "0   NaN          RUE      1660     GEN LOGEROT       1000.0   BOURG-EN-BRESSE   \n",
       "1   NaN          RUE      1660     GEN LOGEROT       1000.0   BOURG-EN-BRESSE   \n",
       "2   NaN          RUE      0025  DE LA BARMETTE       1250.0  NIVIGNE ET SURAN   \n",
       "3   NaN          RUE      0025  DE LA BARMETTE       1250.0  NIVIGNE ET SURAN   \n",
       "4   NaN          RUE      0025  DE LA BARMETTE       1250.0  NIVIGNE ET SURAN   \n",
       "\n",
       "  Code departement  Code commune  Prefixe de section Section  No plan  \\\n",
       "0                1            53                 NaN      AN       73   \n",
       "1                1            53                 NaN      AN       73   \n",
       "2                1            95                 NaN      AH      186   \n",
       "3                1            95                 NaN      AH      186   \n",
       "4                1            95                 NaN      AH      186   \n",
       "\n",
       "  No Volume 1er lot  Surface Carrez du 1er lot 2eme lot  \\\n",
       "0       NaN       1                        NaN     31.0   \n",
       "1       NaN      13                        NaN      NaN   \n",
       "2       NaN     NaN                        NaN      NaN   \n",
       "3       NaN     NaN                        NaN      NaN   \n",
       "4       NaN     NaN                        NaN      NaN   \n",
       "\n",
       "   Surface Carrez du 2eme lot 3eme lot  Surface Carrez du 3eme lot 4eme lot  \\\n",
       "0                         NaN      NaN                         NaN      NaN   \n",
       "1                         NaN      NaN                         NaN      NaN   \n",
       "2                         NaN      NaN                         NaN      NaN   \n",
       "3                         NaN      NaN                         NaN      NaN   \n",
       "4                         NaN      NaN                         NaN      NaN   \n",
       "\n",
       "   Surface Carrez du 4eme lot 5eme lot  Surface Carrez du 5eme lot  \\\n",
       "0                         NaN      NaN                         NaN   \n",
       "1                         NaN      NaN                         NaN   \n",
       "2                         NaN      NaN                         NaN   \n",
       "3                         NaN      NaN                         NaN   \n",
       "4                         NaN      NaN                         NaN   \n",
       "\n",
       "   Nombre de lots  Code type local   Type local  Identifiant local  \\\n",
       "0               2              2.0  Appartement                NaN   \n",
       "1               1              3.0   Dépendance                NaN   \n",
       "2               0              1.0       Maison                NaN   \n",
       "3               0              1.0       Maison                NaN   \n",
       "4               0              1.0       Maison                NaN   \n",
       "\n",
       "   Surface reelle bati  Nombre pieces principales Nature culture  \\\n",
       "0                 73.0                        4.0            NaN   \n",
       "1                  0.0                        0.0            NaN   \n",
       "2                163.0                        4.0              S   \n",
       "3                163.0                        4.0             AG   \n",
       "4                 51.0                        2.0             AG   \n",
       "\n",
       "  Nature culture speciale  Surface terrain  \n",
       "0                     NaN              NaN  \n",
       "1                     NaN              NaN  \n",
       "2                     NaN            949.0  \n",
       "3                    JARD            420.0  \n",
       "4                    JARD            420.0  "
      ]
     },
     "execution_count": 73,
     "metadata": {},
     "output_type": "execute_result"
    }
   ],
   "source": [
    "# On paramétrise notre display function pour avoir toutes les variables\n",
    "pd.set_option('display.max_columns', None)\n",
    "df.head()"
   ]
  },
  {
   "cell_type": "markdown",
   "metadata": {},
   "source": [
    "Voici toutes les variables disponibles dans notre dataset."
   ]
  },
  {
   "cell_type": "code",
   "execution_count": 74,
   "metadata": {},
   "outputs": [
    {
     "data": {
      "text/plain": [
       "Index(['Identifiant de document', 'Reference document', '1 Articles CGI',\n",
       "       '2 Articles CGI', '3 Articles CGI', '4 Articles CGI', '5 Articles CGI',\n",
       "       'No disposition', 'Date mutation', 'Nature mutation', 'Valeur fonciere',\n",
       "       'No voie', 'B/T/Q', 'Type de voie', 'Code voie', 'Voie', 'Code postal',\n",
       "       'Commune', 'Code departement', 'Code commune', 'Prefixe de section',\n",
       "       'Section', 'No plan', 'No Volume', '1er lot',\n",
       "       'Surface Carrez du 1er lot', '2eme lot', 'Surface Carrez du 2eme lot',\n",
       "       '3eme lot', 'Surface Carrez du 3eme lot', '4eme lot',\n",
       "       'Surface Carrez du 4eme lot', '5eme lot', 'Surface Carrez du 5eme lot',\n",
       "       'Nombre de lots', 'Code type local', 'Type local', 'Identifiant local',\n",
       "       'Surface reelle bati', 'Nombre pieces principales', 'Nature culture',\n",
       "       'Nature culture speciale', 'Surface terrain'],\n",
       "      dtype='object')"
      ]
     },
     "execution_count": 74,
     "metadata": {},
     "output_type": "execute_result"
    }
   ],
   "source": [
    "df.columns"
   ]
  },
  {
   "cell_type": "markdown",
   "metadata": {},
   "source": [
    "On regarde le nombre de valeurs unique dans chaque colonne pour enlever les variables qui n'apporte pas d'information"
   ]
  },
  {
   "cell_type": "code",
   "execution_count": 75,
   "metadata": {},
   "outputs": [
    {
     "name": "stdout",
     "output_type": "stream",
     "text": [
      "Identifiant de document  :  1\n",
      "Reference document  :  1\n",
      "1 Articles CGI  :  1\n",
      "2 Articles CGI  :  1\n",
      "3 Articles CGI  :  1\n",
      "4 Articles CGI  :  1\n",
      "5 Articles CGI  :  1\n",
      "No disposition  :  694\n",
      "Date mutation  :  1458\n",
      "Nature mutation  :  6\n",
      "Valeur fonciere  :  378224\n",
      "No voie  :  8953\n",
      "B/T/Q  :  43\n",
      "Type de voie  :  148\n",
      "Code voie  :  20766\n",
      "Voie  :  997235\n",
      "Code postal  :  5875\n",
      "Commune  :  32044\n",
      "Code departement  :  99\n",
      "Code commune  :  908\n",
      "Prefixe de section  :  758\n",
      "Section  :  589\n",
      "No plan  :  8226\n",
      "No Volume  :  2389\n",
      "1er lot  :  24159\n",
      "Surface Carrez du 1er lot  :  27268\n",
      "2eme lot  :  10816\n",
      "Surface Carrez du 2eme lot  :  17277\n",
      "3eme lot  :  2873\n",
      "Surface Carrez du 3eme lot  :  11695\n",
      "4eme lot  :  1535\n",
      "Surface Carrez du 4eme lot  :  5051\n",
      "5eme lot  :  1101\n",
      "Surface Carrez du 5eme lot  :  2269\n",
      "Nombre de lots  :  122\n",
      "Code type local  :  5\n",
      "Type local  :  5\n",
      "Identifiant local  :  1\n",
      "Surface reelle bati  :  8522\n",
      "Nombre pieces principales  :  66\n",
      "Nature culture  :  28\n",
      "Nature culture speciale  :  133\n",
      "Surface terrain  :  78770\n"
     ]
    }
   ],
   "source": [
    "# On regarde le nombre de valeurs unique dans chaque colonne pour enlever les variables qui n'apporte pas d'information\n",
    "for col in df.columns:\n",
    "    print(col, \" : \",len(df[col].unique()))"
   ]
  },
  {
   "cell_type": "markdown",
   "metadata": {},
   "source": [
    "## Nettoyage du jeu de données"
   ]
  },
  {
   "cell_type": "markdown",
   "metadata": {},
   "source": [
    "On enlève donc les variables avec une valeur (souvent NaN) ou d'identifiant (qui n'auront donc pas d'intérêt dans la prédiction ou l'exploration)\n",
    "- Identifiant de document\n",
    "- Reference document\n",
    "- 1 Articles CGI\n",
    "- 2 Articles CGI\n",
    "- 3 Articles CGI\n",
    "- 4 Articles CGI\n",
    "- 5 Articles CGI\n",
    "- No disposition\n",
    "- No plan\n",
    "- Identifiant local\n",
    "- No Volume"
   ]
  },
  {
   "cell_type": "markdown",
   "metadata": {},
   "source": [
    "B/T/Q représente l'indice de répétition qui est est une mention qui complète une numérotation de voirie. L’indice de répétition permet de\n",
    "différencier plusieurs adresses portant le même numéro dans la même rue. Elle ne nous servira pas donc on l'enlève également."
   ]
  },
  {
   "cell_type": "markdown",
   "metadata": {},
   "source": [
    "On regarde le nombre de valeurs manquantes dans chaque colonne pour enlever les variables qui n'apporte pas d'information"
   ]
  },
  {
   "cell_type": "code",
   "execution_count": 78,
   "metadata": {},
   "outputs": [
    {
     "name": "stdout",
     "output_type": "stream",
     "text": [
      "Date mutation  :  0.0\n",
      "Nature mutation  :  0.0\n",
      "Valeur fonciere  :  0.010980884624778068\n",
      "No voie  :  0.39393069878140324\n",
      "Type de voie  :  0.4124630696705384\n",
      "Code voie  :  0.008502950922248327\n",
      "Voie  :  0.008520868156789952\n",
      "Code postal  :  0.008544405188143525\n",
      "Commune  :  0.0\n",
      "Code departement  :  0.0\n",
      "Code commune  :  0.0\n",
      "Prefixe de section  :  0.9532110262793599\n",
      "Section  :  3.173532317335777e-05\n",
      "1er lot  :  0.6884300019927139\n",
      "Surface Carrez du 1er lot  :  0.9147595169936705\n",
      "2eme lot  :  0.9262992077673261\n",
      "Surface Carrez du 2eme lot  :  0.9766547690058553\n",
      "3eme lot  :  0.9872174085173111\n",
      "Surface Carrez du 3eme lot  :  0.9975565784614213\n",
      "4eme lot  :  0.9957234007413636\n",
      "Surface Carrez du 4eme lot  :  0.9993702521807787\n",
      "5eme lot  :  0.998045302438291\n",
      "Surface Carrez du 5eme lot  :  0.9997469107976925\n",
      "Nombre de lots  :  0.0\n",
      "Code type local  :  0.43260752886162357\n",
      "Type local  :  0.43260752886162357\n",
      "Surface reelle bati  :  0.4333014084797577\n",
      "Nombre pieces principales  :  0.4333014084797577\n",
      "Nature culture  :  0.31595019987303224\n",
      "Nature culture speciale  :  0.9562014193358829\n",
      "Surface terrain  :  0.31595019987303224\n"
     ]
    }
   ],
   "source": [
    "# On regarde le nombre de valeurs manquantes dans chaque colonne pour enlever les variables qui n'apporte pas d'information\n",
    "for col in df.columns:\n",
    "    print(col,\" : \", df[col].isnull().sum()/df.shape[0])"
   ]
  },
  {
   "cell_type": "markdown",
   "metadata": {},
   "source": [
    "Le nombre de lot est suffisant pour nous indiquer la présence ou non de lots. Le reste est redondant. On supprime les variables : \n",
    "- 1er lot\n",
    "- Surface Carrez du 1er lot\n",
    "- 2eme lot\n",
    "- Surface Carrez du 2eme lot\n",
    "- 3eme lot\n",
    "- Surface Carrez du 3eme lot\n",
    "- 4eme lot\n",
    "- Surface Carrez du 4eme lot\n",
    "- 5eme lot\n",
    "- Surface Carrez du 5eme lot"
   ]
  },
  {
   "cell_type": "markdown",
   "metadata": {},
   "source": [
    "Nous nous occupons désormais de la variable nature culture spéciale qui nous indique la présence ou non d'un extérieur. La présence d'un terrain est clairement indiquer par la surface présente, donc si elle est de 0: il n'y a pas de terrain. En s'appuyant sur la documentation, on se rend compte que le relatif aux sections n'est pas pertinent, on supprime donc la variable. Il en va de meme pour la variable Nature mutation qui n'est pas pertinente pour notre problématique"
   ]
  },
  {
   "cell_type": "markdown",
   "metadata": {},
   "source": [
    "La variable en relation avec l'adresse se sépare en plusieurs variables, nous allons donc la concaténer. Si l'adresse est nulle, c'est parce qu'il n'y a pas de n° de voie (lieux dits?), donc on remplie adresse avec \"Voie\"."
   ]
  },
  {
   "cell_type": "markdown",
   "metadata": {},
   "source": [
    "On enlève les références à l'adresse qui ne nous seront d'aucunes utilité. On enlève également le code département qui ne nous servira pas pour récupérer les départements (nous utiliserons le code postal et le nom de la commune). Pour ne garder les ventes que de lots uniques, on enlève toutes les ventes qui se répètent plus d'une fois."
   ]
  },
  {
   "cell_type": "code",
   "execution_count": 88,
   "metadata": {},
   "outputs": [
    {
     "name": "stdout",
     "output_type": "stream",
     "text": [
      "Valeur fonciere  :  23421\n",
      "Code postal  :  214\n",
      "Commune  :  0\n",
      "Code commune  :  0\n",
      "Nombre de lots  :  0\n",
      "Type local  :  0\n",
      "Surface reelle bati  :  0\n",
      "Nombre pieces principales  :  0\n",
      "Surface terrain  :  0\n",
      "exterieur  :  0\n",
      "year  :  0\n",
      "month  :  0\n"
     ]
    }
   ],
   "source": [
    "for col in df2.columns:\n",
    "    print(col,\" : \",df2[col].isnull().sum())"
   ]
  },
  {
   "cell_type": "code",
   "execution_count": 90,
   "metadata": {},
   "outputs": [
    {
     "name": "stdout",
     "output_type": "stream",
     "text": [
      "Valeur fonciere\n",
      "0\n",
      "Code postal\n",
      "0\n",
      "Commune\n",
      "0\n",
      "Code commune\n",
      "0\n",
      "Nombre de lots\n",
      "0\n",
      "Type local\n",
      "0\n",
      "Surface reelle bati\n",
      "0\n",
      "Nombre pieces principales\n",
      "0\n",
      "Surface terrain\n",
      "0\n",
      "exterieur\n",
      "0\n",
      "year\n",
      "0\n",
      "month\n",
      "0\n"
     ]
    }
   ],
   "source": [
    "for col in df2.columns:\n",
    "    print(col)\n",
    "    print(df2[col].isnull().sum())"
   ]
  },
  {
   "cell_type": "markdown",
   "metadata": {},
   "source": [
    "Certains biens sont à l'euro symbolique ou ont un prix inférieur à 100€, nous enlevons ces biens"
   ]
  },
  {
   "cell_type": "code",
   "execution_count": 91,
   "metadata": {},
   "outputs": [
    {
     "data": {
      "text/plain": [
       "Valeur fonciere\n",
       "False    4511892\n",
       "True       41787\n",
       "Name: count, dtype: int64"
      ]
     },
     "execution_count": 91,
     "metadata": {},
     "output_type": "execute_result"
    }
   ],
   "source": [
    "# On visualise le pourcentage de biens avec un prix de vente inférieur à 100€.\n",
    "(df2[\"Valeur fonciere\"] < 100).value_counts()\n"
   ]
  },
  {
   "cell_type": "markdown",
   "metadata": {},
   "source": [
    "On ne garde que les biens ayant eu un prix de vente supérieur à 100€."
   ]
  },
  {
   "cell_type": "markdown",
   "metadata": {},
   "source": [
    "## Exploration de la relation entre les variables du jeux de données et la valeur foncière."
   ]
  },
  {
   "cell_type": "markdown",
   "metadata": {},
   "source": [
    "En regardant ces graphiques, on peut constater que certaines variables possèdent un lien fort avec la valeur foncière:\n",
    "\n",
    "- Le type de Local semble complètement influencer le prix de vente du bien. Notamment, nous pouvons repérer que les dépendances ainsi que les biens non définis (Autres) ont une valeur foncière qui semble inférieur aux appartements, locaux industriels et maison. \n",
    "- Nous pouvons repérer également que le nombre de lots semblent présenter une augmentation croissant  du prix jusqu'à une vingraine de lots, passé ce prix là, on retrouve une absence visuelle de relation entre les deux variables.\n",
    "- Nous pouvons déduire la même observation avec le nombre de pièces principales jusqu'à une quinzaine de pièces principales. Il semble que les \"super-biens\" (grandes demeures, villas) ne dépendent plus de la taille pour la prédiction. \n",
    "\n",
    "Il est toutefois surprenant d'observer une absence de lien entre la surface du terrain et la surface réelle du batiment avec la valeur foncière (avant tout traitement d'outliers de taille de biens). "
   ]
  },
  {
   "cell_type": "markdown",
   "metadata": {},
   "source": [
    "<img src=\"var_relation.png\">"
   ]
  },
  {
   "cell_type": "markdown",
   "metadata": {},
   "source": [
    "Sur ce graphique , on peut observer la variation de la valeur foncière en fonction de la région."
   ]
  },
  {
   "cell_type": "markdown",
   "metadata": {},
   "source": [
    "<img src=\"courbe_month.png\">"
   ]
  },
  {
   "cell_type": "markdown",
   "metadata": {},
   "source": [
    "Nous pouvons observer que certaines régions semblent avoir un comportement dépendant du mois (comme l'Ile-de-France) ou encore le Centre-Val de Loire, ceux si semblent avoir un pic autour d'Août et de Septembre: cela pourrait être en lien avec les achats de biens en prévision de la rentrée. "
   ]
  },
  {
   "cell_type": "markdown",
   "metadata": {},
   "source": [
    "## Cartographie"
   ]
  },
  {
   "cell_type": "markdown",
   "metadata": {},
   "source": [
    "La carte de la France correspondant à la  valeur foncière moyenne par région"
   ]
  },
  {
   "cell_type": "markdown",
   "metadata": {},
   "source": [
    "<img src=\"region_plot.png\">"
   ]
  },
  {
   "cell_type": "markdown",
   "metadata": {},
   "source": [
    "Nous pouvons très clairement obser que certains biens sont plus attractifs que les autres (notamment ceux d'Ile-de-France). Ces différences selon la géographie seront donc à prendre en compte pour la modélisation:  pour réaliser cela, nous utiliserons de l'openData dépendant de chaque département."
   ]
  },
  {
   "cell_type": "markdown",
   "metadata": {},
   "source": [
    "La carte correspondant au valeur foncière moyenne par département"
   ]
  },
  {
   "cell_type": "markdown",
   "metadata": {},
   "source": [
    "<img src=\"departement_plot.png\">"
   ]
  },
  {
   "cell_type": "markdown",
   "metadata": {},
   "source": [
    "Nous retrouvons bien cette différence géographique déjà observé précédemment au niveau départemental. "
   ]
  },
  {
   "cell_type": "markdown",
   "metadata": {},
   "source": [
    "## Variables supplémentaires et opendata\n",
    "\n",
    "Nous ajoutons ensuite des variables supplémentaires (extraites depuis des jeux de données opendata) qui nous serviront à enrichir notre jeu de données pour mieux prédire la valeur foncière des biens.\n",
    "- Le pourcentage de population active\n",
    "- Le salaire net horaire moyen de 2021\n",
    "- Le nombre d'écoles par département\n",
    "- Le prix au m2 de chaque département\n",
    "- Le nombre de ventes par département"
   ]
  },
  {
   "cell_type": "markdown",
   "metadata": {},
   "source": [
    "Si on se concentre sur la valeur foncière, on se rend compte que la valeur foncière semble plus corrélée avec nos variables supplémentaires représentant le niveau de richesse de chaque département (slaire moyen, prix au m2 et % de population active) que les caractéristiques brutes du bien. Il semble toutefois que le nombre de pièces principales semblent influencer sur la valeur foncière des biens pris de manière global. "
   ]
  },
  {
   "cell_type": "markdown",
   "metadata": {},
   "source": [
    "<img src=\"matrice.png\">"
   ]
  },
  {
   "cell_type": "markdown",
   "metadata": {},
   "source": [
    "## Modélisation - Prédiction de l'étiquetage des biens"
   ]
  },
  {
   "cell_type": "markdown",
   "metadata": {},
   "source": [
    "## Modelisation - Prédiction de la valeur foncière"
   ]
  },
  {
   "cell_type": "markdown",
   "metadata": {},
   "source": [
    "Pour réaliser la modélisation, nous avons utilisé deux approches différentes selon les performances précédemment évaluées:\n",
    "- Un arbre de décision pour la régression de la valeur foncière des locaux industriels \n",
    "- Un modèle de régression linéaire avec descente de gradient stochastique pour les autres types de biens.\n",
    "\n",
    "Nous avons appliqué un modèle différent selon le type de local. Ce choix s'est basé sur les différences de valeurs foncières que nous avons observée selon le type de local."
   ]
  },
  {
   "cell_type": "markdown",
   "metadata": {},
   "source": [
    "### Maison "
   ]
  },
  {
   "cell_type": "markdown",
   "metadata": {},
   "source": [
    "Pour réaliser cela, nous avons réduis la dimensionalité du jeu de données grâce à une approche AFDM: \n",
    "<img src=\"comp_maison.png\">"
   ]
  },
  {
   "cell_type": "markdown",
   "metadata": {},
   "source": [
    "La première composante semble être reliée au prix au m2 du bien et le salaire moyen horaire dans le département. Elle semble être liée à **la richesse du département**. La seconde composante semble plutôt liée avec **l'absence d'un terrain**. La troisième composante enfin semble plutôt liée avec **des caractéristiques démographiques de grandes agglomérations** (nombre d'écoles élémentaires élevé, nombre de vente de biens par département élevé et pourcentage de population active élevé). Notre quatrième composante semble **reprendre de l'information non expliquée par la deuxième composante** en se corrélant positivement avec la présence d'un terrain. "
   ]
  },
  {
   "cell_type": "markdown",
   "metadata": {},
   "source": [
    "En observant les coefficients du modèle de régression linéaire, c'est la richesse de département et l'absence de terrain qui sont déterminant pour le modèle pour prédire la valeur foncière"
   ]
  },
  {
   "cell_type": "markdown",
   "metadata": {},
   "source": [
    "<img src=\"coeff_maison.png\">"
   ]
  },
  {
   "cell_type": "markdown",
   "metadata": {},
   "source": [
    "### Appartements"
   ]
  },
  {
   "cell_type": "markdown",
   "metadata": {},
   "source": [
    "Pour réaliser cela, nous avons réduis la dimensionalité du jeu de données grâce à une approche AFDM: \n",
    "<img src=\"comp_appart.png\">"
   ]
  },
  {
   "cell_type": "markdown",
   "metadata": {},
   "source": [
    "La première composante semble être reliée négativement au prix au m2 du bien et le salaire moyen horaire dans le département. Elle semble être liée au **niveau de pauvreté du département.** La seconde composante semble plutôt liée positivement avec la **présence d'un terrain (liée positivement avec Surface_terrain et exterieur_True)**. La troisième composante semble plutôt liée négativement avec la grandeur du bien, elle semble représenter donc **des petits appartements.** La quatrième composante est liée négativement avec les caractéristiques démographiques, elle semble représenter les **petits départements. Et enfin la cinquième composante**, elle semble liée négativement avec le nombre de ventes: elle semble représenter les départements peu attractifs."
   ]
  },
  {
   "cell_type": "markdown",
   "metadata": {},
   "source": [
    "<img src=\"coeff_appart.png\">"
   ]
  },
  {
   "cell_type": "markdown",
   "metadata": {},
   "source": [
    "En observant les coefficients du modèle de régression linéaire, ce sont principalement le niveau de pauvreté/richesse ainsi que la présence d'un terrain ou non qui sont déterminants dans la prédiction de la valeur foncière."
   ]
  },
  {
   "cell_type": "markdown",
   "metadata": {},
   "source": [
    "### Locaux"
   ]
  },
  {
   "cell_type": "markdown",
   "metadata": {},
   "source": [
    "Pour les locaux,  comme nous avons appliqué un arbre de décision, nous n'avons pas réduit la dimensionalité pour ne pas perdre d'informations ni standardiser les données car ce genre de modèle n'est pas influencé par des différences d'unités. \n",
    "\n",
    "Une fois l'avoir appliqué, nous avons extrait l'importance de chaque variable dans la modélisation:\n",
    "\n",
    "\n",
    "<img src=\"feature_imp_local.png\">"
   ]
  },
  {
   "cell_type": "markdown",
   "metadata": {},
   "source": [
    "C'est principalement l'estimation du prix et la surface réelle du batiment qui sont clés. Ensuite, nous avons quelques variables démographiques."
   ]
  },
  {
   "cell_type": "markdown",
   "metadata": {},
   "source": [
    "### Dépendances"
   ]
  },
  {
   "cell_type": "markdown",
   "metadata": {},
   "source": [
    "Pour réaliser cela, nous avons réduis la dimensionalité du jeu de données grâce à une approche AFDM: \n",
    "<img src=\"comp_dep.png\">"
   ]
  },
  {
   "cell_type": "markdown",
   "metadata": {},
   "source": [
    "La première composante semble être reliée négativement au prix au m2 du bien et le salaire moyen horaire dans le département. Elle semble être liée au **niveau de pauvreté du département**. La seconde composante semble plutôt liée positivement à **l'absence d'un terrain (exterieur_0)**. Enfin, la troisième composante semble plutôt liée négativement avec le nombre de ventes: elle semble représenter les **départements peu attractifs**."
   ]
  },
  {
   "cell_type": "markdown",
   "metadata": {},
   "source": [
    "<img src=\"coeff_dep.png\">"
   ]
  },
  {
   "cell_type": "markdown",
   "metadata": {},
   "source": [
    "En observant les coefficients du modèle de régression linéaire, c'est principalement le niveau de richesse/pauvreté du département qui sont pértinents pour la prédiction."
   ]
  }
 ],
 "metadata": {
  "kernelspec": {
   "display_name": "Python 3 (ipykernel)",
   "language": "python",
   "name": "python3"
  },
  "language_info": {
   "codemirror_mode": {
    "name": "ipython",
    "version": 3
   },
   "file_extension": ".py",
   "mimetype": "text/x-python",
   "name": "python",
   "nbconvert_exporter": "python",
   "pygments_lexer": "ipython3",
   "version": "3.9.12"
  }
 },
 "nbformat": 4,
 "nbformat_minor": 2
}
