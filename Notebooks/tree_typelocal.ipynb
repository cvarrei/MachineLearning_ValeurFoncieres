{
 "cells": [
  {
   "cell_type": "code",
   "execution_count": 1,
   "metadata": {},
   "outputs": [],
   "source": [
    "import pandas as pd\n",
    "import numpy as np\n",
    "import matplotlib.pyplot as plt\n",
    "import seaborn as sns"
   ]
  },
  {
   "cell_type": "code",
   "execution_count": 2,
   "metadata": {},
   "outputs": [],
   "source": [
    "from sklearn.tree import DecisionTreeClassifier\n",
    "from sklearn.model_selection import train_test_split, GridSearchCV"
   ]
  },
  {
   "cell_type": "code",
   "execution_count": 3,
   "metadata": {},
   "outputs": [],
   "source": [
    "import pickle"
   ]
  },
  {
   "cell_type": "code",
   "execution_count": 4,
   "metadata": {},
   "outputs": [],
   "source": [
    "import warnings\n",
    "warnings.filterwarnings(\"ignore\")"
   ]
  },
  {
   "cell_type": "markdown",
   "metadata": {},
   "source": [
    "# Classification Types de Biens"
   ]
  },
  {
   "cell_type": "markdown",
   "metadata": {},
   "source": [
    "On importe la version de jeux de données que nous avons qui n'a pas de valeurs manquantes dans la colonne \"Type local\". Elle nous permettra de classifier les biens n'ayant pas de type de local indiqué. "
   ]
  },
  {
   "cell_type": "code",
   "execution_count": 5,
   "metadata": {},
   "outputs": [],
   "source": [
    "df_model = pd.read_csv(\"df_sansNantypelocal.csv\", sep=\"\\t\")"
   ]
  },
  {
   "cell_type": "code",
   "execution_count": 6,
   "metadata": {},
   "outputs": [
    {
     "data": {
      "text/html": [
       "<div>\n",
       "<style scoped>\n",
       "    .dataframe tbody tr th:only-of-type {\n",
       "        vertical-align: middle;\n",
       "    }\n",
       "\n",
       "    .dataframe tbody tr th {\n",
       "        vertical-align: top;\n",
       "    }\n",
       "\n",
       "    .dataframe thead th {\n",
       "        text-align: right;\n",
       "    }\n",
       "</style>\n",
       "<table border=\"1\" class=\"dataframe\">\n",
       "  <thead>\n",
       "    <tr style=\"text-align: right;\">\n",
       "      <th></th>\n",
       "      <th>Nombre de lots</th>\n",
       "      <th>Type local</th>\n",
       "      <th>Surface reelle bati</th>\n",
       "      <th>Nombre pieces principales</th>\n",
       "      <th>Surface terrain</th>\n",
       "      <th>exterieur</th>\n",
       "      <th>month</th>\n",
       "      <th>nom_departement</th>\n",
       "      <th>nom_region</th>\n",
       "      <th>pop_active</th>\n",
       "      <th>salaire_moyen</th>\n",
       "      <th>nb_etab_elem</th>\n",
       "    </tr>\n",
       "  </thead>\n",
       "  <tbody>\n",
       "    <tr>\n",
       "      <th>0</th>\n",
       "      <td>0</td>\n",
       "      <td>Maison</td>\n",
       "      <td>150.0</td>\n",
       "      <td>3</td>\n",
       "      <td>347.0</td>\n",
       "      <td>1.0</td>\n",
       "      <td>1</td>\n",
       "      <td>Ain</td>\n",
       "      <td>Auvergne-Rhône-Alpes</td>\n",
       "      <td>320682.0</td>\n",
       "      <td>15.336249</td>\n",
       "      <td>405</td>\n",
       "    </tr>\n",
       "    <tr>\n",
       "      <th>1</th>\n",
       "      <td>0</td>\n",
       "      <td>Maison</td>\n",
       "      <td>180.0</td>\n",
       "      <td>6</td>\n",
       "      <td>680.0</td>\n",
       "      <td>1.0</td>\n",
       "      <td>6</td>\n",
       "      <td>Ain</td>\n",
       "      <td>Auvergne-Rhône-Alpes</td>\n",
       "      <td>320682.0</td>\n",
       "      <td>15.336249</td>\n",
       "      <td>405</td>\n",
       "    </tr>\n",
       "    <tr>\n",
       "      <th>2</th>\n",
       "      <td>0</td>\n",
       "      <td>Maison</td>\n",
       "      <td>147.0</td>\n",
       "      <td>6</td>\n",
       "      <td>1725.0</td>\n",
       "      <td>1.0</td>\n",
       "      <td>6</td>\n",
       "      <td>Ain</td>\n",
       "      <td>Auvergne-Rhône-Alpes</td>\n",
       "      <td>320682.0</td>\n",
       "      <td>15.336249</td>\n",
       "      <td>405</td>\n",
       "    </tr>\n",
       "    <tr>\n",
       "      <th>3</th>\n",
       "      <td>0</td>\n",
       "      <td>Local</td>\n",
       "      <td>1147.0</td>\n",
       "      <td>0</td>\n",
       "      <td>2693.0</td>\n",
       "      <td>1.0</td>\n",
       "      <td>6</td>\n",
       "      <td>Ain</td>\n",
       "      <td>Auvergne-Rhône-Alpes</td>\n",
       "      <td>320682.0</td>\n",
       "      <td>15.336249</td>\n",
       "      <td>405</td>\n",
       "    </tr>\n",
       "    <tr>\n",
       "      <th>4</th>\n",
       "      <td>0</td>\n",
       "      <td>Maison</td>\n",
       "      <td>97.0</td>\n",
       "      <td>4</td>\n",
       "      <td>1050.0</td>\n",
       "      <td>1.0</td>\n",
       "      <td>7</td>\n",
       "      <td>Ain</td>\n",
       "      <td>Auvergne-Rhône-Alpes</td>\n",
       "      <td>320682.0</td>\n",
       "      <td>15.336249</td>\n",
       "      <td>405</td>\n",
       "    </tr>\n",
       "  </tbody>\n",
       "</table>\n",
       "</div>"
      ],
      "text/plain": [
       "   Nombre de lots Type local  Surface reelle bati  Nombre pieces principales  \\\n",
       "0               0     Maison                150.0                          3   \n",
       "1               0     Maison                180.0                          6   \n",
       "2               0     Maison                147.0                          6   \n",
       "3               0      Local               1147.0                          0   \n",
       "4               0     Maison                 97.0                          4   \n",
       "\n",
       "   Surface terrain  exterieur  month nom_departement            nom_region  \\\n",
       "0            347.0        1.0      1             Ain  Auvergne-Rhône-Alpes   \n",
       "1            680.0        1.0      6             Ain  Auvergne-Rhône-Alpes   \n",
       "2           1725.0        1.0      6             Ain  Auvergne-Rhône-Alpes   \n",
       "3           2693.0        1.0      6             Ain  Auvergne-Rhône-Alpes   \n",
       "4           1050.0        1.0      7             Ain  Auvergne-Rhône-Alpes   \n",
       "\n",
       "   pop_active  salaire_moyen  nb_etab_elem  \n",
       "0    320682.0      15.336249           405  \n",
       "1    320682.0      15.336249           405  \n",
       "2    320682.0      15.336249           405  \n",
       "3    320682.0      15.336249           405  \n",
       "4    320682.0      15.336249           405  "
      ]
     },
     "execution_count": 6,
     "metadata": {},
     "output_type": "execute_result"
    }
   ],
   "source": [
    "# On enlève les variables qui ne nous servirons pas à prédire le type de biens.\n",
    "df_model = df_model.drop(columns=[\"Valeur fonciere\", \"year\", \"Unnamed: 0\"])\n",
    "df_model.head()\n"
   ]
  },
  {
   "cell_type": "code",
   "execution_count": 7,
   "metadata": {},
   "outputs": [
    {
     "data": {
      "text/plain": [
       "(2270205, 12)"
      ]
     },
     "execution_count": 7,
     "metadata": {},
     "output_type": "execute_result"
    }
   ],
   "source": [
    "df_model.shape"
   ]
  },
  {
   "cell_type": "markdown",
   "metadata": {},
   "source": [
    "On ajoute ensuite nos variables supplémentaires en relation avec le prix au m² et le nombre de ventes aggrégées par département."
   ]
  },
  {
   "cell_type": "code",
   "execution_count": 8,
   "metadata": {},
   "outputs": [
    {
     "data": {
      "text/html": [
       "<div>\n",
       "<style scoped>\n",
       "    .dataframe tbody tr th:only-of-type {\n",
       "        vertical-align: middle;\n",
       "    }\n",
       "\n",
       "    .dataframe tbody tr th {\n",
       "        vertical-align: top;\n",
       "    }\n",
       "\n",
       "    .dataframe thead th {\n",
       "        text-align: right;\n",
       "    }\n",
       "</style>\n",
       "<table border=\"1\" class=\"dataframe\">\n",
       "  <thead>\n",
       "    <tr style=\"text-align: right;\">\n",
       "      <th></th>\n",
       "      <th>nom_departement</th>\n",
       "      <th>mean_prixm2</th>\n",
       "      <th>q1_prixm2</th>\n",
       "      <th>q3_prixm2</th>\n",
       "    </tr>\n",
       "  </thead>\n",
       "  <tbody>\n",
       "    <tr>\n",
       "      <th>0</th>\n",
       "      <td>Ain</td>\n",
       "      <td>2235.777587</td>\n",
       "      <td>1662.166667</td>\n",
       "      <td>2653.858156</td>\n",
       "    </tr>\n",
       "    <tr>\n",
       "      <th>1</th>\n",
       "      <td>Aisne</td>\n",
       "      <td>1289.592416</td>\n",
       "      <td>986.500000</td>\n",
       "      <td>1540.666667</td>\n",
       "    </tr>\n",
       "    <tr>\n",
       "      <th>2</th>\n",
       "      <td>Allier</td>\n",
       "      <td>1125.098839</td>\n",
       "      <td>886.875000</td>\n",
       "      <td>1298.196429</td>\n",
       "    </tr>\n",
       "    <tr>\n",
       "      <th>3</th>\n",
       "      <td>Alpes-Maritimes</td>\n",
       "      <td>3366.643302</td>\n",
       "      <td>2009.954545</td>\n",
       "      <td>4508.419449</td>\n",
       "    </tr>\n",
       "    <tr>\n",
       "      <th>4</th>\n",
       "      <td>Alpes-de-Haute-Provence</td>\n",
       "      <td>2106.623975</td>\n",
       "      <td>1713.250000</td>\n",
       "      <td>2410.000000</td>\n",
       "    </tr>\n",
       "  </tbody>\n",
       "</table>\n",
       "</div>"
      ],
      "text/plain": [
       "           nom_departement  mean_prixm2    q1_prixm2    q3_prixm2\n",
       "0                      Ain  2235.777587  1662.166667  2653.858156\n",
       "1                    Aisne  1289.592416   986.500000  1540.666667\n",
       "2                   Allier  1125.098839   886.875000  1298.196429\n",
       "3          Alpes-Maritimes  3366.643302  2009.954545  4508.419449\n",
       "4  Alpes-de-Haute-Provence  2106.623975  1713.250000  2410.000000"
      ]
     },
     "execution_count": 8,
     "metadata": {},
     "output_type": "execute_result"
    }
   ],
   "source": [
    "m2 = pd.read_csv(\"m2.csv\")\n",
    "m2.head()"
   ]
  },
  {
   "cell_type": "code",
   "execution_count": 9,
   "metadata": {},
   "outputs": [
    {
     "data": {
      "text/html": [
       "<div>\n",
       "<style scoped>\n",
       "    .dataframe tbody tr th:only-of-type {\n",
       "        vertical-align: middle;\n",
       "    }\n",
       "\n",
       "    .dataframe tbody tr th {\n",
       "        vertical-align: top;\n",
       "    }\n",
       "\n",
       "    .dataframe thead th {\n",
       "        text-align: right;\n",
       "    }\n",
       "</style>\n",
       "<table border=\"1\" class=\"dataframe\">\n",
       "  <thead>\n",
       "    <tr style=\"text-align: right;\">\n",
       "      <th></th>\n",
       "      <th>nom_departement</th>\n",
       "      <th>Total_Mutations</th>\n",
       "    </tr>\n",
       "  </thead>\n",
       "  <tbody>\n",
       "    <tr>\n",
       "      <th>0</th>\n",
       "      <td>Ain</td>\n",
       "      <td>12389</td>\n",
       "    </tr>\n",
       "    <tr>\n",
       "      <th>1</th>\n",
       "      <td>Aisne</td>\n",
       "      <td>8306</td>\n",
       "    </tr>\n",
       "    <tr>\n",
       "      <th>2</th>\n",
       "      <td>Allier</td>\n",
       "      <td>5781</td>\n",
       "    </tr>\n",
       "    <tr>\n",
       "      <th>3</th>\n",
       "      <td>Alpes-Maritimes</td>\n",
       "      <td>89481</td>\n",
       "    </tr>\n",
       "    <tr>\n",
       "      <th>4</th>\n",
       "      <td>Alpes-de-Haute-Provence</td>\n",
       "      <td>3949</td>\n",
       "    </tr>\n",
       "  </tbody>\n",
       "</table>\n",
       "</div>"
      ],
      "text/plain": [
       "           nom_departement  Total_Mutations\n",
       "0                      Ain            12389\n",
       "1                    Aisne             8306\n",
       "2                   Allier             5781\n",
       "3          Alpes-Maritimes            89481\n",
       "4  Alpes-de-Haute-Provence             3949"
      ]
     },
     "execution_count": 9,
     "metadata": {},
     "output_type": "execute_result"
    }
   ],
   "source": [
    "n_mutation = pd.read_csv(\"nbre_ventes.csv\")\n",
    "n_mutation.head()"
   ]
  },
  {
   "cell_type": "code",
   "execution_count": 10,
   "metadata": {},
   "outputs": [
    {
     "data": {
      "text/html": [
       "<div>\n",
       "<style scoped>\n",
       "    .dataframe tbody tr th:only-of-type {\n",
       "        vertical-align: middle;\n",
       "    }\n",
       "\n",
       "    .dataframe tbody tr th {\n",
       "        vertical-align: top;\n",
       "    }\n",
       "\n",
       "    .dataframe thead th {\n",
       "        text-align: right;\n",
       "    }\n",
       "</style>\n",
       "<table border=\"1\" class=\"dataframe\">\n",
       "  <thead>\n",
       "    <tr style=\"text-align: right;\">\n",
       "      <th></th>\n",
       "      <th>Nombre de lots</th>\n",
       "      <th>Type local</th>\n",
       "      <th>Surface reelle bati</th>\n",
       "      <th>Nombre pieces principales</th>\n",
       "      <th>Surface terrain</th>\n",
       "      <th>exterieur</th>\n",
       "      <th>month</th>\n",
       "      <th>nom_departement</th>\n",
       "      <th>nom_region</th>\n",
       "      <th>pop_active</th>\n",
       "      <th>salaire_moyen</th>\n",
       "      <th>nb_etab_elem</th>\n",
       "      <th>mean_prixm2</th>\n",
       "      <th>q1_prixm2</th>\n",
       "      <th>q3_prixm2</th>\n",
       "    </tr>\n",
       "  </thead>\n",
       "  <tbody>\n",
       "    <tr>\n",
       "      <th>0</th>\n",
       "      <td>0</td>\n",
       "      <td>Maison</td>\n",
       "      <td>150.0</td>\n",
       "      <td>3</td>\n",
       "      <td>347.0</td>\n",
       "      <td>1.0</td>\n",
       "      <td>1</td>\n",
       "      <td>Ain</td>\n",
       "      <td>Auvergne-Rhône-Alpes</td>\n",
       "      <td>320682.0</td>\n",
       "      <td>15.336249</td>\n",
       "      <td>405</td>\n",
       "      <td>2235.777587</td>\n",
       "      <td>1662.166667</td>\n",
       "      <td>2653.858156</td>\n",
       "    </tr>\n",
       "    <tr>\n",
       "      <th>1</th>\n",
       "      <td>0</td>\n",
       "      <td>Maison</td>\n",
       "      <td>180.0</td>\n",
       "      <td>6</td>\n",
       "      <td>680.0</td>\n",
       "      <td>1.0</td>\n",
       "      <td>6</td>\n",
       "      <td>Ain</td>\n",
       "      <td>Auvergne-Rhône-Alpes</td>\n",
       "      <td>320682.0</td>\n",
       "      <td>15.336249</td>\n",
       "      <td>405</td>\n",
       "      <td>2235.777587</td>\n",
       "      <td>1662.166667</td>\n",
       "      <td>2653.858156</td>\n",
       "    </tr>\n",
       "    <tr>\n",
       "      <th>2</th>\n",
       "      <td>0</td>\n",
       "      <td>Maison</td>\n",
       "      <td>147.0</td>\n",
       "      <td>6</td>\n",
       "      <td>1725.0</td>\n",
       "      <td>1.0</td>\n",
       "      <td>6</td>\n",
       "      <td>Ain</td>\n",
       "      <td>Auvergne-Rhône-Alpes</td>\n",
       "      <td>320682.0</td>\n",
       "      <td>15.336249</td>\n",
       "      <td>405</td>\n",
       "      <td>2235.777587</td>\n",
       "      <td>1662.166667</td>\n",
       "      <td>2653.858156</td>\n",
       "    </tr>\n",
       "    <tr>\n",
       "      <th>3</th>\n",
       "      <td>0</td>\n",
       "      <td>Local</td>\n",
       "      <td>1147.0</td>\n",
       "      <td>0</td>\n",
       "      <td>2693.0</td>\n",
       "      <td>1.0</td>\n",
       "      <td>6</td>\n",
       "      <td>Ain</td>\n",
       "      <td>Auvergne-Rhône-Alpes</td>\n",
       "      <td>320682.0</td>\n",
       "      <td>15.336249</td>\n",
       "      <td>405</td>\n",
       "      <td>2235.777587</td>\n",
       "      <td>1662.166667</td>\n",
       "      <td>2653.858156</td>\n",
       "    </tr>\n",
       "    <tr>\n",
       "      <th>4</th>\n",
       "      <td>0</td>\n",
       "      <td>Maison</td>\n",
       "      <td>97.0</td>\n",
       "      <td>4</td>\n",
       "      <td>1050.0</td>\n",
       "      <td>1.0</td>\n",
       "      <td>7</td>\n",
       "      <td>Ain</td>\n",
       "      <td>Auvergne-Rhône-Alpes</td>\n",
       "      <td>320682.0</td>\n",
       "      <td>15.336249</td>\n",
       "      <td>405</td>\n",
       "      <td>2235.777587</td>\n",
       "      <td>1662.166667</td>\n",
       "      <td>2653.858156</td>\n",
       "    </tr>\n",
       "  </tbody>\n",
       "</table>\n",
       "</div>"
      ],
      "text/plain": [
       "   Nombre de lots Type local  Surface reelle bati  Nombre pieces principales  \\\n",
       "0               0     Maison                150.0                          3   \n",
       "1               0     Maison                180.0                          6   \n",
       "2               0     Maison                147.0                          6   \n",
       "3               0      Local               1147.0                          0   \n",
       "4               0     Maison                 97.0                          4   \n",
       "\n",
       "   Surface terrain  exterieur  month nom_departement            nom_region  \\\n",
       "0            347.0        1.0      1             Ain  Auvergne-Rhône-Alpes   \n",
       "1            680.0        1.0      6             Ain  Auvergne-Rhône-Alpes   \n",
       "2           1725.0        1.0      6             Ain  Auvergne-Rhône-Alpes   \n",
       "3           2693.0        1.0      6             Ain  Auvergne-Rhône-Alpes   \n",
       "4           1050.0        1.0      7             Ain  Auvergne-Rhône-Alpes   \n",
       "\n",
       "   pop_active  salaire_moyen  nb_etab_elem  mean_prixm2    q1_prixm2  \\\n",
       "0    320682.0      15.336249           405  2235.777587  1662.166667   \n",
       "1    320682.0      15.336249           405  2235.777587  1662.166667   \n",
       "2    320682.0      15.336249           405  2235.777587  1662.166667   \n",
       "3    320682.0      15.336249           405  2235.777587  1662.166667   \n",
       "4    320682.0      15.336249           405  2235.777587  1662.166667   \n",
       "\n",
       "     q3_prixm2  \n",
       "0  2653.858156  \n",
       "1  2653.858156  \n",
       "2  2653.858156  \n",
       "3  2653.858156  \n",
       "4  2653.858156  "
      ]
     },
     "execution_count": 10,
     "metadata": {},
     "output_type": "execute_result"
    }
   ],
   "source": [
    "df_model = pd.merge(df_model, m2,how=\"inner\", on=\"nom_departement\")\n",
    "df_model.head()"
   ]
  },
  {
   "cell_type": "code",
   "execution_count": 11,
   "metadata": {},
   "outputs": [
    {
     "data": {
      "text/html": [
       "<div>\n",
       "<style scoped>\n",
       "    .dataframe tbody tr th:only-of-type {\n",
       "        vertical-align: middle;\n",
       "    }\n",
       "\n",
       "    .dataframe tbody tr th {\n",
       "        vertical-align: top;\n",
       "    }\n",
       "\n",
       "    .dataframe thead th {\n",
       "        text-align: right;\n",
       "    }\n",
       "</style>\n",
       "<table border=\"1\" class=\"dataframe\">\n",
       "  <thead>\n",
       "    <tr style=\"text-align: right;\">\n",
       "      <th></th>\n",
       "      <th>Nombre de lots</th>\n",
       "      <th>Type local</th>\n",
       "      <th>Surface reelle bati</th>\n",
       "      <th>Nombre pieces principales</th>\n",
       "      <th>Surface terrain</th>\n",
       "      <th>exterieur</th>\n",
       "      <th>month</th>\n",
       "      <th>nom_departement</th>\n",
       "      <th>nom_region</th>\n",
       "      <th>pop_active</th>\n",
       "      <th>salaire_moyen</th>\n",
       "      <th>nb_etab_elem</th>\n",
       "      <th>mean_prixm2</th>\n",
       "      <th>q1_prixm2</th>\n",
       "      <th>q3_prixm2</th>\n",
       "      <th>Total_Mutations</th>\n",
       "    </tr>\n",
       "  </thead>\n",
       "  <tbody>\n",
       "    <tr>\n",
       "      <th>0</th>\n",
       "      <td>0</td>\n",
       "      <td>Maison</td>\n",
       "      <td>150.0</td>\n",
       "      <td>3</td>\n",
       "      <td>347.0</td>\n",
       "      <td>1.0</td>\n",
       "      <td>1</td>\n",
       "      <td>Ain</td>\n",
       "      <td>Auvergne-Rhône-Alpes</td>\n",
       "      <td>320682.0</td>\n",
       "      <td>15.336249</td>\n",
       "      <td>405</td>\n",
       "      <td>2235.777587</td>\n",
       "      <td>1662.166667</td>\n",
       "      <td>2653.858156</td>\n",
       "      <td>12389</td>\n",
       "    </tr>\n",
       "    <tr>\n",
       "      <th>1</th>\n",
       "      <td>0</td>\n",
       "      <td>Maison</td>\n",
       "      <td>180.0</td>\n",
       "      <td>6</td>\n",
       "      <td>680.0</td>\n",
       "      <td>1.0</td>\n",
       "      <td>6</td>\n",
       "      <td>Ain</td>\n",
       "      <td>Auvergne-Rhône-Alpes</td>\n",
       "      <td>320682.0</td>\n",
       "      <td>15.336249</td>\n",
       "      <td>405</td>\n",
       "      <td>2235.777587</td>\n",
       "      <td>1662.166667</td>\n",
       "      <td>2653.858156</td>\n",
       "      <td>12389</td>\n",
       "    </tr>\n",
       "    <tr>\n",
       "      <th>2</th>\n",
       "      <td>0</td>\n",
       "      <td>Maison</td>\n",
       "      <td>147.0</td>\n",
       "      <td>6</td>\n",
       "      <td>1725.0</td>\n",
       "      <td>1.0</td>\n",
       "      <td>6</td>\n",
       "      <td>Ain</td>\n",
       "      <td>Auvergne-Rhône-Alpes</td>\n",
       "      <td>320682.0</td>\n",
       "      <td>15.336249</td>\n",
       "      <td>405</td>\n",
       "      <td>2235.777587</td>\n",
       "      <td>1662.166667</td>\n",
       "      <td>2653.858156</td>\n",
       "      <td>12389</td>\n",
       "    </tr>\n",
       "    <tr>\n",
       "      <th>3</th>\n",
       "      <td>0</td>\n",
       "      <td>Local</td>\n",
       "      <td>1147.0</td>\n",
       "      <td>0</td>\n",
       "      <td>2693.0</td>\n",
       "      <td>1.0</td>\n",
       "      <td>6</td>\n",
       "      <td>Ain</td>\n",
       "      <td>Auvergne-Rhône-Alpes</td>\n",
       "      <td>320682.0</td>\n",
       "      <td>15.336249</td>\n",
       "      <td>405</td>\n",
       "      <td>2235.777587</td>\n",
       "      <td>1662.166667</td>\n",
       "      <td>2653.858156</td>\n",
       "      <td>12389</td>\n",
       "    </tr>\n",
       "    <tr>\n",
       "      <th>4</th>\n",
       "      <td>0</td>\n",
       "      <td>Maison</td>\n",
       "      <td>97.0</td>\n",
       "      <td>4</td>\n",
       "      <td>1050.0</td>\n",
       "      <td>1.0</td>\n",
       "      <td>7</td>\n",
       "      <td>Ain</td>\n",
       "      <td>Auvergne-Rhône-Alpes</td>\n",
       "      <td>320682.0</td>\n",
       "      <td>15.336249</td>\n",
       "      <td>405</td>\n",
       "      <td>2235.777587</td>\n",
       "      <td>1662.166667</td>\n",
       "      <td>2653.858156</td>\n",
       "      <td>12389</td>\n",
       "    </tr>\n",
       "  </tbody>\n",
       "</table>\n",
       "</div>"
      ],
      "text/plain": [
       "   Nombre de lots Type local  Surface reelle bati  Nombre pieces principales  \\\n",
       "0               0     Maison                150.0                          3   \n",
       "1               0     Maison                180.0                          6   \n",
       "2               0     Maison                147.0                          6   \n",
       "3               0      Local               1147.0                          0   \n",
       "4               0     Maison                 97.0                          4   \n",
       "\n",
       "   Surface terrain  exterieur  month nom_departement            nom_region  \\\n",
       "0            347.0        1.0      1             Ain  Auvergne-Rhône-Alpes   \n",
       "1            680.0        1.0      6             Ain  Auvergne-Rhône-Alpes   \n",
       "2           1725.0        1.0      6             Ain  Auvergne-Rhône-Alpes   \n",
       "3           2693.0        1.0      6             Ain  Auvergne-Rhône-Alpes   \n",
       "4           1050.0        1.0      7             Ain  Auvergne-Rhône-Alpes   \n",
       "\n",
       "   pop_active  salaire_moyen  nb_etab_elem  mean_prixm2    q1_prixm2  \\\n",
       "0    320682.0      15.336249           405  2235.777587  1662.166667   \n",
       "1    320682.0      15.336249           405  2235.777587  1662.166667   \n",
       "2    320682.0      15.336249           405  2235.777587  1662.166667   \n",
       "3    320682.0      15.336249           405  2235.777587  1662.166667   \n",
       "4    320682.0      15.336249           405  2235.777587  1662.166667   \n",
       "\n",
       "     q3_prixm2  Total_Mutations  \n",
       "0  2653.858156            12389  \n",
       "1  2653.858156            12389  \n",
       "2  2653.858156            12389  \n",
       "3  2653.858156            12389  \n",
       "4  2653.858156            12389  "
      ]
     },
     "execution_count": 11,
     "metadata": {},
     "output_type": "execute_result"
    }
   ],
   "source": [
    "df_model = pd.merge(df_model, n_mutation,how=\"inner\", on=\"nom_departement\")\n",
    "df_model.head()"
   ]
  },
  {
   "cell_type": "code",
   "execution_count": 12,
   "metadata": {},
   "outputs": [
    {
     "data": {
      "text/plain": [
       "(2142628, 16)"
      ]
     },
     "execution_count": 12,
     "metadata": {},
     "output_type": "execute_result"
    }
   ],
   "source": [
    "df_model.shape"
   ]
  },
  {
   "cell_type": "markdown",
   "metadata": {},
   "source": [
    "Nous pouvons ensuite diviser notre jeu de données tout d'abord en séparant entre les variables exogènes et la variable endogène (Type local), puis ensuite en un échantillon d'apprentissage et un échantillon test. "
   ]
  },
  {
   "cell_type": "code",
   "execution_count": 13,
   "metadata": {},
   "outputs": [
    {
     "data": {
      "text/html": [
       "<div>\n",
       "<style scoped>\n",
       "    .dataframe tbody tr th:only-of-type {\n",
       "        vertical-align: middle;\n",
       "    }\n",
       "\n",
       "    .dataframe tbody tr th {\n",
       "        vertical-align: top;\n",
       "    }\n",
       "\n",
       "    .dataframe thead th {\n",
       "        text-align: right;\n",
       "    }\n",
       "</style>\n",
       "<table border=\"1\" class=\"dataframe\">\n",
       "  <thead>\n",
       "    <tr style=\"text-align: right;\">\n",
       "      <th></th>\n",
       "      <th>Nombre de lots</th>\n",
       "      <th>Surface reelle bati</th>\n",
       "      <th>Nombre pieces principales</th>\n",
       "      <th>Surface terrain</th>\n",
       "      <th>exterieur</th>\n",
       "      <th>month</th>\n",
       "      <th>pop_active</th>\n",
       "      <th>salaire_moyen</th>\n",
       "      <th>nb_etab_elem</th>\n",
       "      <th>mean_prixm2</th>\n",
       "      <th>q1_prixm2</th>\n",
       "      <th>q3_prixm2</th>\n",
       "      <th>Total_Mutations</th>\n",
       "    </tr>\n",
       "  </thead>\n",
       "  <tbody>\n",
       "    <tr>\n",
       "      <th>0</th>\n",
       "      <td>0</td>\n",
       "      <td>150.0</td>\n",
       "      <td>3</td>\n",
       "      <td>347.0</td>\n",
       "      <td>1.0</td>\n",
       "      <td>1</td>\n",
       "      <td>320682.0</td>\n",
       "      <td>15.336249</td>\n",
       "      <td>405</td>\n",
       "      <td>2235.777587</td>\n",
       "      <td>1662.166667</td>\n",
       "      <td>2653.858156</td>\n",
       "      <td>12389</td>\n",
       "    </tr>\n",
       "    <tr>\n",
       "      <th>1</th>\n",
       "      <td>0</td>\n",
       "      <td>180.0</td>\n",
       "      <td>6</td>\n",
       "      <td>680.0</td>\n",
       "      <td>1.0</td>\n",
       "      <td>6</td>\n",
       "      <td>320682.0</td>\n",
       "      <td>15.336249</td>\n",
       "      <td>405</td>\n",
       "      <td>2235.777587</td>\n",
       "      <td>1662.166667</td>\n",
       "      <td>2653.858156</td>\n",
       "      <td>12389</td>\n",
       "    </tr>\n",
       "    <tr>\n",
       "      <th>2</th>\n",
       "      <td>0</td>\n",
       "      <td>147.0</td>\n",
       "      <td>6</td>\n",
       "      <td>1725.0</td>\n",
       "      <td>1.0</td>\n",
       "      <td>6</td>\n",
       "      <td>320682.0</td>\n",
       "      <td>15.336249</td>\n",
       "      <td>405</td>\n",
       "      <td>2235.777587</td>\n",
       "      <td>1662.166667</td>\n",
       "      <td>2653.858156</td>\n",
       "      <td>12389</td>\n",
       "    </tr>\n",
       "    <tr>\n",
       "      <th>3</th>\n",
       "      <td>0</td>\n",
       "      <td>1147.0</td>\n",
       "      <td>0</td>\n",
       "      <td>2693.0</td>\n",
       "      <td>1.0</td>\n",
       "      <td>6</td>\n",
       "      <td>320682.0</td>\n",
       "      <td>15.336249</td>\n",
       "      <td>405</td>\n",
       "      <td>2235.777587</td>\n",
       "      <td>1662.166667</td>\n",
       "      <td>2653.858156</td>\n",
       "      <td>12389</td>\n",
       "    </tr>\n",
       "    <tr>\n",
       "      <th>4</th>\n",
       "      <td>0</td>\n",
       "      <td>97.0</td>\n",
       "      <td>4</td>\n",
       "      <td>1050.0</td>\n",
       "      <td>1.0</td>\n",
       "      <td>7</td>\n",
       "      <td>320682.0</td>\n",
       "      <td>15.336249</td>\n",
       "      <td>405</td>\n",
       "      <td>2235.777587</td>\n",
       "      <td>1662.166667</td>\n",
       "      <td>2653.858156</td>\n",
       "      <td>12389</td>\n",
       "    </tr>\n",
       "  </tbody>\n",
       "</table>\n",
       "</div>"
      ],
      "text/plain": [
       "   Nombre de lots  Surface reelle bati  Nombre pieces principales  \\\n",
       "0               0                150.0                          3   \n",
       "1               0                180.0                          6   \n",
       "2               0                147.0                          6   \n",
       "3               0               1147.0                          0   \n",
       "4               0                 97.0                          4   \n",
       "\n",
       "   Surface terrain  exterieur  month  pop_active  salaire_moyen  nb_etab_elem  \\\n",
       "0            347.0        1.0      1    320682.0      15.336249           405   \n",
       "1            680.0        1.0      6    320682.0      15.336249           405   \n",
       "2           1725.0        1.0      6    320682.0      15.336249           405   \n",
       "3           2693.0        1.0      6    320682.0      15.336249           405   \n",
       "4           1050.0        1.0      7    320682.0      15.336249           405   \n",
       "\n",
       "   mean_prixm2    q1_prixm2    q3_prixm2  Total_Mutations  \n",
       "0  2235.777587  1662.166667  2653.858156            12389  \n",
       "1  2235.777587  1662.166667  2653.858156            12389  \n",
       "2  2235.777587  1662.166667  2653.858156            12389  \n",
       "3  2235.777587  1662.166667  2653.858156            12389  \n",
       "4  2235.777587  1662.166667  2653.858156            12389  "
      ]
     },
     "execution_count": 13,
     "metadata": {},
     "output_type": "execute_result"
    }
   ],
   "source": [
    "X = df_model.drop(columns=[\"Type local\", \"nom_departement\", \"nom_region\"])\n",
    "X.head()"
   ]
  },
  {
   "cell_type": "code",
   "execution_count": 14,
   "metadata": {},
   "outputs": [
    {
     "data": {
      "text/plain": [
       "0    Maison\n",
       "1    Maison\n",
       "2    Maison\n",
       "3     Local\n",
       "4    Maison\n",
       "Name: Type local, dtype: object"
      ]
     },
     "execution_count": 14,
     "metadata": {},
     "output_type": "execute_result"
    }
   ],
   "source": [
    "y = df_model.iloc[:,1]\n",
    "y.head()"
   ]
  },
  {
   "cell_type": "code",
   "execution_count": 15,
   "metadata": {},
   "outputs": [],
   "source": [
    "X_train, X_test, y_train, y_test = train_test_split(X,y,test_size=0.33, stratify=y, random_state=42)"
   ]
  },
  {
   "cell_type": "code",
   "execution_count": 16,
   "metadata": {},
   "outputs": [
    {
     "data": {
      "text/html": [
       "<div>\n",
       "<style scoped>\n",
       "    .dataframe tbody tr th:only-of-type {\n",
       "        vertical-align: middle;\n",
       "    }\n",
       "\n",
       "    .dataframe tbody tr th {\n",
       "        vertical-align: top;\n",
       "    }\n",
       "\n",
       "    .dataframe thead th {\n",
       "        text-align: right;\n",
       "    }\n",
       "</style>\n",
       "<table border=\"1\" class=\"dataframe\">\n",
       "  <thead>\n",
       "    <tr style=\"text-align: right;\">\n",
       "      <th></th>\n",
       "      <th>Nombre de lots</th>\n",
       "      <th>Surface reelle bati</th>\n",
       "      <th>Nombre pieces principales</th>\n",
       "      <th>Surface terrain</th>\n",
       "      <th>exterieur</th>\n",
       "      <th>month</th>\n",
       "      <th>pop_active</th>\n",
       "      <th>salaire_moyen</th>\n",
       "      <th>nb_etab_elem</th>\n",
       "      <th>mean_prixm2</th>\n",
       "      <th>q1_prixm2</th>\n",
       "      <th>q3_prixm2</th>\n",
       "      <th>Total_Mutations</th>\n",
       "    </tr>\n",
       "  </thead>\n",
       "  <tbody>\n",
       "    <tr>\n",
       "      <th>625441</th>\n",
       "      <td>2</td>\n",
       "      <td>68.0</td>\n",
       "      <td>4</td>\n",
       "      <td>0.0</td>\n",
       "      <td>0.0</td>\n",
       "      <td>10</td>\n",
       "      <td>785650.0</td>\n",
       "      <td>16.008478</td>\n",
       "      <td>664</td>\n",
       "      <td>2302.792366</td>\n",
       "      <td>1614.083333</td>\n",
       "      <td>2742.625000</td>\n",
       "      <td>55058</td>\n",
       "    </tr>\n",
       "    <tr>\n",
       "      <th>499439</th>\n",
       "      <td>0</td>\n",
       "      <td>110.0</td>\n",
       "      <td>5</td>\n",
       "      <td>350.0</td>\n",
       "      <td>1.0</td>\n",
       "      <td>12</td>\n",
       "      <td>405879.0</td>\n",
       "      <td>14.324161</td>\n",
       "      <td>534</td>\n",
       "      <td>1812.268260</td>\n",
       "      <td>1422.877273</td>\n",
       "      <td>2157.753655</td>\n",
       "      <td>18104</td>\n",
       "    </tr>\n",
       "    <tr>\n",
       "      <th>1814716</th>\n",
       "      <td>0</td>\n",
       "      <td>115.0</td>\n",
       "      <td>4</td>\n",
       "      <td>1448.0</td>\n",
       "      <td>1.0</td>\n",
       "      <td>3</td>\n",
       "      <td>247482.0</td>\n",
       "      <td>14.528516</td>\n",
       "      <td>262</td>\n",
       "      <td>3121.845347</td>\n",
       "      <td>2448.610500</td>\n",
       "      <td>3526.818000</td>\n",
       "      <td>11342</td>\n",
       "    </tr>\n",
       "    <tr>\n",
       "      <th>1924509</th>\n",
       "      <td>0</td>\n",
       "      <td>89.0</td>\n",
       "      <td>4</td>\n",
       "      <td>370.0</td>\n",
       "      <td>1.0</td>\n",
       "      <td>8</td>\n",
       "      <td>636748.0</td>\n",
       "      <td>17.849039</td>\n",
       "      <td>470</td>\n",
       "      <td>3262.875189</td>\n",
       "      <td>2807.924750</td>\n",
       "      <td>3656.625250</td>\n",
       "      <td>19873</td>\n",
       "    </tr>\n",
       "    <tr>\n",
       "      <th>987747</th>\n",
       "      <td>0</td>\n",
       "      <td>120.0</td>\n",
       "      <td>5</td>\n",
       "      <td>90.0</td>\n",
       "      <td>1.0</td>\n",
       "      <td>1</td>\n",
       "      <td>73676.0</td>\n",
       "      <td>13.643049</td>\n",
       "      <td>155</td>\n",
       "      <td>1629.859706</td>\n",
       "      <td>1361.583500</td>\n",
       "      <td>1791.500000</td>\n",
       "      <td>3415</td>\n",
       "    </tr>\n",
       "  </tbody>\n",
       "</table>\n",
       "</div>"
      ],
      "text/plain": [
       "         Nombre de lots  Surface reelle bati  Nombre pieces principales  \\\n",
       "625441                2                 68.0                          4   \n",
       "499439                0                110.0                          5   \n",
       "1814716               0                115.0                          4   \n",
       "1924509               0                 89.0                          4   \n",
       "987747                0                120.0                          5   \n",
       "\n",
       "         Surface terrain  exterieur  month  pop_active  salaire_moyen  \\\n",
       "625441               0.0        0.0     10    785650.0      16.008478   \n",
       "499439             350.0        1.0     12    405879.0      14.324161   \n",
       "1814716           1448.0        1.0      3    247482.0      14.528516   \n",
       "1924509            370.0        1.0      8    636748.0      17.849039   \n",
       "987747              90.0        1.0      1     73676.0      13.643049   \n",
       "\n",
       "         nb_etab_elem  mean_prixm2    q1_prixm2    q3_prixm2  Total_Mutations  \n",
       "625441            664  2302.792366  1614.083333  2742.625000            55058  \n",
       "499439            534  1812.268260  1422.877273  2157.753655            18104  \n",
       "1814716           262  3121.845347  2448.610500  3526.818000            11342  \n",
       "1924509           470  3262.875189  2807.924750  3656.625250            19873  \n",
       "987747            155  1629.859706  1361.583500  1791.500000             3415  "
      ]
     },
     "execution_count": 16,
     "metadata": {},
     "output_type": "execute_result"
    }
   ],
   "source": [
    "X_train.head()"
   ]
  },
  {
   "cell_type": "markdown",
   "metadata": {},
   "source": [
    "## Decision Tree Classifier"
   ]
  },
  {
   "cell_type": "markdown",
   "metadata": {},
   "source": [
    "Pour réaliser cette classification, nous nous baserons sur un algorithme de classification de type arbre de décision. Pour trouver les meilleurs paramètres, nous utiliserons la fonction GridSearchCV qui va venir comparer les différentes combinaisons d'hyperparamètres."
   ]
  },
  {
   "cell_type": "code",
   "execution_count": 17,
   "metadata": {},
   "outputs": [],
   "source": [
    "# On instantie l'arbre de classification\n",
    "tree = DecisionTreeClassifier()"
   ]
  },
  {
   "cell_type": "code",
   "execution_count": 18,
   "metadata": {},
   "outputs": [
    {
     "data": {
      "text/plain": [
       "DecisionTreeClassifier()"
      ]
     },
     "execution_count": 18,
     "metadata": {},
     "output_type": "execute_result"
    }
   ],
   "source": [
    "tree"
   ]
  },
  {
   "cell_type": "code",
   "execution_count": 19,
   "metadata": {},
   "outputs": [],
   "source": [
    "# Dictionnaire avec les hyperparamètres à tester\n",
    "parameters = {'min_samples_split': [100,500,1000,5000,10000], \n",
    "               'min_samples_leaf':[50,250,500,2500,5000],\n",
    "               'random_state':[42]\n",
    "               }"
   ]
  },
  {
   "cell_type": "code",
   "execution_count": 20,
   "metadata": {},
   "outputs": [],
   "source": [
    "# On instantie notre objet de gridsearch\n",
    "clf = GridSearchCV(tree, parameters)"
   ]
  },
  {
   "cell_type": "code",
   "execution_count": 21,
   "metadata": {},
   "outputs": [
    {
     "data": {
      "text/plain": [
       "GridSearchCV(estimator=DecisionTreeClassifier(),\n",
       "             param_grid={'min_samples_leaf': [50, 250, 500, 2500, 5000],\n",
       "                         'min_samples_split': [100, 500, 1000, 5000, 10000],\n",
       "                         'random_state': [42]})"
      ]
     },
     "execution_count": 21,
     "metadata": {},
     "output_type": "execute_result"
    }
   ],
   "source": [
    "# On l'apprend sur notre échantillon d'apprentissage.\n",
    "clf.fit(X_train, y_train) "
   ]
  },
  {
   "cell_type": "code",
   "execution_count": 22,
   "metadata": {},
   "outputs": [
    {
     "name": "stdout",
     "output_type": "stream",
     "text": [
      "{'min_samples_leaf': 50, 'min_samples_split': 100, 'random_state': 42}\n"
     ]
    }
   ],
   "source": [
    "print(clf.best_params_) "
   ]
  },
  {
   "cell_type": "markdown",
   "metadata": {},
   "source": [
    "Cela nous permet ensuite de pouvoir récupérer l'importance de chaque variable dans l'arbre de classification. "
   ]
  },
  {
   "cell_type": "code",
   "execution_count": 23,
   "metadata": {},
   "outputs": [
    {
     "data": {
      "text/plain": [
       "array([4.85300287e-01, 1.28846458e-01, 3.71154340e-01, 6.98033655e-03,\n",
       "       1.23586628e-05, 7.55017568e-04, 9.50514683e-04, 2.13126944e-03,\n",
       "       7.53307488e-04, 8.93194448e-04, 8.67076155e-04, 4.64749740e-04,\n",
       "       8.91090674e-04])"
      ]
     },
     "execution_count": 23,
     "metadata": {},
     "output_type": "execute_result"
    }
   ],
   "source": [
    "\n",
    "importance = clf.best_estimator_.feature_importances_\n",
    "importance"
   ]
  },
  {
   "cell_type": "code",
   "execution_count": 24,
   "metadata": {},
   "outputs": [
    {
     "name": "stdout",
     "output_type": "stream",
     "text": [
      "feature: Nombre de lots, importance: 0.4853002865981976\n",
      "feature: Surface reelle bati, importance: 0.1288464583274982\n",
      "feature: Nombre pieces principales, importance: 0.37115433966261663\n",
      "feature: Surface terrain, importance: 0.006980336547561454\n",
      "feature: exterieur, importance: 1.2358662844754847e-05\n",
      "feature: month, importance: 0.0007550175680197313\n",
      "feature: pop_active, importance: 0.0009505146825050148\n",
      "feature: salaire_moyen, importance: 0.002131269444943296\n",
      "feature: nb_etab_elem, importance: 0.0007533074883603952\n",
      "feature: mean_prixm2, importance: 0.0008931944477500792\n",
      "feature: q1_prixm2, importance: 0.0008670761550415277\n",
      "feature: q3_prixm2, importance: 0.0004647497403812607\n",
      "feature: Total_Mutations, importance: 0.0008910906742800864\n"
     ]
    }
   ],
   "source": [
    "for feat, importance in zip(X_train.columns, clf.best_estimator_.feature_importances_):\n",
    "    print('feature: {f}, importance: {i}'.format(f=feat, i=importance))"
   ]
  },
  {
   "cell_type": "code",
   "execution_count": 31,
   "metadata": {},
   "outputs": [
    {
     "data": {
      "text/html": [
       "<div>\n",
       "<style scoped>\n",
       "    .dataframe tbody tr th:only-of-type {\n",
       "        vertical-align: middle;\n",
       "    }\n",
       "\n",
       "    .dataframe tbody tr th {\n",
       "        vertical-align: top;\n",
       "    }\n",
       "\n",
       "    .dataframe thead th {\n",
       "        text-align: right;\n",
       "    }\n",
       "</style>\n",
       "<table border=\"1\" class=\"dataframe\">\n",
       "  <thead>\n",
       "    <tr style=\"text-align: right;\">\n",
       "      <th></th>\n",
       "      <th>importance</th>\n",
       "      <th>variables</th>\n",
       "    </tr>\n",
       "  </thead>\n",
       "  <tbody>\n",
       "    <tr>\n",
       "      <th>0</th>\n",
       "      <td>0.485300</td>\n",
       "      <td>Nombre de lots</td>\n",
       "    </tr>\n",
       "    <tr>\n",
       "      <th>2</th>\n",
       "      <td>0.371154</td>\n",
       "      <td>Nombre pieces principales</td>\n",
       "    </tr>\n",
       "    <tr>\n",
       "      <th>1</th>\n",
       "      <td>0.128846</td>\n",
       "      <td>Surface reelle bati</td>\n",
       "    </tr>\n",
       "    <tr>\n",
       "      <th>3</th>\n",
       "      <td>0.006980</td>\n",
       "      <td>Surface terrain</td>\n",
       "    </tr>\n",
       "    <tr>\n",
       "      <th>7</th>\n",
       "      <td>0.002131</td>\n",
       "      <td>salaire_moyen</td>\n",
       "    </tr>\n",
       "    <tr>\n",
       "      <th>6</th>\n",
       "      <td>0.000951</td>\n",
       "      <td>pop_active</td>\n",
       "    </tr>\n",
       "    <tr>\n",
       "      <th>9</th>\n",
       "      <td>0.000893</td>\n",
       "      <td>mean_prixm2</td>\n",
       "    </tr>\n",
       "    <tr>\n",
       "      <th>12</th>\n",
       "      <td>0.000891</td>\n",
       "      <td>Total_Mutations</td>\n",
       "    </tr>\n",
       "    <tr>\n",
       "      <th>10</th>\n",
       "      <td>0.000867</td>\n",
       "      <td>q1_prixm2</td>\n",
       "    </tr>\n",
       "    <tr>\n",
       "      <th>5</th>\n",
       "      <td>0.000755</td>\n",
       "      <td>month</td>\n",
       "    </tr>\n",
       "    <tr>\n",
       "      <th>8</th>\n",
       "      <td>0.000753</td>\n",
       "      <td>nb_etab_elem</td>\n",
       "    </tr>\n",
       "    <tr>\n",
       "      <th>11</th>\n",
       "      <td>0.000465</td>\n",
       "      <td>q3_prixm2</td>\n",
       "    </tr>\n",
       "    <tr>\n",
       "      <th>4</th>\n",
       "      <td>0.000012</td>\n",
       "      <td>exterieur</td>\n",
       "    </tr>\n",
       "  </tbody>\n",
       "</table>\n",
       "</div>"
      ],
      "text/plain": [
       "    importance                  variables\n",
       "0     0.485300             Nombre de lots\n",
       "2     0.371154  Nombre pieces principales\n",
       "1     0.128846        Surface reelle bati\n",
       "3     0.006980            Surface terrain\n",
       "7     0.002131              salaire_moyen\n",
       "6     0.000951                 pop_active\n",
       "9     0.000893                mean_prixm2\n",
       "12    0.000891            Total_Mutations\n",
       "10    0.000867                  q1_prixm2\n",
       "5     0.000755                      month\n",
       "8     0.000753               nb_etab_elem\n",
       "11    0.000465                  q3_prixm2\n",
       "4     0.000012                  exterieur"
      ]
     },
     "execution_count": 31,
     "metadata": {},
     "output_type": "execute_result"
    }
   ],
   "source": [
    "feat_import = pd.DataFrame({\"importance\": clf.best_estimator_.feature_importances_, \"variables\": X_train.columns}).sort_values(by=\"importance\", ascending=False)\n",
    "feat_import"
   ]
  },
  {
   "cell_type": "code",
   "execution_count": 32,
   "metadata": {},
   "outputs": [
    {
     "data": {
      "text/plain": [
       "<Axes: xlabel='importance', ylabel='variables'>"
      ]
     },
     "execution_count": 32,
     "metadata": {},
     "output_type": "execute_result"
    },
    {
     "data": {
      "image/png": "[encoded data removed]",
      "text/plain": [
       "<Figure size 432x288 with 1 Axes>"
      ]
     },
     "metadata": {
      "needs_background": "light"
     },
     "output_type": "display_data"
    }
   ],
   "source": [
    "sns.barplot(data=feat_import,  x=\"importance\",y=\"variables\")"
   ]
  },
  {
   "cell_type": "markdown",
   "metadata": {},
   "source": [
    "Nous pouvons en conclure que manifestement c'est le nombre de lots, la surface réelle du batiment et le nombre de pièces principales qui sont déterminants pour pouvoir classifier les différents types de biens. Le reste des variables est d'importance minime (moins de 1%)."
   ]
  },
  {
   "cell_type": "code",
   "execution_count": 27,
   "metadata": {},
   "outputs": [],
   "source": [
    "\n",
    "grid_predictions = clf.predict(X_test) "
   ]
  },
  {
   "cell_type": "code",
   "execution_count": 28,
   "metadata": {},
   "outputs": [],
   "source": [
    "from sklearn.metrics import classification_report, confusion_matrix"
   ]
  },
  {
   "cell_type": "code",
   "execution_count": 29,
   "metadata": {},
   "outputs": [
    {
     "name": "stdout",
     "output_type": "stream",
     "text": [
      "              precision    recall  f1-score   support\n",
      "\n",
      " Appartement       0.94      0.97      0.95    178160\n",
      "  Dépendance       0.99      1.00      0.99     96224\n",
      "       Local       0.98      0.96      0.97     40351\n",
      "      Maison       0.99      0.97      0.98    392333\n",
      "\n",
      "    accuracy                           0.97    707068\n",
      "   macro avg       0.97      0.98      0.97    707068\n",
      "weighted avg       0.97      0.97      0.97    707068\n",
      "\n"
     ]
    }
   ],
   "source": [
    "print(classification_report(y_test, grid_predictions)) "
   ]
  },
  {
   "cell_type": "markdown",
   "metadata": {},
   "source": [
    "Nous pouvons observer que sur notre échantillon test, notre algorithme de classification a de très bonnes mesures de performance. Il devrait donc réussir à classifier les biens n'ayant pas de types de locaux attribués de manière précise. "
   ]
  },
  {
   "cell_type": "markdown",
   "metadata": {},
   "source": [
    "Nous pouvons donc ensuite extraire notre modèle pour l'utiliser plus tart dans les pipelines de préprocessing."
   ]
  },
  {
   "cell_type": "code",
   "execution_count": 30,
   "metadata": {},
   "outputs": [],
   "source": [
    "model_pkl_file = \"tree_classif_typelocal3.pkl\"  \n",
    "\n",
    "with open(model_pkl_file, 'wb') as file:  \n",
    "    pickle.dump(clf.best_estimator_, file)"
   ]
  }
 ],
 "metadata": {
  "kernelspec": {
   "display_name": "base",
   "language": "python",
   "name": "python3"
  },
  "language_info": {
   "codemirror_mode": {
    "name": "ipython",
    "version": 3
   },
   "file_extension": ".py",
   "mimetype": "text/x-python",
   "name": "python",
   "nbconvert_exporter": "python",
   "pygments_lexer": "ipython3",
   "version": "3.9.12"
  }
 },
 "nbformat": 4,
 "nbformat_minor": 2
}
