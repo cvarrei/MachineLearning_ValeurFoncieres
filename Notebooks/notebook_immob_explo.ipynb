{
 "cells": [
  {
   "cell_type": "code",
   "execution_count": null,
   "metadata": {},
   "outputs": [],
   "source": [
    "import pandas as pd\n",
    "import numpy as np\n",
    "import matplotlib.pyplot as plt\n",
    "import seaborn as sns"
   ]
  },
  {
   "cell_type": "code",
   "execution_count": null,
   "metadata": {},
   "outputs": [],
   "source": [
    "import plotly.express as px"
   ]
  },
  {
   "cell_type": "code",
   "execution_count": null,
   "metadata": {},
   "outputs": [],
   "source": [
    "import warnings\n",
    "warnings.filterwarnings(\"ignore\")"
   ]
  },
  {
   "cell_type": "markdown",
   "metadata": {},
   "source": [
    "# Importation du jeu de données"
   ]
  },
  {
   "cell_type": "code",
   "execution_count": null,
   "metadata": {},
   "outputs": [],
   "source": [
    "df_2018 = pd.read_csv('valeursfoncieres-2018.txt', sep=\"|\", decimal=\",\")\n",
    "df_2019 = pd.read_csv('valeursfoncieres-2019.txt', sep=\"|\", decimal=\",\")\n",
    "df_2020 = pd.read_csv('valeursfoncieres-2020.txt', sep=\"|\", decimal=\",\")\n",
    "df_2021 = pd.read_csv('valeursfoncieres-2021.txt', sep=\"|\", decimal=\",\")"
   ]
  },
  {
   "cell_type": "code",
   "execution_count": null,
   "metadata": {},
   "outputs": [],
   "source": [
    "df_2018.shape[0] + df_2019.shape[0] + df_2020.shape[0] + df_2021.shape[0]"
   ]
  },
  {
   "cell_type": "code",
   "execution_count": null,
   "metadata": {},
   "outputs": [],
   "source": [
    "df = pd.concat([df_2018,df_2019, df_2020, df_2021], axis=0)"
   ]
  },
  {
   "cell_type": "code",
   "execution_count": null,
   "metadata": {},
   "outputs": [],
   "source": [
    "df.shape"
   ]
  },
  {
   "cell_type": "code",
   "execution_count": null,
   "metadata": {},
   "outputs": [],
   "source": [
    "# On paramétrise notre display function pour avoir toutes les variables\n",
    "pd.set_option('display.max_columns', None)\n",
    "df.head()"
   ]
  },
  {
   "cell_type": "code",
   "execution_count": null,
   "metadata": {},
   "outputs": [],
   "source": [
    "df.loc[df[\"Code departement\"] == 67]"
   ]
  },
  {
   "cell_type": "code",
   "execution_count": null,
   "metadata": {},
   "outputs": [],
   "source": [
    "df.loc[df[\"Code departement\"] == 68]"
   ]
  },
  {
   "cell_type": "code",
   "execution_count": null,
   "metadata": {},
   "outputs": [],
   "source": [
    "df.loc[df[\"Code departement\"] == 57]"
   ]
  },
  {
   "cell_type": "code",
   "execution_count": null,
   "metadata": {},
   "outputs": [],
   "source": [
    "# On extrait les noms des variables\n",
    "df.columns"
   ]
  },
  {
   "cell_type": "code",
   "execution_count": null,
   "metadata": {},
   "outputs": [],
   "source": [
    "# On regarde le nombre de valeurs unique dans chaque colonne pour enlever les variables qui n'apporte pas d'information\n",
    "for col in df.columns:\n",
    "    print(col)\n",
    "    print(len(df[col].unique()))"
   ]
  },
  {
   "cell_type": "markdown",
   "metadata": {},
   "source": [
    "# Nettoyage du jeu de données"
   ]
  },
  {
   "cell_type": "code",
   "execution_count": null,
   "metadata": {},
   "outputs": [],
   "source": [
    "# On enlève donc les variables avec une valeur (souvent NaN) ou d'identifiant (qui n'auront donc pas d'intérêt dans la prédiction ou l'exploration)\n",
    "df.drop(columns=['Identifiant de document', 'Reference document', '1 Articles CGI',\n",
    "       '2 Articles CGI', '3 Articles CGI', '4 Articles CGI', '5 Articles CGI','No disposition', 'No plan', 'Identifiant local', 'No Volume'], inplace=True)"
   ]
  },
  {
   "cell_type": "code",
   "execution_count": null,
   "metadata": {},
   "outputs": [],
   "source": [
    "df.head()"
   ]
  },
  {
   "cell_type": "markdown",
   "metadata": {},
   "source": [
    "B/T/Q représente l'indice de répétition qui est est une mention qui complète une numérotation de voirie. L’indice de répétition permet de\n",
    "différencier plusieurs adresses portant le même numéro dans la même rue. Elle ne nous servira pas en soit car donc pas car "
   ]
  },
  {
   "cell_type": "code",
   "execution_count": null,
   "metadata": {},
   "outputs": [],
   "source": [
    "df.drop(columns=[\"B/T/Q\"], inplace=True)"
   ]
  },
  {
   "cell_type": "code",
   "execution_count": null,
   "metadata": {},
   "outputs": [],
   "source": [
    "df.head(n= 10)"
   ]
  },
  {
   "cell_type": "code",
   "execution_count": null,
   "metadata": {},
   "outputs": [],
   "source": [
    "# On regarde le nombre de valeurs manquantes dans chaque colonne pour enlever les variables qui n'apporte pas d'information\n",
    "for col in df.columns:\n",
    "    print(col)\n",
    "    print(df[col].isnull().sum()/df.shape[0])"
   ]
  },
  {
   "cell_type": "markdown",
   "metadata": {},
   "source": [
    "Le nombre de lot est suffisant pour nous indiquer la présence ou non de lots. Le reste est redondant."
   ]
  },
  {
   "cell_type": "code",
   "execution_count": null,
   "metadata": {},
   "outputs": [],
   "source": [
    "df.drop(columns=['1er lot',\n",
    "       'Surface Carrez du 1er lot', '2eme lot', 'Surface Carrez du 2eme lot',\n",
    "       '3eme lot', 'Surface Carrez du 3eme lot', '4eme lot',\n",
    "       'Surface Carrez du 4eme lot', '5eme lot', 'Surface Carrez du 5eme lot'], inplace=True)"
   ]
  },
  {
   "cell_type": "code",
   "execution_count": null,
   "metadata": {},
   "outputs": [],
   "source": [
    "df.head(n=10)"
   ]
  },
  {
   "cell_type": "markdown",
   "metadata": {},
   "source": [
    "Nous nous occupons désormais de la variable nature culture spéciale qui nous indique la présence ou non d'un extérieur"
   ]
  },
  {
   "cell_type": "code",
   "execution_count": null,
   "metadata": {},
   "outputs": [],
   "source": [
    "df.head()"
   ]
  },
  {
   "cell_type": "code",
   "execution_count": null,
   "metadata": {},
   "outputs": [],
   "source": [
    "df.drop(columns=[ \"Nature culture speciale\"], inplace=True)"
   ]
  },
  {
   "cell_type": "code",
   "execution_count": null,
   "metadata": {},
   "outputs": [],
   "source": [
    "df.head(n=10)"
   ]
  },
  {
   "cell_type": "code",
   "execution_count": null,
   "metadata": {},
   "outputs": [],
   "source": [
    "df.loc[df[\"Nature culture\"].isna(), \"exterieur\"] = 0\n",
    "df.loc[df[\"exterieur\"].isna(), \"exterieur\"] = 1\n",
    "\n",
    "df.head()"
   ]
  },
  {
   "cell_type": "code",
   "execution_count": null,
   "metadata": {},
   "outputs": [],
   "source": [
    "# La présence d'un terrain est clairement indiquer par la surface présente, donc si elle est de 0: il n'y a pas de terrain\n",
    "df.loc[df[\"Surface terrain\"].isnull(), \"Surface terrain\"] = 0"
   ]
  },
  {
   "cell_type": "code",
   "execution_count": null,
   "metadata": {},
   "outputs": [],
   "source": [
    "df.head(n=10)"
   ]
  },
  {
   "cell_type": "code",
   "execution_count": null,
   "metadata": {},
   "outputs": [],
   "source": [
    "# En s'appuyant sur la documentation, on se rend compte que le relatif aux sections n'est pas pertinent\n",
    "df.drop(columns=[\"Prefixe de section\", \"Section\"], inplace=True)"
   ]
  },
  {
   "cell_type": "code",
   "execution_count": null,
   "metadata": {},
   "outputs": [],
   "source": [
    "df.head()"
   ]
  },
  {
   "cell_type": "code",
   "execution_count": null,
   "metadata": {},
   "outputs": [],
   "source": [
    "# On extrait les différentes modalités prises par Nature mutation\n",
    "df[\"Nature mutation\"].unique()"
   ]
  },
  {
   "cell_type": "code",
   "execution_count": null,
   "metadata": {},
   "outputs": [],
   "source": [
    "# On observe que ce n'est pas pertinent pour notre problématique.\n",
    "df.drop(columns=[\"Nature mutation\"], inplace=True)"
   ]
  },
  {
   "cell_type": "code",
   "execution_count": null,
   "metadata": {},
   "outputs": [],
   "source": [
    "df.head()"
   ]
  },
  {
   "cell_type": "markdown",
   "metadata": {},
   "source": [
    "La variable en relation avec l'adresse se sépare en plusieurs variables, nous allons donc la concaténer. Si l'adresse est nulle, c'est parce qu'il n'y a pas de n° de voie (lieux dits?), donc on remplie adresse avec \"Voie\"."
   ]
  },
  {
   "cell_type": "code",
   "execution_count": null,
   "metadata": {},
   "outputs": [],
   "source": [
    "df[\"key\"]=  df[\"No voie\"].astype(str)+df[\"Voie\"]+df[\"Commune\"]+df[\"Date mutation\"]\n",
    "df.head(n=10)"
   ]
  },
  {
   "cell_type": "code",
   "execution_count": null,
   "metadata": {},
   "outputs": [],
   "source": [
    "df.head()"
   ]
  },
  {
   "cell_type": "code",
   "execution_count": null,
   "metadata": {},
   "outputs": [],
   "source": [
    "# On enlève les références à l'adresse qui ne nous seront d'aucunes utilité\n",
    "df.drop(columns=[\"Type de voie\", \"Voie\", \"No voie\", \"Code voie\"], inplace=True)"
   ]
  },
  {
   "cell_type": "code",
   "execution_count": null,
   "metadata": {},
   "outputs": [],
   "source": [
    "df.head(n=10)"
   ]
  },
  {
   "cell_type": "code",
   "execution_count": null,
   "metadata": {},
   "outputs": [],
   "source": [
    "# On enlève également le code département qui ne nous servira pas pour récupérer les départements (nous utiliserons le code postal et le nom de la commune)\n",
    "df.drop(columns=[\"Code departement\"], inplace=True)"
   ]
  },
  {
   "cell_type": "code",
   "execution_count": null,
   "metadata": {},
   "outputs": [],
   "source": [
    "df.head()"
   ]
  },
  {
   "cell_type": "code",
   "execution_count": null,
   "metadata": {},
   "outputs": [],
   "source": [
    "# Pour ne garder les ventes que de lots uniques, on enlève toutes les ventes qui se répètent plus d'une fois\n",
    "df2 = df.drop_duplicates(subset='key', keep=False)"
   ]
  },
  {
   "cell_type": "code",
   "execution_count": null,
   "metadata": {},
   "outputs": [],
   "source": [
    "df2.head()"
   ]
  },
  {
   "cell_type": "code",
   "execution_count": null,
   "metadata": {},
   "outputs": [],
   "source": [
    "df2.shape"
   ]
  },
  {
   "cell_type": "code",
   "execution_count": null,
   "metadata": {},
   "outputs": [],
   "source": [
    "# On change le format de la date de vente en format datetime.\n",
    "df2.loc[:, 'Date mutation'] = pd.to_datetime(df2['Date mutation'] , format='%d/%m/%Y')"
   ]
  },
  {
   "cell_type": "code",
   "execution_count": null,
   "metadata": {},
   "outputs": [],
   "source": [
    "# On récupère le mois et l'année de la vente.\n",
    "df2.loc[:, 'year'] = pd.DatetimeIndex(df2['Date mutation']).year\n",
    "df2.loc[:, 'month'] = pd.DatetimeIndex(df2['Date mutation']).month"
   ]
  },
  {
   "cell_type": "code",
   "execution_count": null,
   "metadata": {},
   "outputs": [],
   "source": [
    "df2.head()"
   ]
  },
  {
   "cell_type": "code",
   "execution_count": null,
   "metadata": {},
   "outputs": [],
   "source": [
    "# On enlève la clé qui nous a servi à enlever les duplicatas et la date entière qui ne nous sert plus\n",
    "df2.drop(columns=[\"Date mutation\", \"key\"], inplace=True)"
   ]
  },
  {
   "cell_type": "code",
   "execution_count": null,
   "metadata": {},
   "outputs": [],
   "source": [
    "df2.head()"
   ]
  },
  {
   "cell_type": "code",
   "execution_count": null,
   "metadata": {},
   "outputs": [],
   "source": [
    "# Si NaN values dans ces variables de surfaces ou nombre de pièces principales, 0 assigné\n",
    "df2.loc[df2[\"Surface reelle bati\"].isnull(), \"Surface reelle bati\"] = 0\n",
    "df2.loc[df2[\"Surface terrain\"].isnull(), \"Surface terrain\"] = 0\n",
    "df2.loc[df2[\"Nombre pieces principales\"].isnull(), \"Nombre pieces principales\"] = 0"
   ]
  },
  {
   "cell_type": "code",
   "execution_count": null,
   "metadata": {},
   "outputs": [],
   "source": [
    "# On enlève la clé qui nous a servi à enlever les duplicatas et la date entière qui ne nous sert plus\n",
    "df2.drop(columns=[\"Nature culture\"], inplace=True)"
   ]
  },
  {
   "cell_type": "code",
   "execution_count": null,
   "metadata": {},
   "outputs": [],
   "source": [
    "# On enlève la clé qui nous a servi à enlever les duplicatas et la date entière qui ne nous sert plus\n",
    "df2.drop(columns=[\"Code type local\"], inplace=True)"
   ]
  },
  {
   "cell_type": "code",
   "execution_count": null,
   "metadata": {},
   "outputs": [],
   "source": [
    "df2.head()"
   ]
  },
  {
   "cell_type": "code",
   "execution_count": null,
   "metadata": {},
   "outputs": [],
   "source": [
    "df2.loc[df2[\"Type local\"].isna(), \"Type local\"] = \"Autres\""
   ]
  },
  {
   "cell_type": "code",
   "execution_count": null,
   "metadata": {},
   "outputs": [],
   "source": [
    "df2.head()"
   ]
  },
  {
   "cell_type": "code",
   "execution_count": null,
   "metadata": {},
   "outputs": [],
   "source": [
    "for col in df2.columns:\n",
    "    print(col)\n",
    "    print(df2[col].isnull().sum())"
   ]
  },
  {
   "cell_type": "code",
   "execution_count": null,
   "metadata": {},
   "outputs": [],
   "source": [
    "# On enlève les lignes avec des valeurs nulles\n",
    "df2 = df2.dropna()"
   ]
  },
  {
   "cell_type": "code",
   "execution_count": null,
   "metadata": {},
   "outputs": [],
   "source": [
    "for col in df2.columns:\n",
    "    print(col)\n",
    "    print(df2[col].isnull().sum())"
   ]
  },
  {
   "cell_type": "markdown",
   "metadata": {},
   "source": [
    "Certains biens sont à l'euro symbolique ou ont un prix inférieur à 100€, nous enlevons ces biens"
   ]
  },
  {
   "cell_type": "code",
   "execution_count": null,
   "metadata": {},
   "outputs": [],
   "source": [
    "# On visualise le pourcentage de biens avec un prix de vente inférieur à 100€.\n",
    "euro_symbol = (df2[\"Valeur fonciere\"] < 100).value_counts()\n",
    "\n",
    "plt.pie(euro_symbol, autopct='%.0f%%')"
   ]
  },
  {
   "cell_type": "code",
   "execution_count": null,
   "metadata": {},
   "outputs": [],
   "source": [
    "# On ne garde que les biens ayant eu un prix de vente supérieur à 100€.\n",
    "df3 = df2[df2[\"Valeur fonciere\"] > 100]\n",
    "df3.head()"
   ]
  },
  {
   "cell_type": "code",
   "execution_count": null,
   "metadata": {},
   "outputs": [],
   "source": [
    "# On récupère les différents quartiles pour pouvoir enlever les biens avec un prix anormalement hauts comparés aux autres biens.\n",
    "Q1, Q2, Q3 = df3['Valeur fonciere'].quantile([0.25, 0.5, 0.75])\n",
    "\n",
    "# On calcule le rang interquartile\n",
    "IQR = Q3-Q1"
   ]
  },
  {
   "cell_type": "code",
   "execution_count": null,
   "metadata": {},
   "outputs": [],
   "source": [
    "# On détexte les biens ayant un prix supérieur au troisième quartile multiplié par 1.5 fois le rang interquartile\n",
    "outliers_max = df3[\"Valeur fonciere\"] > (Q3 + 1.5*(IQR))\n",
    "plt.pie(outliers_max.value_counts(), autopct='%.0f%%')"
   ]
  },
  {
   "cell_type": "code",
   "execution_count": null,
   "metadata": {},
   "outputs": [],
   "source": [
    "df3.shape"
   ]
  },
  {
   "cell_type": "code",
   "execution_count": null,
   "metadata": {},
   "outputs": [],
   "source": [
    "# On ne garde que les biens n'ayant pas un prix de vente anormalement haut.\n",
    "df3 = df3[df3[\"Valeur fonciere\"] < (Q3 + 1.5*(IQR))]"
   ]
  },
  {
   "cell_type": "markdown",
   "metadata": {},
   "source": [
    "# Liaison avec données des départements et communes"
   ]
  },
  {
   "cell_type": "code",
   "execution_count": null,
   "metadata": {},
   "outputs": [],
   "source": [
    "# On récupère la base de données des communes/département\n",
    "departement = pd.read_csv(\"communes-departement-region.csv\")\n",
    "departement.head()"
   ]
  },
  {
   "cell_type": "code",
   "execution_count": null,
   "metadata": {},
   "outputs": [],
   "source": [
    "# On ne garde que les variables qui nous serviront à cartographier nos données\n",
    "departement  = departement.loc[:,[\"code_postal\", \"nom_commune\", \"nom_departement\",\"nom_region\", \"latitude\", \"longitude\"]]\n",
    "# On met en majuscule le nom des communes pour joindre les bases de données\n",
    "departement[\"nom_commune\"] = departement[\"nom_commune\"].str.upper()\n",
    "departement.head()"
   ]
  },
  {
   "cell_type": "code",
   "execution_count": null,
   "metadata": {},
   "outputs": [],
   "source": [
    "df3.shape"
   ]
  },
  {
   "cell_type": "code",
   "execution_count": null,
   "metadata": {},
   "outputs": [],
   "source": [
    "# On fait une jointure interne entre les deux bases de données\n",
    "df4  = pd.merge(df3, departement, left_on=['Commune', 'Code postal'], right_on=['nom_commune', 'code_postal'], how='inner')\n",
    "df4.head()"
   ]
  },
  {
   "cell_type": "code",
   "execution_count": null,
   "metadata": {},
   "outputs": [],
   "source": [
    "df4.shape"
   ]
  },
  {
   "cell_type": "code",
   "execution_count": null,
   "metadata": {},
   "outputs": [],
   "source": [
    "# On change le type de pièces principales pour la visualisation\n",
    "df4[\"Nombre pieces principales\"] = df4[\"Nombre pieces principales\"].astype(int)"
   ]
  },
  {
   "cell_type": "code",
   "execution_count": null,
   "metadata": {},
   "outputs": [],
   "source": [
    "# On raccourcit le nom de ce type de local pour la visualisation\n",
    "df4.loc[df4[\"Type local\"] == 'Local industriel. commercial ou assimilé', \"Type local\"] = \"Local\""
   ]
  },
  {
   "cell_type": "code",
   "execution_count": null,
   "metadata": {},
   "outputs": [],
   "source": [
    "fig, axes = plt.subplots(2, 3,figsize=(30,12))\n",
    "\n",
    "#create boxplot in each subplot\n",
    "sns.boxplot(data=df4, x=\"month\", y=\"Valeur fonciere\", ax=axes[0,0])\n",
    "sns.boxplot(data=df4, x=\"Type local\", y=\"Valeur fonciere\", ax=axes[0,1])\n",
    "sns.boxplot(data=df4, x=\"Nombre de lots\", y=\"Valeur fonciere\", ax=axes[0,2])\n",
    "sns.boxplot(data=df4, x=\"Nombre pieces principales\", y=\"Valeur fonciere\", ax=axes[1,0])\n",
    "sns.scatterplot(data=df4, x=\"Surface reelle bati\", y=\"Valeur fonciere\", ax=axes[1,1])\n",
    "sns.scatterplot(data=df4, x=\"Surface terrain\", y=\"Valeur fonciere\", ax=axes[1,2])"
   ]
  },
  {
   "cell_type": "code",
   "execution_count": null,
   "metadata": {},
   "outputs": [],
   "source": [
    "month_dict_fr = {\n",
    "    1: 'Janvier',\n",
    "    2: 'Février',\n",
    "    3: 'Mars',\n",
    "    4: 'Avril',\n",
    "    5: 'Mai',\n",
    "    6: 'Juin',\n",
    "    7: 'Juillet',\n",
    "    8: 'Août',\n",
    "    9: 'Septembre',\n",
    "    10: 'Octobre',\n",
    "    11: 'Novembre',\n",
    "    12: 'Décembre'\n",
    "}\n"
   ]
  },
  {
   "cell_type": "code",
   "execution_count": null,
   "metadata": {},
   "outputs": [],
   "source": [
    "df4[\"month\"] = [month_dict_fr[month] for month in df4[\"month\"]]"
   ]
  },
  {
   "cell_type": "code",
   "execution_count": null,
   "metadata": {},
   "outputs": [],
   "source": [
    "order_month = ['Janvier', 'Février', 'Mars', 'Avril', 'Mai', 'Juin', 'Juillet', 'Août', 'Septembre', 'Octobre', 'Novembre', 'Décembre']\n"
   ]
  },
  {
   "cell_type": "code",
   "execution_count": null,
   "metadata": {},
   "outputs": [],
   "source": [
    "fig = px.box(df4, x=\"month\", y=\"Valeur fonciere\", category_orders={'month': order_month}, color=\"month\")\n",
    "\n",
    "fig.show()"
   ]
  },
  {
   "cell_type": "code",
   "execution_count": null,
   "metadata": {},
   "outputs": [],
   "source": [
    "pivot_departement = df4.pivot_table(index=[\"nom_departement\",\"month\"], values=\"Valeur fonciere\", aggfunc=\"mean\").reset_index()\n",
    "pivot_departement"
   ]
  },
  {
   "cell_type": "code",
   "execution_count": null,
   "metadata": {},
   "outputs": [],
   "source": [
    "months_order = ['Janvier', 'Février', 'Mars', 'Avril', 'Mai', 'Juin', 'Juillet', 'Août', 'Septembre', 'Octobre', 'Novembre', 'Décembre']\n",
    "\n",
    "# Create a categorical data type with the order of months\n",
    "month_cat = pd.CategoricalDtype(categories=months_order, ordered=True)\n",
    "\n",
    "# Convert the 'month' column to the categorical data type\n",
    "pivot_departement['month'] = pivot_departement['month'].astype(month_cat)\n",
    "\n",
    "# Now sort by the 'month' column\n",
    "pivot_departement = pivot_departement.sort_values(by='month')"
   ]
  },
  {
   "cell_type": "code",
   "execution_count": null,
   "metadata": {},
   "outputs": [],
   "source": [
    "\n",
    "fig = px.line(pivot_departement, x=\"month\", y=\"Valeur fonciere\", color='nom_departement')\n",
    "fig.show()"
   ]
  },
  {
   "cell_type": "code",
   "execution_count": null,
   "metadata": {},
   "outputs": [],
   "source": [
    "pivot_region = df4.pivot_table(index=[\"nom_region\",\"month\"], values=\"Valeur fonciere\", aggfunc=\"mean\").reset_index()\n",
    "\n",
    "# Convert the 'month' column to the categorical data type\n",
    "pivot_region['month'] = pivot_region['month'].astype(month_cat)\n",
    "\n",
    "# Now sort by the 'month' column\n",
    "pivot_region = pivot_region.sort_values(by='month')"
   ]
  },
  {
   "cell_type": "code",
   "execution_count": null,
   "metadata": {},
   "outputs": [],
   "source": [
    "\n",
    "fig = px.line(pivot_region, x=\"month\", y=\"Valeur fonciere\", color='nom_region')\n",
    "fig.show()"
   ]
  },
  {
   "cell_type": "code",
   "execution_count": null,
   "metadata": {},
   "outputs": [],
   "source": [
    "fig = plt.subplots(1, 1,figsize=(30,12))\n",
    "sns.boxplot(data=df4, x=\"nom_departement\", y=\"Valeur fonciere\")\n",
    "plt.xticks(rotation=45, ha='right')\n"
   ]
  },
  {
   "cell_type": "code",
   "execution_count": null,
   "metadata": {},
   "outputs": [],
   "source": [
    "for region in df4[\"nom_region\"].unique():\n",
    "    print(region)"
   ]
  },
  {
   "cell_type": "code",
   "execution_count": null,
   "metadata": {},
   "outputs": [],
   "source": [
    "# Pour chaque region, on construit le boxplot des départements correspondant: \n",
    "for region in df4[\"nom_region\"].unique():\n",
    "    df_graph = df4.loc[df4[\"nom_region\"] == region]\n",
    "    fig = px.box(df_graph, x=\"nom_departement\", y=\"Valeur fonciere\",  color=\"nom_departement\",  title=region)\n",
    "    fig.update_layout(showlegend=False)\n",
    "    fig.show()"
   ]
  },
  {
   "cell_type": "code",
   "execution_count": null,
   "metadata": {},
   "outputs": [],
   "source": [
    "fig = plt.subplots(1, 1,figsize=(20,12))\n",
    "sns.boxplot(data=df4, x=\"nom_region\", y=\"Valeur fonciere\")\n",
    "plt.xticks(rotation=45, ha='right')"
   ]
  },
  {
   "cell_type": "code",
   "execution_count": null,
   "metadata": {},
   "outputs": [],
   "source": [
    "fig = px.box(df4, x=\"nom_region\", y=\"Valeur fonciere\",  color=\"nom_region\")\n",
    "\n",
    "fig.show()"
   ]
  },
  {
   "cell_type": "markdown",
   "metadata": {},
   "source": [
    "# Map"
   ]
  },
  {
   "cell_type": "code",
   "execution_count": null,
   "metadata": {},
   "outputs": [],
   "source": [
    "df4.head()"
   ]
  },
  {
   "cell_type": "code",
   "execution_count": null,
   "metadata": {},
   "outputs": [],
   "source": [
    "mean_values = pd.pivot_table(data=df4, index=[\"longitude\", \"latitude\"], values=\"Valeur fonciere\", aggfunc=\"mean\")\n",
    "mean_values = mean_values.reset_index()\n",
    "mean_values"
   ]
  },
  {
   "cell_type": "code",
   "execution_count": null,
   "metadata": {},
   "outputs": [],
   "source": [
    "mean_values.head()"
   ]
  },
  {
   "cell_type": "code",
   "execution_count": null,
   "metadata": {},
   "outputs": [],
   "source": [
    "mean_values['normalized_value'] = (mean_values['Valeur fonciere'] -mean_values['Valeur fonciere'].min()) / (mean_values['Valeur fonciere'].max() - mean_values['Valeur fonciere'].min())\n",
    "mean_values['normalized_value'].plot.hist(bins=30, alpha=0.5)\n"
   ]
  },
  {
   "cell_type": "code",
   "execution_count": null,
   "metadata": {},
   "outputs": [],
   "source": [
    "fig = px.scatter_geo(mean_values,\n",
    "                     lat='latitude',\n",
    "                     lon='longitude',\n",
    "                     scope='europe', \n",
    "                    color='Valeur fonciere',\n",
    "                     color_continuous_scale='Inferno',\n",
    "                     # Centré sur la france\n",
    "                     center=dict(lat=46.26, lon=2.52),\n",
    "                     # Normalisé car doit être en 0 et 1\n",
    "                     opacity=mean_values[\"normalized_value\"])\n",
    "\n",
    "#On update la map pour la centrer sur la france\n",
    "fig.update_layout(\n",
    "    autosize=True,\n",
    "    height=600,\n",
    "    geo=dict(\n",
    "        center=dict(\n",
    "            lat=46.26,\n",
    "            lon=2.52\n",
    "        ),\n",
    "        scope='europe',\n",
    "        projection_scale=6\n",
    "    )\n",
    ")\n",
    "fig.show()"
   ]
  },
  {
   "cell_type": "markdown",
   "metadata": {},
   "source": [
    "### Polygons de DataGouv: https://www.data.gouv.fr/fr/datasets/contours-des-communes-de-france-simplifie-avec-regions-et-departement-doutre-mer-rapproches/"
   ]
  },
  {
   "cell_type": "code",
   "execution_count": null,
   "metadata": {},
   "outputs": [],
   "source": [
    "import json"
   ]
  },
  {
   "cell_type": "code",
   "execution_count": null,
   "metadata": {},
   "outputs": [],
   "source": [
    "mean_values_json = pd.pivot_table(data=df4, index=[\"nom_region\"], values=\"Valeur fonciere\", aggfunc=\"mean\")\n",
    "mean_values_json = mean_values_json.reset_index()\n",
    "mean_values_json"
   ]
  },
  {
   "cell_type": "code",
   "execution_count": null,
   "metadata": {},
   "outputs": [],
   "source": [
    "mean_values_json.loc[mean_values_json[\"nom_region\"] == \"Nouvelle-Aquitaine\", \"nom_region\"] = \"Nouvelle Aquitaine\"\n",
    "mean_values_json.loc[mean_values_json[\"nom_region\"] == \"Grand Est\", \"nom_region\"] = \"Grand-Est\""
   ]
  },
  {
   "cell_type": "code",
   "execution_count": null,
   "metadata": {},
   "outputs": [],
   "source": [
    "with open(\"regions.json\", \"r\") as file:\n",
    "    regions_data = json.load(file)"
   ]
  },
  {
   "cell_type": "code",
   "execution_count": null,
   "metadata": {},
   "outputs": [],
   "source": [
    "# Create the choropleth map\n",
    "fig = px.choropleth(\n",
    "    mean_values_json,  # replace df with your DataFrame\n",
    "    geojson=regions_data,\n",
    "    locations='nom_region',  # replace 'id' with the column name containing the regions' ids\n",
    "    color='Valeur fonciere',  # replace 'value' with the column name containing the values you want to plot\n",
    "    color_continuous_scale='Inferno',\n",
    "    featureidkey=\"properties.libgeo\",  # replace 'properties.id' with the path to the ids in the geojson\n",
    "    range_color=[100000, 250000]\n",
    ")\n",
    "\n",
    "# Update the geos layout to focus on France\n",
    "fig.update_geos(\n",
    "    center={\"lat\": 46.603354, \"lon\": 1.888334},  # Coordinates of France's centroid\n",
    "    projection_scale=15,  # Adjust the scale to fit France\n",
    "    visible=False  # Hide the base map\n",
    ")\n",
    "\n",
    "# Update the layout\n",
    "fig.update_layout(\n",
    "    title=\"Choropleth Map of France\",\n",
    "    margin={\"r\":0,\"t\":40,\"l\":0,\"b\":0}\n",
    ")\n",
    "\n",
    "# Show the map\n",
    "fig.show()"
   ]
  },
  {
   "cell_type": "code",
   "execution_count": null,
   "metadata": {},
   "outputs": [],
   "source": [
    "with open(\"departement.json\", \"r\") as file:\n",
    "    dep_data = json.load(file)"
   ]
  },
  {
   "cell_type": "code",
   "execution_count": null,
   "metadata": {},
   "outputs": [],
   "source": [
    "mean_values_json_departement = pd.pivot_table(data=df4, index=[\"nom_departement\"], values=\"Valeur fonciere\", aggfunc=\"mean\")\n",
    "mean_values_json_departement = mean_values_json_departement.reset_index()\n",
    "mean_values_json_departement"
   ]
  },
  {
   "cell_type": "code",
   "execution_count": null,
   "metadata": {},
   "outputs": [],
   "source": [
    "# Create the choropleth map\n",
    "fig = px.choropleth(\n",
    "    mean_values_json_departement,  # replace df with your DataFrame\n",
    "    geojson=dep_data,\n",
    "    locations='nom_departement',  # replace 'id' with the column name containing the regions' ids\n",
    "    color='Valeur fonciere',  # replace 'value' with the column name containing the values you want to plot\n",
    "    color_continuous_scale='Inferno',\n",
    "    featureidkey=\"properties.libgeo\"  # replace 'properties.id' with the path to the ids in the geojson\n",
    ")\n",
    "\n",
    "# Update the geos layout to focus on France\n",
    "fig.update_geos(\n",
    "    center={\"lat\": 46.603354, \"lon\": 1.888334},  # Coordinates of France's centroid\n",
    "    projection_scale=15,  # Adjust the scale to fit France\n",
    "    visible=False  # Hide the base map\n",
    ")\n",
    "\n",
    "# Update the layout\n",
    "fig.update_layout(\n",
    "    title=\"Choropleth Map of France\",\n",
    "    margin={\"r\":0,\"t\":40,\"l\":0,\"b\":0}\n",
    ")\n",
    "\n",
    "# Show the map\n",
    "fig.show()"
   ]
  },
  {
   "cell_type": "markdown",
   "metadata": {},
   "source": [
    "# Variables supplémentaires"
   ]
  },
  {
   "cell_type": "markdown",
   "metadata": {},
   "source": [
    "### Population active par département: https://www.insee.fr/fr/statistiques/2012710#titre-bloc-1"
   ]
  },
  {
   "cell_type": "code",
   "execution_count": null,
   "metadata": {},
   "outputs": [],
   "source": [
    "df4.head()"
   ]
  },
  {
   "cell_type": "code",
   "execution_count": null,
   "metadata": {},
   "outputs": [],
   "source": [
    "pop = pd.read_excel(\"pop_active.xlsx\")\n",
    "pop.head()"
   ]
  },
  {
   "cell_type": "code",
   "execution_count": null,
   "metadata": {},
   "outputs": [],
   "source": [
    "df4.shape"
   ]
  },
  {
   "cell_type": "code",
   "execution_count": null,
   "metadata": {},
   "outputs": [],
   "source": [
    "# On fait une jointure interne entre les deux bases de données\n",
    "df5  = pd.merge(df4, pop, on=\"nom_departement\", how='inner')\n",
    "df5.head()"
   ]
  },
  {
   "cell_type": "markdown",
   "metadata": {},
   "source": [
    "### Salaire Net Horaire Moyen par département (2021)- https://www.insee.fr/fr/statistiques/2021266"
   ]
  },
  {
   "cell_type": "code",
   "execution_count": null,
   "metadata": {},
   "outputs": [],
   "source": [
    "# On importe le salaire horaire moyen\n",
    "salaire = pd.read_excel(\"base-cc-bases-tous-salaries-2021.xlsx\")\n",
    "salaire.head()"
   ]
  },
  {
   "cell_type": "code",
   "execution_count": null,
   "metadata": {},
   "outputs": [],
   "source": [
    "# On fait une jointure interne entre les deux bases de données\n",
    "df5  = pd.merge(df5, salaire, on=\"nom_departement\", how='inner')\n",
    "df5.head()"
   ]
  },
  {
   "cell_type": "code",
   "execution_count": null,
   "metadata": {},
   "outputs": [],
   "source": [
    "# On crée une matrice de corrélation\n",
    "matrix = df5.loc[:,['Valeur fonciere', 'Nombre de lots', 'Surface reelle bati', 'Nombre pieces principales', 'Surface terrain', \"pop_active\", \"salaire_moyen\"]].corr()\n",
    "matrix"
   ]
  },
  {
   "cell_type": "markdown",
   "metadata": {},
   "source": [
    "# Nombre d'écoles par département\n",
    "https://www.observatoire-des-territoires.gouv.fr/nombre-decoles-elementaires"
   ]
  },
  {
   "cell_type": "code",
   "execution_count": null,
   "metadata": {},
   "outputs": [],
   "source": [
    "# On importe le dataset avec le nombre d'écoles élémentaires par commune\n",
    "ecole = pd.read_excel(\"ecoles2.xlsx\")\n",
    "ecole.head()"
   ]
  },
  {
   "cell_type": "code",
   "execution_count": null,
   "metadata": {},
   "outputs": [],
   "source": [
    "# On fait une jointure interne entre les deux bases de données\n",
    "df6  = pd.merge(df5, ecole, on=\"nom_departement\", how='inner')\n",
    "df6.head()"
   ]
  },
  {
   "cell_type": "markdown",
   "metadata": {},
   "source": [
    "# Prix m² et nbre ventes"
   ]
  },
  {
   "cell_type": "markdown",
   "metadata": {},
   "source": [
    "https://www.data.gouv.fr/fr/datasets/indicateurs-immobiliers-par-commune-et-par-annee-prix-et-volumes-sur-la-periode-2014-2021/"
   ]
  },
  {
   "cell_type": "code",
   "execution_count": null,
   "metadata": {},
   "outputs": [
    {
     "data": {
      "text/html": [
       "<div>\n",
       "<style scoped>\n",
       "    .dataframe tbody tr th:only-of-type {\n",
       "        vertical-align: middle;\n",
       "    }\n",
       "\n",
       "    .dataframe tbody tr th {\n",
       "        vertical-align: top;\n",
       "    }\n",
       "\n",
       "    .dataframe thead th {\n",
       "        text-align: right;\n",
       "    }\n",
       "</style>\n",
       "<table border=\"1\" class=\"dataframe\">\n",
       "  <thead>\n",
       "    <tr style=\"text-align: right;\">\n",
       "      <th></th>\n",
       "      <th>Unnamed: 0</th>\n",
       "      <th>INSEE_COM</th>\n",
       "      <th>Annee</th>\n",
       "      <th>Nb_mutations</th>\n",
       "      <th>NbMaisons</th>\n",
       "      <th>NbApparts</th>\n",
       "      <th>PrixMoyen</th>\n",
       "      <th>Prixm2Moyen</th>\n",
       "      <th>SurfaceMoy</th>\n",
       "    </tr>\n",
       "  </thead>\n",
       "  <tbody>\n",
       "    <tr>\n",
       "      <th>0</th>\n",
       "      <td>1</td>\n",
       "      <td>01001</td>\n",
       "      <td>2021</td>\n",
       "      <td>11</td>\n",
       "      <td>11.0</td>\n",
       "      <td>0.0</td>\n",
       "      <td>274126.818182</td>\n",
       "      <td>2551.272727</td>\n",
       "      <td>107.000000</td>\n",
       "    </tr>\n",
       "    <tr>\n",
       "      <th>1</th>\n",
       "      <td>2</td>\n",
       "      <td>01002</td>\n",
       "      <td>2021</td>\n",
       "      <td>3</td>\n",
       "      <td>3.0</td>\n",
       "      <td>0.0</td>\n",
       "      <td>163766.666667</td>\n",
       "      <td>1290.000000</td>\n",
       "      <td>120.666667</td>\n",
       "    </tr>\n",
       "    <tr>\n",
       "      <th>2</th>\n",
       "      <td>3</td>\n",
       "      <td>01004</td>\n",
       "      <td>2021</td>\n",
       "      <td>249</td>\n",
       "      <td>147.0</td>\n",
       "      <td>102.0</td>\n",
       "      <td>195581.831325</td>\n",
       "      <td>2313.823293</td>\n",
       "      <td>86.389558</td>\n",
       "    </tr>\n",
       "    <tr>\n",
       "      <th>3</th>\n",
       "      <td>4</td>\n",
       "      <td>01005</td>\n",
       "      <td>2021</td>\n",
       "      <td>22</td>\n",
       "      <td>18.0</td>\n",
       "      <td>4.0</td>\n",
       "      <td>290837.590909</td>\n",
       "      <td>2970.045455</td>\n",
       "      <td>99.590909</td>\n",
       "    </tr>\n",
       "    <tr>\n",
       "      <th>4</th>\n",
       "      <td>5</td>\n",
       "      <td>01006</td>\n",
       "      <td>2021</td>\n",
       "      <td>5</td>\n",
       "      <td>4.0</td>\n",
       "      <td>1.0</td>\n",
       "      <td>171560.000000</td>\n",
       "      <td>1631.800000</td>\n",
       "      <td>104.800000</td>\n",
       "    </tr>\n",
       "  </tbody>\n",
       "</table>\n",
       "</div>"
      ],
      "text/plain": [
       "   Unnamed: 0 INSEE_COM  Annee  Nb_mutations  NbMaisons  NbApparts  \\\n",
       "0           1     01001   2021            11       11.0        0.0   \n",
       "1           2     01002   2021             3        3.0        0.0   \n",
       "2           3     01004   2021           249      147.0      102.0   \n",
       "3           4     01005   2021            22       18.0        4.0   \n",
       "4           5     01006   2021             5        4.0        1.0   \n",
       "\n",
       "       PrixMoyen  Prixm2Moyen  SurfaceMoy  \n",
       "0  274126.818182  2551.272727  107.000000  \n",
       "1  163766.666667  1290.000000  120.666667  \n",
       "2  195581.831325  2313.823293   86.389558  \n",
       "3  290837.590909  2970.045455   99.590909  \n",
       "4  171560.000000  1631.800000  104.800000  "
      ]
     },
     "metadata": {},
     "output_type": "display_data"
    }
   ],
   "source": [
    "indic_immob = pd.read_csv(\"2021.csv\")\n",
    "indic_immob.head()"
   ]
  },
  {
   "cell_type": "code",
   "execution_count": null,
   "metadata": {},
   "outputs": [
    {
     "data": {
      "text/html": [
       "<div>\n",
       "<style scoped>\n",
       "    .dataframe tbody tr th:only-of-type {\n",
       "        vertical-align: middle;\n",
       "    }\n",
       "\n",
       "    .dataframe tbody tr th {\n",
       "        vertical-align: top;\n",
       "    }\n",
       "\n",
       "    .dataframe thead th {\n",
       "        text-align: right;\n",
       "    }\n",
       "</style>\n",
       "<table border=\"1\" class=\"dataframe\">\n",
       "  <thead>\n",
       "    <tr style=\"text-align: right;\">\n",
       "      <th></th>\n",
       "      <th>Unnamed: 0</th>\n",
       "      <th>INSEE_COM</th>\n",
       "      <th>Annee</th>\n",
       "      <th>Nb_mutations</th>\n",
       "      <th>NbMaisons</th>\n",
       "      <th>NbApparts</th>\n",
       "      <th>PrixMoyen</th>\n",
       "      <th>Prixm2Moyen</th>\n",
       "      <th>SurfaceMoy</th>\n",
       "    </tr>\n",
       "  </thead>\n",
       "  <tbody>\n",
       "    <tr>\n",
       "      <th>27030</th>\n",
       "      <td>27031</td>\n",
       "      <td>78683</td>\n",
       "      <td>2021</td>\n",
       "      <td>46</td>\n",
       "      <td>44.0</td>\n",
       "      <td>2.0</td>\n",
       "      <td>460481.1</td>\n",
       "      <td>3932.761</td>\n",
       "      <td>126.1087</td>\n",
       "    </tr>\n",
       "  </tbody>\n",
       "</table>\n",
       "</div>"
      ],
      "text/plain": [
       "       Unnamed: 0 INSEE_COM  Annee  Nb_mutations  NbMaisons  NbApparts  \\\n",
       "27030       27031     78683   2021            46       44.0        2.0   \n",
       "\n",
       "       PrixMoyen  Prixm2Moyen  SurfaceMoy  \n",
       "27030   460481.1     3932.761    126.1087  "
      ]
     },
     "metadata": {},
     "output_type": "display_data"
    }
   ],
   "source": [
    "indic_immob.loc[indic_immob[\"INSEE_COM\"] == \"78683\"]"
   ]
  },
  {
   "cell_type": "code",
   "execution_count": null,
   "metadata": {},
   "outputs": [
    {
     "name": "stdout",
     "output_type": "stream",
     "text": [
      "<class 'pandas.core.frame.DataFrame'>\n",
      "RangeIndex: 30876 entries, 0 to 30875\n",
      "Data columns (total 9 columns):\n",
      " #   Column        Non-Null Count  Dtype  \n",
      "---  ------        --------------  -----  \n",
      " 0   Unnamed: 0    30876 non-null  int64  \n",
      " 1   INSEE_COM     30875 non-null  object \n",
      " 2   Annee         30876 non-null  int64  \n",
      " 3   Nb_mutations  30876 non-null  int64  \n",
      " 4   NbMaisons     30875 non-null  float64\n",
      " 5   NbApparts     30875 non-null  float64\n",
      " 6   PrixMoyen     30876 non-null  float64\n",
      " 7   Prixm2Moyen   30876 non-null  float64\n",
      " 8   SurfaceMoy    30876 non-null  float64\n",
      "dtypes: float64(5), int64(3), object(1)\n",
      "memory usage: 2.1+ MB\n"
     ]
    }
   ],
   "source": [
    "indic_immob.info()\n"
   ]
  },
  {
   "cell_type": "code",
   "execution_count": null,
   "metadata": {},
   "outputs": [
    {
     "data": {
      "text/html": [
       "<div>\n",
       "<style scoped>\n",
       "    .dataframe tbody tr th:only-of-type {\n",
       "        vertical-align: middle;\n",
       "    }\n",
       "\n",
       "    .dataframe tbody tr th {\n",
       "        vertical-align: top;\n",
       "    }\n",
       "\n",
       "    .dataframe thead th {\n",
       "        text-align: right;\n",
       "    }\n",
       "</style>\n",
       "<table border=\"1\" class=\"dataframe\">\n",
       "  <thead>\n",
       "    <tr style=\"text-align: right;\">\n",
       "      <th></th>\n",
       "      <th>code_commune_INSEE</th>\n",
       "      <th>nom_commune_postal</th>\n",
       "      <th>code_postal</th>\n",
       "      <th>libelle_acheminement</th>\n",
       "      <th>ligne_5</th>\n",
       "      <th>latitude</th>\n",
       "      <th>longitude</th>\n",
       "      <th>code_commune</th>\n",
       "      <th>article</th>\n",
       "      <th>nom_commune</th>\n",
       "      <th>nom_commune_complet</th>\n",
       "      <th>code_departement</th>\n",
       "      <th>nom_departement</th>\n",
       "      <th>code_region</th>\n",
       "      <th>nom_region</th>\n",
       "    </tr>\n",
       "  </thead>\n",
       "  <tbody>\n",
       "    <tr>\n",
       "      <th>0</th>\n",
       "      <td>1001</td>\n",
       "      <td>L ABERGEMENT CLEMENCIAT</td>\n",
       "      <td>1400</td>\n",
       "      <td>L ABERGEMENT CLEMENCIAT</td>\n",
       "      <td>NaN</td>\n",
       "      <td>46.153426</td>\n",
       "      <td>4.926114</td>\n",
       "      <td>1.0</td>\n",
       "      <td>L'</td>\n",
       "      <td>Abergement-Clémenciat</td>\n",
       "      <td>L'Abergement-Clémenciat</td>\n",
       "      <td>1</td>\n",
       "      <td>Ain</td>\n",
       "      <td>84.0</td>\n",
       "      <td>Auvergne-Rhône-Alpes</td>\n",
       "    </tr>\n",
       "    <tr>\n",
       "      <th>1</th>\n",
       "      <td>1002</td>\n",
       "      <td>L ABERGEMENT DE VAREY</td>\n",
       "      <td>1640</td>\n",
       "      <td>L ABERGEMENT DE VAREY</td>\n",
       "      <td>NaN</td>\n",
       "      <td>46.009188</td>\n",
       "      <td>5.428017</td>\n",
       "      <td>2.0</td>\n",
       "      <td>L'</td>\n",
       "      <td>Abergement-de-Varey</td>\n",
       "      <td>L'Abergement-de-Varey</td>\n",
       "      <td>1</td>\n",
       "      <td>Ain</td>\n",
       "      <td>84.0</td>\n",
       "      <td>Auvergne-Rhône-Alpes</td>\n",
       "    </tr>\n",
       "    <tr>\n",
       "      <th>2</th>\n",
       "      <td>1004</td>\n",
       "      <td>AMBERIEU EN BUGEY</td>\n",
       "      <td>1500</td>\n",
       "      <td>AMBERIEU EN BUGEY</td>\n",
       "      <td>NaN</td>\n",
       "      <td>45.960848</td>\n",
       "      <td>5.372926</td>\n",
       "      <td>4.0</td>\n",
       "      <td>NaN</td>\n",
       "      <td>Ambérieu-en-Bugey</td>\n",
       "      <td>Ambérieu-en-Bugey</td>\n",
       "      <td>1</td>\n",
       "      <td>Ain</td>\n",
       "      <td>84.0</td>\n",
       "      <td>Auvergne-Rhône-Alpes</td>\n",
       "    </tr>\n",
       "    <tr>\n",
       "      <th>3</th>\n",
       "      <td>1005</td>\n",
       "      <td>AMBERIEUX EN DOMBES</td>\n",
       "      <td>1330</td>\n",
       "      <td>AMBERIEUX EN DOMBES</td>\n",
       "      <td>NaN</td>\n",
       "      <td>45.996180</td>\n",
       "      <td>4.912273</td>\n",
       "      <td>5.0</td>\n",
       "      <td>NaN</td>\n",
       "      <td>Ambérieux-en-Dombes</td>\n",
       "      <td>Ambérieux-en-Dombes</td>\n",
       "      <td>1</td>\n",
       "      <td>Ain</td>\n",
       "      <td>84.0</td>\n",
       "      <td>Auvergne-Rhône-Alpes</td>\n",
       "    </tr>\n",
       "    <tr>\n",
       "      <th>4</th>\n",
       "      <td>1006</td>\n",
       "      <td>AMBLEON</td>\n",
       "      <td>1300</td>\n",
       "      <td>AMBLEON</td>\n",
       "      <td>NaN</td>\n",
       "      <td>45.749499</td>\n",
       "      <td>5.594320</td>\n",
       "      <td>6.0</td>\n",
       "      <td>NaN</td>\n",
       "      <td>Ambléon</td>\n",
       "      <td>Ambléon</td>\n",
       "      <td>1</td>\n",
       "      <td>Ain</td>\n",
       "      <td>84.0</td>\n",
       "      <td>Auvergne-Rhône-Alpes</td>\n",
       "    </tr>\n",
       "  </tbody>\n",
       "</table>\n",
       "</div>"
      ],
      "text/plain": [
       "  code_commune_INSEE       nom_commune_postal  code_postal  \\\n",
       "0               1001  L ABERGEMENT CLEMENCIAT         1400   \n",
       "1               1002    L ABERGEMENT DE VAREY         1640   \n",
       "2               1004        AMBERIEU EN BUGEY         1500   \n",
       "3               1005      AMBERIEUX EN DOMBES         1330   \n",
       "4               1006                  AMBLEON         1300   \n",
       "\n",
       "      libelle_acheminement ligne_5   latitude  longitude  code_commune  \\\n",
       "0  L ABERGEMENT CLEMENCIAT     NaN  46.153426   4.926114           1.0   \n",
       "1    L ABERGEMENT DE VAREY     NaN  46.009188   5.428017           2.0   \n",
       "2        AMBERIEU EN BUGEY     NaN  45.960848   5.372926           4.0   \n",
       "3      AMBERIEUX EN DOMBES     NaN  45.996180   4.912273           5.0   \n",
       "4                  AMBLEON     NaN  45.749499   5.594320           6.0   \n",
       "\n",
       "  article            nom_commune      nom_commune_complet code_departement  \\\n",
       "0      L'  Abergement-Clémenciat  L'Abergement-Clémenciat                1   \n",
       "1      L'    Abergement-de-Varey    L'Abergement-de-Varey                1   \n",
       "2     NaN      Ambérieu-en-Bugey        Ambérieu-en-Bugey                1   \n",
       "3     NaN    Ambérieux-en-Dombes      Ambérieux-en-Dombes                1   \n",
       "4     NaN                Ambléon                  Ambléon                1   \n",
       "\n",
       "  nom_departement  code_region            nom_region  \n",
       "0             Ain         84.0  Auvergne-Rhône-Alpes  \n",
       "1             Ain         84.0  Auvergne-Rhône-Alpes  \n",
       "2             Ain         84.0  Auvergne-Rhône-Alpes  \n",
       "3             Ain         84.0  Auvergne-Rhône-Alpes  \n",
       "4             Ain         84.0  Auvergne-Rhône-Alpes  "
      ]
     },
     "metadata": {},
     "output_type": "display_data"
    }
   ],
   "source": [
    "communes = pd.read_csv(\"communes-departement-region.csv\")\n",
    "communes.head()"
   ]
  },
  {
   "cell_type": "code",
   "execution_count": null,
   "metadata": {},
   "outputs": [
    {
     "data": {
      "text/html": [
       "<div>\n",
       "<style scoped>\n",
       "    .dataframe tbody tr th:only-of-type {\n",
       "        vertical-align: middle;\n",
       "    }\n",
       "\n",
       "    .dataframe tbody tr th {\n",
       "        vertical-align: top;\n",
       "    }\n",
       "\n",
       "    .dataframe thead th {\n",
       "        text-align: right;\n",
       "    }\n",
       "</style>\n",
       "<table border=\"1\" class=\"dataframe\">\n",
       "  <thead>\n",
       "    <tr style=\"text-align: right;\">\n",
       "      <th></th>\n",
       "      <th>code_commune_INSEE</th>\n",
       "      <th>nom_commune_postal</th>\n",
       "      <th>code_postal</th>\n",
       "      <th>libelle_acheminement</th>\n",
       "      <th>ligne_5</th>\n",
       "      <th>latitude</th>\n",
       "      <th>longitude</th>\n",
       "      <th>code_commune</th>\n",
       "      <th>article</th>\n",
       "      <th>nom_commune</th>\n",
       "      <th>nom_commune_complet</th>\n",
       "      <th>code_departement</th>\n",
       "      <th>nom_departement</th>\n",
       "      <th>code_region</th>\n",
       "      <th>nom_region</th>\n",
       "    </tr>\n",
       "  </thead>\n",
       "  <tbody>\n",
       "    <tr>\n",
       "      <th>34225</th>\n",
       "      <td>78683</td>\n",
       "      <td>VILLIERS ST FREDERIC</td>\n",
       "      <td>78640</td>\n",
       "      <td>VILLIERS ST FREDERIC</td>\n",
       "      <td>NaN</td>\n",
       "      <td>48.820178</td>\n",
       "      <td>1.882508</td>\n",
       "      <td>683.0</td>\n",
       "      <td>NaN</td>\n",
       "      <td>Villiers-Saint-Frédéric</td>\n",
       "      <td>Villiers-Saint-Frédéric</td>\n",
       "      <td>78</td>\n",
       "      <td>Yvelines</td>\n",
       "      <td>11.0</td>\n",
       "      <td>Île-de-France</td>\n",
       "    </tr>\n",
       "  </tbody>\n",
       "</table>\n",
       "</div>"
      ],
      "text/plain": [
       "      code_commune_INSEE    nom_commune_postal  code_postal  \\\n",
       "34225              78683  VILLIERS ST FREDERIC        78640   \n",
       "\n",
       "       libelle_acheminement ligne_5   latitude  longitude  code_commune  \\\n",
       "34225  VILLIERS ST FREDERIC     NaN  48.820178   1.882508         683.0   \n",
       "\n",
       "      article              nom_commune      nom_commune_complet  \\\n",
       "34225     NaN  Villiers-Saint-Frédéric  Villiers-Saint-Frédéric   \n",
       "\n",
       "      code_departement nom_departement  code_region     nom_region  \n",
       "34225               78        Yvelines         11.0  Île-de-France  "
      ]
     },
     "metadata": {},
     "output_type": "display_data"
    }
   ],
   "source": [
    "communes.loc[communes[\"code_commune_INSEE\"] == \"78683\"]"
   ]
  },
  {
   "cell_type": "code",
   "execution_count": null,
   "metadata": {},
   "outputs": [
    {
     "name": "stdout",
     "output_type": "stream",
     "text": [
      "<class 'pandas.core.frame.DataFrame'>\n",
      "RangeIndex: 39201 entries, 0 to 39200\n",
      "Data columns (total 15 columns):\n",
      " #   Column                Non-Null Count  Dtype  \n",
      "---  ------                --------------  -----  \n",
      " 0   code_commune_INSEE    39201 non-null  object \n",
      " 1   nom_commune_postal    39201 non-null  object \n",
      " 2   code_postal           39201 non-null  int64  \n",
      " 3   libelle_acheminement  39201 non-null  object \n",
      " 4   ligne_5               3257 non-null   object \n",
      " 5   latitude              38932 non-null  float64\n",
      " 6   longitude             38932 non-null  float64\n",
      " 7   code_commune          39194 non-null  float64\n",
      " 8   article               2580 non-null   object \n",
      " 9   nom_commune           39201 non-null  object \n",
      " 10  nom_commune_complet   39201 non-null  object \n",
      " 11  code_departement      39194 non-null  object \n",
      " 12  nom_departement       38934 non-null  object \n",
      " 13  code_region           38934 non-null  float64\n",
      " 14  nom_region            38934 non-null  object \n",
      "dtypes: float64(4), int64(1), object(10)\n",
      "memory usage: 4.5+ MB\n"
     ]
    }
   ],
   "source": [
    "communes.info()"
   ]
  },
  {
   "cell_type": "code",
   "execution_count": null,
   "metadata": {},
   "outputs": [],
   "source": [
    "def custom_code(row):\n",
    "    if len(row) == 4:\n",
    "        code = \"0\" + row\n",
    "        return code\n",
    "    else:\n",
    "        return row\n",
    "\n",
    "communes['INSEE_COM'] = communes[\"code_commune_INSEE\"].apply(custom_code)\n"
   ]
  },
  {
   "cell_type": "code",
   "execution_count": null,
   "metadata": {},
   "outputs": [
    {
     "data": {
      "text/html": [
       "<div>\n",
       "<style scoped>\n",
       "    .dataframe tbody tr th:only-of-type {\n",
       "        vertical-align: middle;\n",
       "    }\n",
       "\n",
       "    .dataframe tbody tr th {\n",
       "        vertical-align: top;\n",
       "    }\n",
       "\n",
       "    .dataframe thead th {\n",
       "        text-align: right;\n",
       "    }\n",
       "</style>\n",
       "<table border=\"1\" class=\"dataframe\">\n",
       "  <thead>\n",
       "    <tr style=\"text-align: right;\">\n",
       "      <th></th>\n",
       "      <th>code_commune_INSEE</th>\n",
       "      <th>nom_commune_postal</th>\n",
       "      <th>code_postal</th>\n",
       "      <th>libelle_acheminement</th>\n",
       "      <th>ligne_5</th>\n",
       "      <th>latitude</th>\n",
       "      <th>longitude</th>\n",
       "      <th>code_commune</th>\n",
       "      <th>article</th>\n",
       "      <th>nom_commune</th>\n",
       "      <th>nom_commune_complet</th>\n",
       "      <th>code_departement</th>\n",
       "      <th>nom_departement</th>\n",
       "      <th>code_region</th>\n",
       "      <th>nom_region</th>\n",
       "      <th>INSEE_COM</th>\n",
       "    </tr>\n",
       "  </thead>\n",
       "  <tbody>\n",
       "    <tr>\n",
       "      <th>0</th>\n",
       "      <td>1001</td>\n",
       "      <td>L ABERGEMENT CLEMENCIAT</td>\n",
       "      <td>1400</td>\n",
       "      <td>L ABERGEMENT CLEMENCIAT</td>\n",
       "      <td>NaN</td>\n",
       "      <td>46.153426</td>\n",
       "      <td>4.926114</td>\n",
       "      <td>1.0</td>\n",
       "      <td>L'</td>\n",
       "      <td>Abergement-Clémenciat</td>\n",
       "      <td>L'Abergement-Clémenciat</td>\n",
       "      <td>1</td>\n",
       "      <td>Ain</td>\n",
       "      <td>84.0</td>\n",
       "      <td>Auvergne-Rhône-Alpes</td>\n",
       "      <td>01001</td>\n",
       "    </tr>\n",
       "    <tr>\n",
       "      <th>1</th>\n",
       "      <td>1002</td>\n",
       "      <td>L ABERGEMENT DE VAREY</td>\n",
       "      <td>1640</td>\n",
       "      <td>L ABERGEMENT DE VAREY</td>\n",
       "      <td>NaN</td>\n",
       "      <td>46.009188</td>\n",
       "      <td>5.428017</td>\n",
       "      <td>2.0</td>\n",
       "      <td>L'</td>\n",
       "      <td>Abergement-de-Varey</td>\n",
       "      <td>L'Abergement-de-Varey</td>\n",
       "      <td>1</td>\n",
       "      <td>Ain</td>\n",
       "      <td>84.0</td>\n",
       "      <td>Auvergne-Rhône-Alpes</td>\n",
       "      <td>01002</td>\n",
       "    </tr>\n",
       "    <tr>\n",
       "      <th>2</th>\n",
       "      <td>1004</td>\n",
       "      <td>AMBERIEU EN BUGEY</td>\n",
       "      <td>1500</td>\n",
       "      <td>AMBERIEU EN BUGEY</td>\n",
       "      <td>NaN</td>\n",
       "      <td>45.960848</td>\n",
       "      <td>5.372926</td>\n",
       "      <td>4.0</td>\n",
       "      <td>NaN</td>\n",
       "      <td>Ambérieu-en-Bugey</td>\n",
       "      <td>Ambérieu-en-Bugey</td>\n",
       "      <td>1</td>\n",
       "      <td>Ain</td>\n",
       "      <td>84.0</td>\n",
       "      <td>Auvergne-Rhône-Alpes</td>\n",
       "      <td>01004</td>\n",
       "    </tr>\n",
       "    <tr>\n",
       "      <th>3</th>\n",
       "      <td>1005</td>\n",
       "      <td>AMBERIEUX EN DOMBES</td>\n",
       "      <td>1330</td>\n",
       "      <td>AMBERIEUX EN DOMBES</td>\n",
       "      <td>NaN</td>\n",
       "      <td>45.996180</td>\n",
       "      <td>4.912273</td>\n",
       "      <td>5.0</td>\n",
       "      <td>NaN</td>\n",
       "      <td>Ambérieux-en-Dombes</td>\n",
       "      <td>Ambérieux-en-Dombes</td>\n",
       "      <td>1</td>\n",
       "      <td>Ain</td>\n",
       "      <td>84.0</td>\n",
       "      <td>Auvergne-Rhône-Alpes</td>\n",
       "      <td>01005</td>\n",
       "    </tr>\n",
       "    <tr>\n",
       "      <th>4</th>\n",
       "      <td>1006</td>\n",
       "      <td>AMBLEON</td>\n",
       "      <td>1300</td>\n",
       "      <td>AMBLEON</td>\n",
       "      <td>NaN</td>\n",
       "      <td>45.749499</td>\n",
       "      <td>5.594320</td>\n",
       "      <td>6.0</td>\n",
       "      <td>NaN</td>\n",
       "      <td>Ambléon</td>\n",
       "      <td>Ambléon</td>\n",
       "      <td>1</td>\n",
       "      <td>Ain</td>\n",
       "      <td>84.0</td>\n",
       "      <td>Auvergne-Rhône-Alpes</td>\n",
       "      <td>01006</td>\n",
       "    </tr>\n",
       "  </tbody>\n",
       "</table>\n",
       "</div>"
      ],
      "text/plain": [
       "  code_commune_INSEE       nom_commune_postal  code_postal  \\\n",
       "0               1001  L ABERGEMENT CLEMENCIAT         1400   \n",
       "1               1002    L ABERGEMENT DE VAREY         1640   \n",
       "2               1004        AMBERIEU EN BUGEY         1500   \n",
       "3               1005      AMBERIEUX EN DOMBES         1330   \n",
       "4               1006                  AMBLEON         1300   \n",
       "\n",
       "      libelle_acheminement ligne_5   latitude  longitude  code_commune  \\\n",
       "0  L ABERGEMENT CLEMENCIAT     NaN  46.153426   4.926114           1.0   \n",
       "1    L ABERGEMENT DE VAREY     NaN  46.009188   5.428017           2.0   \n",
       "2        AMBERIEU EN BUGEY     NaN  45.960848   5.372926           4.0   \n",
       "3      AMBERIEUX EN DOMBES     NaN  45.996180   4.912273           5.0   \n",
       "4                  AMBLEON     NaN  45.749499   5.594320           6.0   \n",
       "\n",
       "  article            nom_commune      nom_commune_complet code_departement  \\\n",
       "0      L'  Abergement-Clémenciat  L'Abergement-Clémenciat                1   \n",
       "1      L'    Abergement-de-Varey    L'Abergement-de-Varey                1   \n",
       "2     NaN      Ambérieu-en-Bugey        Ambérieu-en-Bugey                1   \n",
       "3     NaN    Ambérieux-en-Dombes      Ambérieux-en-Dombes                1   \n",
       "4     NaN                Ambléon                  Ambléon                1   \n",
       "\n",
       "  nom_departement  code_region            nom_region INSEE_COM  \n",
       "0             Ain         84.0  Auvergne-Rhône-Alpes     01001  \n",
       "1             Ain         84.0  Auvergne-Rhône-Alpes     01002  \n",
       "2             Ain         84.0  Auvergne-Rhône-Alpes     01004  \n",
       "3             Ain         84.0  Auvergne-Rhône-Alpes     01005  \n",
       "4             Ain         84.0  Auvergne-Rhône-Alpes     01006  "
      ]
     },
     "metadata": {},
     "output_type": "display_data"
    }
   ],
   "source": [
    "communes.head()"
   ]
  },
  {
   "cell_type": "code",
   "execution_count": null,
   "metadata": {},
   "outputs": [
    {
     "data": {
      "text/html": [
       "<div>\n",
       "<style scoped>\n",
       "    .dataframe tbody tr th:only-of-type {\n",
       "        vertical-align: middle;\n",
       "    }\n",
       "\n",
       "    .dataframe tbody tr th {\n",
       "        vertical-align: top;\n",
       "    }\n",
       "\n",
       "    .dataframe thead th {\n",
       "        text-align: right;\n",
       "    }\n",
       "</style>\n",
       "<table border=\"1\" class=\"dataframe\">\n",
       "  <thead>\n",
       "    <tr style=\"text-align: right;\">\n",
       "      <th></th>\n",
       "      <th>code_commune_INSEE</th>\n",
       "      <th>nom_commune_postal</th>\n",
       "      <th>code_postal</th>\n",
       "      <th>libelle_acheminement</th>\n",
       "      <th>ligne_5</th>\n",
       "      <th>latitude</th>\n",
       "      <th>longitude</th>\n",
       "      <th>code_commune</th>\n",
       "      <th>article</th>\n",
       "      <th>nom_commune</th>\n",
       "      <th>...</th>\n",
       "      <th>nom_region</th>\n",
       "      <th>INSEE_COM</th>\n",
       "      <th>Unnamed: 0</th>\n",
       "      <th>Annee</th>\n",
       "      <th>Nb_mutations</th>\n",
       "      <th>NbMaisons</th>\n",
       "      <th>NbApparts</th>\n",
       "      <th>PrixMoyen</th>\n",
       "      <th>Prixm2Moyen</th>\n",
       "      <th>SurfaceMoy</th>\n",
       "    </tr>\n",
       "  </thead>\n",
       "  <tbody>\n",
       "    <tr>\n",
       "      <th>0</th>\n",
       "      <td>1001</td>\n",
       "      <td>L ABERGEMENT CLEMENCIAT</td>\n",
       "      <td>1400</td>\n",
       "      <td>L ABERGEMENT CLEMENCIAT</td>\n",
       "      <td>NaN</td>\n",
       "      <td>46.153426</td>\n",
       "      <td>4.926114</td>\n",
       "      <td>1.0</td>\n",
       "      <td>L'</td>\n",
       "      <td>Abergement-Clémenciat</td>\n",
       "      <td>...</td>\n",
       "      <td>Auvergne-Rhône-Alpes</td>\n",
       "      <td>01001</td>\n",
       "      <td>1</td>\n",
       "      <td>2021</td>\n",
       "      <td>11</td>\n",
       "      <td>11.0</td>\n",
       "      <td>0.0</td>\n",
       "      <td>274126.818182</td>\n",
       "      <td>2551.272727</td>\n",
       "      <td>107.000000</td>\n",
       "    </tr>\n",
       "    <tr>\n",
       "      <th>1</th>\n",
       "      <td>1002</td>\n",
       "      <td>L ABERGEMENT DE VAREY</td>\n",
       "      <td>1640</td>\n",
       "      <td>L ABERGEMENT DE VAREY</td>\n",
       "      <td>NaN</td>\n",
       "      <td>46.009188</td>\n",
       "      <td>5.428017</td>\n",
       "      <td>2.0</td>\n",
       "      <td>L'</td>\n",
       "      <td>Abergement-de-Varey</td>\n",
       "      <td>...</td>\n",
       "      <td>Auvergne-Rhône-Alpes</td>\n",
       "      <td>01002</td>\n",
       "      <td>2</td>\n",
       "      <td>2021</td>\n",
       "      <td>3</td>\n",
       "      <td>3.0</td>\n",
       "      <td>0.0</td>\n",
       "      <td>163766.666667</td>\n",
       "      <td>1290.000000</td>\n",
       "      <td>120.666667</td>\n",
       "    </tr>\n",
       "    <tr>\n",
       "      <th>2</th>\n",
       "      <td>1004</td>\n",
       "      <td>AMBERIEU EN BUGEY</td>\n",
       "      <td>1500</td>\n",
       "      <td>AMBERIEU EN BUGEY</td>\n",
       "      <td>NaN</td>\n",
       "      <td>45.960848</td>\n",
       "      <td>5.372926</td>\n",
       "      <td>4.0</td>\n",
       "      <td>NaN</td>\n",
       "      <td>Ambérieu-en-Bugey</td>\n",
       "      <td>...</td>\n",
       "      <td>Auvergne-Rhône-Alpes</td>\n",
       "      <td>01004</td>\n",
       "      <td>3</td>\n",
       "      <td>2021</td>\n",
       "      <td>249</td>\n",
       "      <td>147.0</td>\n",
       "      <td>102.0</td>\n",
       "      <td>195581.831325</td>\n",
       "      <td>2313.823293</td>\n",
       "      <td>86.389558</td>\n",
       "    </tr>\n",
       "    <tr>\n",
       "      <th>3</th>\n",
       "      <td>1005</td>\n",
       "      <td>AMBERIEUX EN DOMBES</td>\n",
       "      <td>1330</td>\n",
       "      <td>AMBERIEUX EN DOMBES</td>\n",
       "      <td>NaN</td>\n",
       "      <td>45.996180</td>\n",
       "      <td>4.912273</td>\n",
       "      <td>5.0</td>\n",
       "      <td>NaN</td>\n",
       "      <td>Ambérieux-en-Dombes</td>\n",
       "      <td>...</td>\n",
       "      <td>Auvergne-Rhône-Alpes</td>\n",
       "      <td>01005</td>\n",
       "      <td>4</td>\n",
       "      <td>2021</td>\n",
       "      <td>22</td>\n",
       "      <td>18.0</td>\n",
       "      <td>4.0</td>\n",
       "      <td>290837.590909</td>\n",
       "      <td>2970.045455</td>\n",
       "      <td>99.590909</td>\n",
       "    </tr>\n",
       "    <tr>\n",
       "      <th>4</th>\n",
       "      <td>1006</td>\n",
       "      <td>AMBLEON</td>\n",
       "      <td>1300</td>\n",
       "      <td>AMBLEON</td>\n",
       "      <td>NaN</td>\n",
       "      <td>45.749499</td>\n",
       "      <td>5.594320</td>\n",
       "      <td>6.0</td>\n",
       "      <td>NaN</td>\n",
       "      <td>Ambléon</td>\n",
       "      <td>...</td>\n",
       "      <td>Auvergne-Rhône-Alpes</td>\n",
       "      <td>01006</td>\n",
       "      <td>5</td>\n",
       "      <td>2021</td>\n",
       "      <td>5</td>\n",
       "      <td>4.0</td>\n",
       "      <td>1.0</td>\n",
       "      <td>171560.000000</td>\n",
       "      <td>1631.800000</td>\n",
       "      <td>104.800000</td>\n",
       "    </tr>\n",
       "  </tbody>\n",
       "</table>\n",
       "<p>5 rows × 24 columns</p>\n",
       "</div>"
      ],
      "text/plain": [
       "  code_commune_INSEE       nom_commune_postal  code_postal  \\\n",
       "0               1001  L ABERGEMENT CLEMENCIAT         1400   \n",
       "1               1002    L ABERGEMENT DE VAREY         1640   \n",
       "2               1004        AMBERIEU EN BUGEY         1500   \n",
       "3               1005      AMBERIEUX EN DOMBES         1330   \n",
       "4               1006                  AMBLEON         1300   \n",
       "\n",
       "      libelle_acheminement ligne_5   latitude  longitude  code_commune  \\\n",
       "0  L ABERGEMENT CLEMENCIAT     NaN  46.153426   4.926114           1.0   \n",
       "1    L ABERGEMENT DE VAREY     NaN  46.009188   5.428017           2.0   \n",
       "2        AMBERIEU EN BUGEY     NaN  45.960848   5.372926           4.0   \n",
       "3      AMBERIEUX EN DOMBES     NaN  45.996180   4.912273           5.0   \n",
       "4                  AMBLEON     NaN  45.749499   5.594320           6.0   \n",
       "\n",
       "  article            nom_commune  ...            nom_region INSEE_COM  \\\n",
       "0      L'  Abergement-Clémenciat  ...  Auvergne-Rhône-Alpes     01001   \n",
       "1      L'    Abergement-de-Varey  ...  Auvergne-Rhône-Alpes     01002   \n",
       "2     NaN      Ambérieu-en-Bugey  ...  Auvergne-Rhône-Alpes     01004   \n",
       "3     NaN    Ambérieux-en-Dombes  ...  Auvergne-Rhône-Alpes     01005   \n",
       "4     NaN                Ambléon  ...  Auvergne-Rhône-Alpes     01006   \n",
       "\n",
       "  Unnamed: 0  Annee Nb_mutations NbMaisons  NbApparts      PrixMoyen  \\\n",
       "0          1   2021           11      11.0        0.0  274126.818182   \n",
       "1          2   2021            3       3.0        0.0  163766.666667   \n",
       "2          3   2021          249     147.0      102.0  195581.831325   \n",
       "3          4   2021           22      18.0        4.0  290837.590909   \n",
       "4          5   2021            5       4.0        1.0  171560.000000   \n",
       "\n",
       "   Prixm2Moyen  SurfaceMoy  \n",
       "0  2551.272727  107.000000  \n",
       "1  1290.000000  120.666667  \n",
       "2  2313.823293   86.389558  \n",
       "3  2970.045455   99.590909  \n",
       "4  1631.800000  104.800000  \n",
       "\n",
       "[5 rows x 24 columns]"
      ]
     },
     "metadata": {},
     "output_type": "display_data"
    }
   ],
   "source": [
    "# On fait une jointure interne entre les deux bases de données\n",
    "prix  = pd.merge(communes, indic_immob, on=\"INSEE_COM\", how='inner')\n",
    "prix.head()"
   ]
  },
  {
   "cell_type": "code",
   "execution_count": null,
   "metadata": {},
   "outputs": [
    {
     "data": {
      "text/html": [
       "<div>\n",
       "<style scoped>\n",
       "    .dataframe tbody tr th:only-of-type {\n",
       "        vertical-align: middle;\n",
       "    }\n",
       "\n",
       "    .dataframe tbody tr th {\n",
       "        vertical-align: top;\n",
       "    }\n",
       "\n",
       "    .dataframe thead th {\n",
       "        text-align: right;\n",
       "    }\n",
       "</style>\n",
       "<table border=\"1\" class=\"dataframe\">\n",
       "  <thead>\n",
       "    <tr style=\"text-align: right;\">\n",
       "      <th></th>\n",
       "      <th>code_commune_INSEE</th>\n",
       "      <th>nom_commune_postal</th>\n",
       "      <th>code_postal</th>\n",
       "      <th>libelle_acheminement</th>\n",
       "      <th>ligne_5</th>\n",
       "      <th>latitude</th>\n",
       "      <th>longitude</th>\n",
       "      <th>code_commune</th>\n",
       "      <th>article</th>\n",
       "      <th>nom_commune</th>\n",
       "      <th>...</th>\n",
       "      <th>nom_region</th>\n",
       "      <th>INSEE_COM</th>\n",
       "      <th>Unnamed: 0</th>\n",
       "      <th>Annee</th>\n",
       "      <th>Nb_mutations</th>\n",
       "      <th>NbMaisons</th>\n",
       "      <th>NbApparts</th>\n",
       "      <th>PrixMoyen</th>\n",
       "      <th>Prixm2Moyen</th>\n",
       "      <th>SurfaceMoy</th>\n",
       "    </tr>\n",
       "  </thead>\n",
       "  <tbody>\n",
       "    <tr>\n",
       "      <th>29104</th>\n",
       "      <td>78003</td>\n",
       "      <td>ABLIS</td>\n",
       "      <td>78660</td>\n",
       "      <td>ABLIS</td>\n",
       "      <td>NaN</td>\n",
       "      <td>48.528326</td>\n",
       "      <td>1.850965</td>\n",
       "      <td>3.0</td>\n",
       "      <td>NaN</td>\n",
       "      <td>Ablis</td>\n",
       "      <td>...</td>\n",
       "      <td>Île-de-France</td>\n",
       "      <td>78003</td>\n",
       "      <td>26778</td>\n",
       "      <td>2021</td>\n",
       "      <td>47</td>\n",
       "      <td>43.0</td>\n",
       "      <td>4.0</td>\n",
       "      <td>250331.9</td>\n",
       "      <td>2728.362</td>\n",
       "      <td>94.31915</td>\n",
       "    </tr>\n",
       "    <tr>\n",
       "      <th>29105</th>\n",
       "      <td>78005</td>\n",
       "      <td>ACHERES</td>\n",
       "      <td>78260</td>\n",
       "      <td>ACHERES</td>\n",
       "      <td>NaN</td>\n",
       "      <td>48.971799</td>\n",
       "      <td>2.090039</td>\n",
       "      <td>5.0</td>\n",
       "      <td>NaN</td>\n",
       "      <td>Achères</td>\n",
       "      <td>...</td>\n",
       "      <td>Île-de-France</td>\n",
       "      <td>78005</td>\n",
       "      <td>26779</td>\n",
       "      <td>2021</td>\n",
       "      <td>223</td>\n",
       "      <td>95.0</td>\n",
       "      <td>128.0</td>\n",
       "      <td>276685.6</td>\n",
       "      <td>3734.265</td>\n",
       "      <td>75.94170</td>\n",
       "    </tr>\n",
       "    <tr>\n",
       "      <th>29106</th>\n",
       "      <td>78006</td>\n",
       "      <td>ADAINVILLE</td>\n",
       "      <td>78113</td>\n",
       "      <td>ADAINVILLE</td>\n",
       "      <td>NaN</td>\n",
       "      <td>48.720154</td>\n",
       "      <td>1.662325</td>\n",
       "      <td>6.0</td>\n",
       "      <td>NaN</td>\n",
       "      <td>Adainville</td>\n",
       "      <td>...</td>\n",
       "      <td>Île-de-France</td>\n",
       "      <td>78006</td>\n",
       "      <td>26780</td>\n",
       "      <td>2021</td>\n",
       "      <td>15</td>\n",
       "      <td>15.0</td>\n",
       "      <td>0.0</td>\n",
       "      <td>455405.1</td>\n",
       "      <td>3685.400</td>\n",
       "      <td>128.66670</td>\n",
       "    </tr>\n",
       "    <tr>\n",
       "      <th>29107</th>\n",
       "      <td>78007</td>\n",
       "      <td>AIGREMONT</td>\n",
       "      <td>78240</td>\n",
       "      <td>AIGREMONT</td>\n",
       "      <td>NaN</td>\n",
       "      <td>48.900838</td>\n",
       "      <td>2.015363</td>\n",
       "      <td>7.0</td>\n",
       "      <td>NaN</td>\n",
       "      <td>Aigremont</td>\n",
       "      <td>...</td>\n",
       "      <td>Île-de-France</td>\n",
       "      <td>78007</td>\n",
       "      <td>26781</td>\n",
       "      <td>2021</td>\n",
       "      <td>21</td>\n",
       "      <td>20.0</td>\n",
       "      <td>1.0</td>\n",
       "      <td>658779.9</td>\n",
       "      <td>4926.190</td>\n",
       "      <td>141.47620</td>\n",
       "    </tr>\n",
       "    <tr>\n",
       "      <th>29108</th>\n",
       "      <td>78009</td>\n",
       "      <td>ALLAINVILLE</td>\n",
       "      <td>78660</td>\n",
       "      <td>ALLAINVILLE AUX BOIS</td>\n",
       "      <td>NaN</td>\n",
       "      <td>48.467805</td>\n",
       "      <td>1.902487</td>\n",
       "      <td>9.0</td>\n",
       "      <td>NaN</td>\n",
       "      <td>Allainville</td>\n",
       "      <td>...</td>\n",
       "      <td>Île-de-France</td>\n",
       "      <td>78009</td>\n",
       "      <td>26782</td>\n",
       "      <td>2021</td>\n",
       "      <td>3</td>\n",
       "      <td>3.0</td>\n",
       "      <td>0.0</td>\n",
       "      <td>287900.0</td>\n",
       "      <td>1664.333</td>\n",
       "      <td>171.33330</td>\n",
       "    </tr>\n",
       "    <tr>\n",
       "      <th>...</th>\n",
       "      <td>...</td>\n",
       "      <td>...</td>\n",
       "      <td>...</td>\n",
       "      <td>...</td>\n",
       "      <td>...</td>\n",
       "      <td>...</td>\n",
       "      <td>...</td>\n",
       "      <td>...</td>\n",
       "      <td>...</td>\n",
       "      <td>...</td>\n",
       "      <td>...</td>\n",
       "      <td>...</td>\n",
       "      <td>...</td>\n",
       "      <td>...</td>\n",
       "      <td>...</td>\n",
       "      <td>...</td>\n",
       "      <td>...</td>\n",
       "      <td>...</td>\n",
       "      <td>...</td>\n",
       "      <td>...</td>\n",
       "      <td>...</td>\n",
       "    </tr>\n",
       "    <tr>\n",
       "      <th>29376</th>\n",
       "      <td>78677</td>\n",
       "      <td>VILLETTE</td>\n",
       "      <td>78930</td>\n",
       "      <td>VILLETTE</td>\n",
       "      <td>NaN</td>\n",
       "      <td>48.926279</td>\n",
       "      <td>1.693742</td>\n",
       "      <td>677.0</td>\n",
       "      <td>NaN</td>\n",
       "      <td>Villette</td>\n",
       "      <td>...</td>\n",
       "      <td>Île-de-France</td>\n",
       "      <td>78677</td>\n",
       "      <td>27029</td>\n",
       "      <td>2021</td>\n",
       "      <td>7</td>\n",
       "      <td>7.0</td>\n",
       "      <td>0.0</td>\n",
       "      <td>290364.3</td>\n",
       "      <td>2766.143</td>\n",
       "      <td>110.28570</td>\n",
       "    </tr>\n",
       "    <tr>\n",
       "      <th>29377</th>\n",
       "      <td>78681</td>\n",
       "      <td>VILLIERS LE MAHIEU</td>\n",
       "      <td>78770</td>\n",
       "      <td>VILLIERS LE MAHIEU</td>\n",
       "      <td>NaN</td>\n",
       "      <td>48.853337</td>\n",
       "      <td>1.773800</td>\n",
       "      <td>681.0</td>\n",
       "      <td>NaN</td>\n",
       "      <td>Villiers-le-Mahieu</td>\n",
       "      <td>...</td>\n",
       "      <td>Île-de-France</td>\n",
       "      <td>78681</td>\n",
       "      <td>27030</td>\n",
       "      <td>2021</td>\n",
       "      <td>5</td>\n",
       "      <td>5.0</td>\n",
       "      <td>0.0</td>\n",
       "      <td>261352.0</td>\n",
       "      <td>2897.800</td>\n",
       "      <td>92.20000</td>\n",
       "    </tr>\n",
       "    <tr>\n",
       "      <th>29378</th>\n",
       "      <td>78683</td>\n",
       "      <td>VILLIERS ST FREDERIC</td>\n",
       "      <td>78640</td>\n",
       "      <td>VILLIERS ST FREDERIC</td>\n",
       "      <td>NaN</td>\n",
       "      <td>48.820178</td>\n",
       "      <td>1.882508</td>\n",
       "      <td>683.0</td>\n",
       "      <td>NaN</td>\n",
       "      <td>Villiers-Saint-Frédéric</td>\n",
       "      <td>...</td>\n",
       "      <td>Île-de-France</td>\n",
       "      <td>78683</td>\n",
       "      <td>27031</td>\n",
       "      <td>2021</td>\n",
       "      <td>46</td>\n",
       "      <td>44.0</td>\n",
       "      <td>2.0</td>\n",
       "      <td>460481.1</td>\n",
       "      <td>3932.761</td>\n",
       "      <td>126.10870</td>\n",
       "    </tr>\n",
       "    <tr>\n",
       "      <th>29379</th>\n",
       "      <td>78686</td>\n",
       "      <td>VIROFLAY</td>\n",
       "      <td>78220</td>\n",
       "      <td>VIROFLAY</td>\n",
       "      <td>NaN</td>\n",
       "      <td>48.802404</td>\n",
       "      <td>2.171513</td>\n",
       "      <td>686.0</td>\n",
       "      <td>NaN</td>\n",
       "      <td>Viroflay</td>\n",
       "      <td>...</td>\n",
       "      <td>Île-de-France</td>\n",
       "      <td>78686</td>\n",
       "      <td>27032</td>\n",
       "      <td>2021</td>\n",
       "      <td>287</td>\n",
       "      <td>78.0</td>\n",
       "      <td>209.0</td>\n",
       "      <td>479045.4</td>\n",
       "      <td>6520.544</td>\n",
       "      <td>71.24739</td>\n",
       "    </tr>\n",
       "    <tr>\n",
       "      <th>29380</th>\n",
       "      <td>78688</td>\n",
       "      <td>VOISINS LE BRETONNEUX</td>\n",
       "      <td>78960</td>\n",
       "      <td>VOISINS LE BRETONNEUX</td>\n",
       "      <td>NaN</td>\n",
       "      <td>48.758678</td>\n",
       "      <td>2.048507</td>\n",
       "      <td>688.0</td>\n",
       "      <td>NaN</td>\n",
       "      <td>Voisins-le-Bretonneux</td>\n",
       "      <td>...</td>\n",
       "      <td>Île-de-France</td>\n",
       "      <td>78688</td>\n",
       "      <td>27033</td>\n",
       "      <td>2021</td>\n",
       "      <td>160</td>\n",
       "      <td>102.0</td>\n",
       "      <td>58.0</td>\n",
       "      <td>442835.8</td>\n",
       "      <td>4472.219</td>\n",
       "      <td>100.69370</td>\n",
       "    </tr>\n",
       "  </tbody>\n",
       "</table>\n",
       "<p>277 rows × 24 columns</p>\n",
       "</div>"
      ],
      "text/plain": [
       "      code_commune_INSEE     nom_commune_postal  code_postal  \\\n",
       "29104              78003                  ABLIS        78660   \n",
       "29105              78005                ACHERES        78260   \n",
       "29106              78006             ADAINVILLE        78113   \n",
       "29107              78007              AIGREMONT        78240   \n",
       "29108              78009            ALLAINVILLE        78660   \n",
       "...                  ...                    ...          ...   \n",
       "29376              78677               VILLETTE        78930   \n",
       "29377              78681     VILLIERS LE MAHIEU        78770   \n",
       "29378              78683   VILLIERS ST FREDERIC        78640   \n",
       "29379              78686               VIROFLAY        78220   \n",
       "29380              78688  VOISINS LE BRETONNEUX        78960   \n",
       "\n",
       "        libelle_acheminement ligne_5   latitude  longitude  code_commune  \\\n",
       "29104                  ABLIS     NaN  48.528326   1.850965           3.0   \n",
       "29105                ACHERES     NaN  48.971799   2.090039           5.0   \n",
       "29106             ADAINVILLE     NaN  48.720154   1.662325           6.0   \n",
       "29107              AIGREMONT     NaN  48.900838   2.015363           7.0   \n",
       "29108   ALLAINVILLE AUX BOIS     NaN  48.467805   1.902487           9.0   \n",
       "...                      ...     ...        ...        ...           ...   \n",
       "29376               VILLETTE     NaN  48.926279   1.693742         677.0   \n",
       "29377     VILLIERS LE MAHIEU     NaN  48.853337   1.773800         681.0   \n",
       "29378   VILLIERS ST FREDERIC     NaN  48.820178   1.882508         683.0   \n",
       "29379               VIROFLAY     NaN  48.802404   2.171513         686.0   \n",
       "29380  VOISINS LE BRETONNEUX     NaN  48.758678   2.048507         688.0   \n",
       "\n",
       "      article              nom_commune  ...     nom_region INSEE_COM  \\\n",
       "29104     NaN                    Ablis  ...  Île-de-France     78003   \n",
       "29105     NaN                  Achères  ...  Île-de-France     78005   \n",
       "29106     NaN               Adainville  ...  Île-de-France     78006   \n",
       "29107     NaN                Aigremont  ...  Île-de-France     78007   \n",
       "29108     NaN              Allainville  ...  Île-de-France     78009   \n",
       "...       ...                      ...  ...            ...       ...   \n",
       "29376     NaN                 Villette  ...  Île-de-France     78677   \n",
       "29377     NaN       Villiers-le-Mahieu  ...  Île-de-France     78681   \n",
       "29378     NaN  Villiers-Saint-Frédéric  ...  Île-de-France     78683   \n",
       "29379     NaN                 Viroflay  ...  Île-de-France     78686   \n",
       "29380     NaN    Voisins-le-Bretonneux  ...  Île-de-France     78688   \n",
       "\n",
       "      Unnamed: 0  Annee Nb_mutations NbMaisons  NbApparts  PrixMoyen  \\\n",
       "29104      26778   2021           47      43.0        4.0   250331.9   \n",
       "29105      26779   2021          223      95.0      128.0   276685.6   \n",
       "29106      26780   2021           15      15.0        0.0   455405.1   \n",
       "29107      26781   2021           21      20.0        1.0   658779.9   \n",
       "29108      26782   2021            3       3.0        0.0   287900.0   \n",
       "...          ...    ...          ...       ...        ...        ...   \n",
       "29376      27029   2021            7       7.0        0.0   290364.3   \n",
       "29377      27030   2021            5       5.0        0.0   261352.0   \n",
       "29378      27031   2021           46      44.0        2.0   460481.1   \n",
       "29379      27032   2021          287      78.0      209.0   479045.4   \n",
       "29380      27033   2021          160     102.0       58.0   442835.8   \n",
       "\n",
       "       Prixm2Moyen  SurfaceMoy  \n",
       "29104     2728.362    94.31915  \n",
       "29105     3734.265    75.94170  \n",
       "29106     3685.400   128.66670  \n",
       "29107     4926.190   141.47620  \n",
       "29108     1664.333   171.33330  \n",
       "...            ...         ...  \n",
       "29376     2766.143   110.28570  \n",
       "29377     2897.800    92.20000  \n",
       "29378     3932.761   126.10870  \n",
       "29379     6520.544    71.24739  \n",
       "29380     4472.219   100.69370  \n",
       "\n",
       "[277 rows x 24 columns]"
      ]
     },
     "metadata": {},
     "output_type": "display_data"
    }
   ],
   "source": [
    "prix.loc[prix[\"nom_departement\"] == \"Yvelines\"]"
   ]
  },
  {
   "cell_type": "code",
   "execution_count": null,
   "metadata": {},
   "outputs": [],
   "source": [
    "def q1(x):\n",
    "    return x.quantile(0.25)\n",
    "\n",
    "def q3(x):\n",
    "    return x.quantile(0.75)"
   ]
  },
  {
   "cell_type": "code",
   "execution_count": null,
   "metadata": {},
   "outputs": [
    {
     "data": {
      "text/html": [
       "<div>\n",
       "<style scoped>\n",
       "    .dataframe tbody tr th:only-of-type {\n",
       "        vertical-align: middle;\n",
       "    }\n",
       "\n",
       "    .dataframe tbody tr th {\n",
       "        vertical-align: top;\n",
       "    }\n",
       "\n",
       "    .dataframe thead tr th {\n",
       "        text-align: left;\n",
       "    }\n",
       "\n",
       "    .dataframe thead tr:last-of-type th {\n",
       "        text-align: right;\n",
       "    }\n",
       "</style>\n",
       "<table border=\"1\" class=\"dataframe\">\n",
       "  <thead>\n",
       "    <tr>\n",
       "      <th></th>\n",
       "      <th>mean</th>\n",
       "      <th>q1</th>\n",
       "      <th>q3</th>\n",
       "    </tr>\n",
       "    <tr>\n",
       "      <th></th>\n",
       "      <th>Prixm2Moyen</th>\n",
       "      <th>Prixm2Moyen</th>\n",
       "      <th>Prixm2Moyen</th>\n",
       "    </tr>\n",
       "    <tr>\n",
       "      <th>nom_departement</th>\n",
       "      <th></th>\n",
       "      <th></th>\n",
       "      <th></th>\n",
       "    </tr>\n",
       "  </thead>\n",
       "  <tbody>\n",
       "    <tr>\n",
       "      <th>Ain</th>\n",
       "      <td>2235.777587</td>\n",
       "      <td>1662.166667</td>\n",
       "      <td>2653.858156</td>\n",
       "    </tr>\n",
       "    <tr>\n",
       "      <th>Aisne</th>\n",
       "      <td>1289.592416</td>\n",
       "      <td>986.500000</td>\n",
       "      <td>1540.666667</td>\n",
       "    </tr>\n",
       "    <tr>\n",
       "      <th>Allier</th>\n",
       "      <td>1125.098839</td>\n",
       "      <td>886.875000</td>\n",
       "      <td>1298.196429</td>\n",
       "    </tr>\n",
       "    <tr>\n",
       "      <th>Alpes-Maritimes</th>\n",
       "      <td>3366.643302</td>\n",
       "      <td>2009.954545</td>\n",
       "      <td>4508.419449</td>\n",
       "    </tr>\n",
       "    <tr>\n",
       "      <th>Alpes-de-Haute-Provence</th>\n",
       "      <td>2106.623975</td>\n",
       "      <td>1713.250000</td>\n",
       "      <td>2410.000000</td>\n",
       "    </tr>\n",
       "    <tr>\n",
       "      <th>...</th>\n",
       "      <td>...</td>\n",
       "      <td>...</td>\n",
       "      <td>...</td>\n",
       "    </tr>\n",
       "    <tr>\n",
       "      <th>Vendée</th>\n",
       "      <td>1820.764662</td>\n",
       "      <td>1401.333500</td>\n",
       "      <td>2073.174500</td>\n",
       "    </tr>\n",
       "    <tr>\n",
       "      <th>Vienne</th>\n",
       "      <td>1230.351865</td>\n",
       "      <td>1001.500000</td>\n",
       "      <td>1442.333250</td>\n",
       "    </tr>\n",
       "    <tr>\n",
       "      <th>Vosges</th>\n",
       "      <td>1143.733715</td>\n",
       "      <td>821.000000</td>\n",
       "      <td>1394.769000</td>\n",
       "    </tr>\n",
       "    <tr>\n",
       "      <th>Yonne</th>\n",
       "      <td>1279.941598</td>\n",
       "      <td>1031.484000</td>\n",
       "      <td>1456.083250</td>\n",
       "    </tr>\n",
       "    <tr>\n",
       "      <th>Yvelines</th>\n",
       "      <td>3516.851191</td>\n",
       "      <td>2808.901000</td>\n",
       "      <td>4008.104000</td>\n",
       "    </tr>\n",
       "  </tbody>\n",
       "</table>\n",
       "<p>94 rows × 3 columns</p>\n",
       "</div>"
      ],
      "text/plain": [
       "                                mean           q1           q3\n",
       "                         Prixm2Moyen  Prixm2Moyen  Prixm2Moyen\n",
       "nom_departement                                               \n",
       "Ain                      2235.777587  1662.166667  2653.858156\n",
       "Aisne                    1289.592416   986.500000  1540.666667\n",
       "Allier                   1125.098839   886.875000  1298.196429\n",
       "Alpes-Maritimes          3366.643302  2009.954545  4508.419449\n",
       "Alpes-de-Haute-Provence  2106.623975  1713.250000  2410.000000\n",
       "...                              ...          ...          ...\n",
       "Vendée                   1820.764662  1401.333500  2073.174500\n",
       "Vienne                   1230.351865  1001.500000  1442.333250\n",
       "Vosges                   1143.733715   821.000000  1394.769000\n",
       "Yonne                    1279.941598  1031.484000  1456.083250\n",
       "Yvelines                 3516.851191  2808.901000  4008.104000\n",
       "\n",
       "[94 rows x 3 columns]"
      ]
     },
     "metadata": {},
     "output_type": "display_data"
    }
   ],
   "source": [
    "mean_m2_departement = pd.pivot_table(data=prix, index=[\"nom_departement\"], values=\"Prixm2Moyen\", aggfunc=[\"mean\", q1, q3])\n",
    "mean_m2_departement"
   ]
  },
  {
   "cell_type": "code",
   "execution_count": null,
   "metadata": {},
   "outputs": [],
   "source": [
    "mean_m2_departement.columns = mean_m2_departement.columns.droplevel(0)"
   ]
  },
  {
   "cell_type": "code",
   "execution_count": null,
   "metadata": {},
   "outputs": [],
   "source": [
    "mean_m2_departement.columns = [\"mean_prixm2\", \"q1_prixm2\", \"q3_prixm2\"]"
   ]
  },
  {
   "cell_type": "code",
   "execution_count": null,
   "metadata": {},
   "outputs": [
    {
     "data": {
      "text/html": [
       "<div>\n",
       "<style scoped>\n",
       "    .dataframe tbody tr th:only-of-type {\n",
       "        vertical-align: middle;\n",
       "    }\n",
       "\n",
       "    .dataframe tbody tr th {\n",
       "        vertical-align: top;\n",
       "    }\n",
       "\n",
       "    .dataframe thead th {\n",
       "        text-align: right;\n",
       "    }\n",
       "</style>\n",
       "<table border=\"1\" class=\"dataframe\">\n",
       "  <thead>\n",
       "    <tr style=\"text-align: right;\">\n",
       "      <th></th>\n",
       "      <th>nom_departement</th>\n",
       "      <th>mean_prixm2</th>\n",
       "      <th>q1_prixm2</th>\n",
       "      <th>q3_prixm2</th>\n",
       "    </tr>\n",
       "  </thead>\n",
       "  <tbody>\n",
       "    <tr>\n",
       "      <th>0</th>\n",
       "      <td>Ain</td>\n",
       "      <td>2235.777587</td>\n",
       "      <td>1662.166667</td>\n",
       "      <td>2653.858156</td>\n",
       "    </tr>\n",
       "    <tr>\n",
       "      <th>1</th>\n",
       "      <td>Aisne</td>\n",
       "      <td>1289.592416</td>\n",
       "      <td>986.500000</td>\n",
       "      <td>1540.666667</td>\n",
       "    </tr>\n",
       "    <tr>\n",
       "      <th>2</th>\n",
       "      <td>Allier</td>\n",
       "      <td>1125.098839</td>\n",
       "      <td>886.875000</td>\n",
       "      <td>1298.196429</td>\n",
       "    </tr>\n",
       "    <tr>\n",
       "      <th>3</th>\n",
       "      <td>Alpes-Maritimes</td>\n",
       "      <td>3366.643302</td>\n",
       "      <td>2009.954545</td>\n",
       "      <td>4508.419449</td>\n",
       "    </tr>\n",
       "    <tr>\n",
       "      <th>4</th>\n",
       "      <td>Alpes-de-Haute-Provence</td>\n",
       "      <td>2106.623975</td>\n",
       "      <td>1713.250000</td>\n",
       "      <td>2410.000000</td>\n",
       "    </tr>\n",
       "    <tr>\n",
       "      <th>...</th>\n",
       "      <td>...</td>\n",
       "      <td>...</td>\n",
       "      <td>...</td>\n",
       "      <td>...</td>\n",
       "    </tr>\n",
       "    <tr>\n",
       "      <th>89</th>\n",
       "      <td>Vendée</td>\n",
       "      <td>1820.764662</td>\n",
       "      <td>1401.333500</td>\n",
       "      <td>2073.174500</td>\n",
       "    </tr>\n",
       "    <tr>\n",
       "      <th>90</th>\n",
       "      <td>Vienne</td>\n",
       "      <td>1230.351865</td>\n",
       "      <td>1001.500000</td>\n",
       "      <td>1442.333250</td>\n",
       "    </tr>\n",
       "    <tr>\n",
       "      <th>91</th>\n",
       "      <td>Vosges</td>\n",
       "      <td>1143.733715</td>\n",
       "      <td>821.000000</td>\n",
       "      <td>1394.769000</td>\n",
       "    </tr>\n",
       "    <tr>\n",
       "      <th>92</th>\n",
       "      <td>Yonne</td>\n",
       "      <td>1279.941598</td>\n",
       "      <td>1031.484000</td>\n",
       "      <td>1456.083250</td>\n",
       "    </tr>\n",
       "    <tr>\n",
       "      <th>93</th>\n",
       "      <td>Yvelines</td>\n",
       "      <td>3516.851191</td>\n",
       "      <td>2808.901000</td>\n",
       "      <td>4008.104000</td>\n",
       "    </tr>\n",
       "  </tbody>\n",
       "</table>\n",
       "<p>94 rows × 4 columns</p>\n",
       "</div>"
      ],
      "text/plain": [
       "            nom_departement  mean_prixm2    q1_prixm2    q3_prixm2\n",
       "0                       Ain  2235.777587  1662.166667  2653.858156\n",
       "1                     Aisne  1289.592416   986.500000  1540.666667\n",
       "2                    Allier  1125.098839   886.875000  1298.196429\n",
       "3           Alpes-Maritimes  3366.643302  2009.954545  4508.419449\n",
       "4   Alpes-de-Haute-Provence  2106.623975  1713.250000  2410.000000\n",
       "..                      ...          ...          ...          ...\n",
       "89                   Vendée  1820.764662  1401.333500  2073.174500\n",
       "90                   Vienne  1230.351865  1001.500000  1442.333250\n",
       "91                   Vosges  1143.733715   821.000000  1394.769000\n",
       "92                    Yonne  1279.941598  1031.484000  1456.083250\n",
       "93                 Yvelines  3516.851191  2808.901000  4008.104000\n",
       "\n",
       "[94 rows x 4 columns]"
      ]
     },
     "metadata": {},
     "output_type": "display_data"
    }
   ],
   "source": [
    "mean_m2_departement = mean_m2_departement.reset_index()\n",
    "mean_m2_departement"
   ]
  },
  {
   "cell_type": "code",
   "execution_count": null,
   "metadata": {},
   "outputs": [],
   "source": [
    "columns = mean_m2_departement.columns\n",
    "\n",
    "martinique = [\"Martinique\",2738.56,  1954, 3132]\n",
    "guadeloupe = [\"Guadeloupe\", 3283.41, 2685, 3922]\n",
    "reunion = [\"La Réunion\", 2771.48, 2154, 3238]\n",
    "guyane = [\"Guyane\", 2433.11, 2139, 2574]\n",
    "\n",
    "df_martinique = pd.DataFrame([martinique], columns=columns)\n",
    "df_guadeloupe = pd.DataFrame([guadeloupe], columns=columns)\n",
    "df_reunion = pd.DataFrame([reunion], columns=columns)\n",
    "df_guyane = pd.DataFrame([guyane], columns=columns)"
   ]
  },
  {
   "cell_type": "code",
   "execution_count": null,
   "metadata": {},
   "outputs": [
    {
     "data": {
      "text/html": [
       "<div>\n",
       "<style scoped>\n",
       "    .dataframe tbody tr th:only-of-type {\n",
       "        vertical-align: middle;\n",
       "    }\n",
       "\n",
       "    .dataframe tbody tr th {\n",
       "        vertical-align: top;\n",
       "    }\n",
       "\n",
       "    .dataframe thead th {\n",
       "        text-align: right;\n",
       "    }\n",
       "</style>\n",
       "<table border=\"1\" class=\"dataframe\">\n",
       "  <thead>\n",
       "    <tr style=\"text-align: right;\">\n",
       "      <th></th>\n",
       "      <th>nom_departement</th>\n",
       "      <th>mean_prixm2</th>\n",
       "      <th>q1_prixm2</th>\n",
       "      <th>q3_prixm2</th>\n",
       "    </tr>\n",
       "  </thead>\n",
       "  <tbody>\n",
       "    <tr>\n",
       "      <th>0</th>\n",
       "      <td>Ain</td>\n",
       "      <td>2235.777587</td>\n",
       "      <td>1662.166667</td>\n",
       "      <td>2653.858156</td>\n",
       "    </tr>\n",
       "    <tr>\n",
       "      <th>1</th>\n",
       "      <td>Aisne</td>\n",
       "      <td>1289.592416</td>\n",
       "      <td>986.500000</td>\n",
       "      <td>1540.666667</td>\n",
       "    </tr>\n",
       "    <tr>\n",
       "      <th>2</th>\n",
       "      <td>Allier</td>\n",
       "      <td>1125.098839</td>\n",
       "      <td>886.875000</td>\n",
       "      <td>1298.196429</td>\n",
       "    </tr>\n",
       "    <tr>\n",
       "      <th>3</th>\n",
       "      <td>Alpes-Maritimes</td>\n",
       "      <td>3366.643302</td>\n",
       "      <td>2009.954545</td>\n",
       "      <td>4508.419449</td>\n",
       "    </tr>\n",
       "    <tr>\n",
       "      <th>4</th>\n",
       "      <td>Alpes-de-Haute-Provence</td>\n",
       "      <td>2106.623975</td>\n",
       "      <td>1713.250000</td>\n",
       "      <td>2410.000000</td>\n",
       "    </tr>\n",
       "    <tr>\n",
       "      <th>...</th>\n",
       "      <td>...</td>\n",
       "      <td>...</td>\n",
       "      <td>...</td>\n",
       "      <td>...</td>\n",
       "    </tr>\n",
       "    <tr>\n",
       "      <th>93</th>\n",
       "      <td>Yvelines</td>\n",
       "      <td>3516.851191</td>\n",
       "      <td>2808.901000</td>\n",
       "      <td>4008.104000</td>\n",
       "    </tr>\n",
       "    <tr>\n",
       "      <th>94</th>\n",
       "      <td>Martinique</td>\n",
       "      <td>2738.560000</td>\n",
       "      <td>1954.000000</td>\n",
       "      <td>3132.000000</td>\n",
       "    </tr>\n",
       "    <tr>\n",
       "      <th>95</th>\n",
       "      <td>Guadeloupe</td>\n",
       "      <td>3283.410000</td>\n",
       "      <td>2685.000000</td>\n",
       "      <td>3922.000000</td>\n",
       "    </tr>\n",
       "    <tr>\n",
       "      <th>96</th>\n",
       "      <td>La Réunion</td>\n",
       "      <td>2771.480000</td>\n",
       "      <td>2154.000000</td>\n",
       "      <td>3238.000000</td>\n",
       "    </tr>\n",
       "    <tr>\n",
       "      <th>97</th>\n",
       "      <td>Guyane</td>\n",
       "      <td>2433.110000</td>\n",
       "      <td>2139.000000</td>\n",
       "      <td>2574.000000</td>\n",
       "    </tr>\n",
       "  </tbody>\n",
       "</table>\n",
       "<p>98 rows × 4 columns</p>\n",
       "</div>"
      ],
      "text/plain": [
       "            nom_departement  mean_prixm2    q1_prixm2    q3_prixm2\n",
       "0                       Ain  2235.777587  1662.166667  2653.858156\n",
       "1                     Aisne  1289.592416   986.500000  1540.666667\n",
       "2                    Allier  1125.098839   886.875000  1298.196429\n",
       "3           Alpes-Maritimes  3366.643302  2009.954545  4508.419449\n",
       "4   Alpes-de-Haute-Provence  2106.623975  1713.250000  2410.000000\n",
       "..                      ...          ...          ...          ...\n",
       "93                 Yvelines  3516.851191  2808.901000  4008.104000\n",
       "94               Martinique  2738.560000  1954.000000  3132.000000\n",
       "95               Guadeloupe  3283.410000  2685.000000  3922.000000\n",
       "96               La Réunion  2771.480000  2154.000000  3238.000000\n",
       "97                   Guyane  2433.110000  2139.000000  2574.000000\n",
       "\n",
       "[98 rows x 4 columns]"
      ]
     },
     "metadata": {},
     "output_type": "display_data"
    }
   ],
   "source": [
    "full_m2 = pd.concat([mean_m2_departement, df_martinique, df_guadeloupe, df_reunion, df_guyane], axis=0).reset_index(drop=True)\n",
    "full_m2\n"
   ]
  },
  {
   "cell_type": "code",
   "execution_count": null,
   "metadata": {},
   "outputs": [],
   "source": [
    "full_m2.to_csv('m2.csv', index=False)"
   ]
  },
  {
   "cell_type": "code",
   "execution_count": null,
   "metadata": {},
   "outputs": [
    {
     "data": {
      "text/html": [
       "<div>\n",
       "<style scoped>\n",
       "    .dataframe tbody tr th:only-of-type {\n",
       "        vertical-align: middle;\n",
       "    }\n",
       "\n",
       "    .dataframe tbody tr th {\n",
       "        vertical-align: top;\n",
       "    }\n",
       "\n",
       "    .dataframe thead tr th {\n",
       "        text-align: left;\n",
       "    }\n",
       "\n",
       "    .dataframe thead tr:last-of-type th {\n",
       "        text-align: right;\n",
       "    }\n",
       "</style>\n",
       "<table border=\"1\" class=\"dataframe\">\n",
       "  <thead>\n",
       "    <tr>\n",
       "      <th></th>\n",
       "      <th>sum</th>\n",
       "    </tr>\n",
       "    <tr>\n",
       "      <th></th>\n",
       "      <th>Nb_mutations</th>\n",
       "    </tr>\n",
       "    <tr>\n",
       "      <th>nom_departement</th>\n",
       "      <th></th>\n",
       "    </tr>\n",
       "  </thead>\n",
       "  <tbody>\n",
       "    <tr>\n",
       "      <th>Ain</th>\n",
       "      <td>12389</td>\n",
       "    </tr>\n",
       "    <tr>\n",
       "      <th>Aisne</th>\n",
       "      <td>8306</td>\n",
       "    </tr>\n",
       "    <tr>\n",
       "      <th>Allier</th>\n",
       "      <td>5781</td>\n",
       "    </tr>\n",
       "    <tr>\n",
       "      <th>Alpes-Maritimes</th>\n",
       "      <td>89481</td>\n",
       "    </tr>\n",
       "    <tr>\n",
       "      <th>Alpes-de-Haute-Provence</th>\n",
       "      <td>3949</td>\n",
       "    </tr>\n",
       "    <tr>\n",
       "      <th>...</th>\n",
       "      <td>...</td>\n",
       "    </tr>\n",
       "    <tr>\n",
       "      <th>Vendée</th>\n",
       "      <td>18136</td>\n",
       "    </tr>\n",
       "    <tr>\n",
       "      <th>Vienne</th>\n",
       "      <td>8370</td>\n",
       "    </tr>\n",
       "    <tr>\n",
       "      <th>Vosges</th>\n",
       "      <td>5894</td>\n",
       "    </tr>\n",
       "    <tr>\n",
       "      <th>Yonne</th>\n",
       "      <td>9505</td>\n",
       "    </tr>\n",
       "    <tr>\n",
       "      <th>Yvelines</th>\n",
       "      <td>24785</td>\n",
       "    </tr>\n",
       "  </tbody>\n",
       "</table>\n",
       "<p>94 rows × 1 columns</p>\n",
       "</div>"
      ],
      "text/plain": [
       "                                 sum\n",
       "                        Nb_mutations\n",
       "nom_departement                     \n",
       "Ain                            12389\n",
       "Aisne                           8306\n",
       "Allier                          5781\n",
       "Alpes-Maritimes                89481\n",
       "Alpes-de-Haute-Provence         3949\n",
       "...                              ...\n",
       "Vendée                         18136\n",
       "Vienne                          8370\n",
       "Vosges                          5894\n",
       "Yonne                           9505\n",
       "Yvelines                       24785\n",
       "\n",
       "[94 rows x 1 columns]"
      ]
     },
     "metadata": {},
     "output_type": "display_data"
    }
   ],
   "source": [
    "sum_mut_departement = pd.pivot_table(data=prix, index=[\"nom_departement\"], values=\"Nb_mutations\", aggfunc=[\"sum\"])\n",
    "sum_mut_departement"
   ]
  },
  {
   "cell_type": "code",
   "execution_count": null,
   "metadata": {},
   "outputs": [],
   "source": [
    "sum_mut_departement.columns = sum_mut_departement.columns.droplevel(0)"
   ]
  },
  {
   "cell_type": "code",
   "execution_count": null,
   "metadata": {},
   "outputs": [
    {
     "data": {
      "text/html": [
       "<div>\n",
       "<style scoped>\n",
       "    .dataframe tbody tr th:only-of-type {\n",
       "        vertical-align: middle;\n",
       "    }\n",
       "\n",
       "    .dataframe tbody tr th {\n",
       "        vertical-align: top;\n",
       "    }\n",
       "\n",
       "    .dataframe thead th {\n",
       "        text-align: right;\n",
       "    }\n",
       "</style>\n",
       "<table border=\"1\" class=\"dataframe\">\n",
       "  <thead>\n",
       "    <tr style=\"text-align: right;\">\n",
       "      <th></th>\n",
       "      <th>nom_departement</th>\n",
       "      <th>Total_Mutations</th>\n",
       "    </tr>\n",
       "  </thead>\n",
       "  <tbody>\n",
       "    <tr>\n",
       "      <th>0</th>\n",
       "      <td>Ain</td>\n",
       "      <td>12389</td>\n",
       "    </tr>\n",
       "    <tr>\n",
       "      <th>1</th>\n",
       "      <td>Aisne</td>\n",
       "      <td>8306</td>\n",
       "    </tr>\n",
       "    <tr>\n",
       "      <th>2</th>\n",
       "      <td>Allier</td>\n",
       "      <td>5781</td>\n",
       "    </tr>\n",
       "    <tr>\n",
       "      <th>3</th>\n",
       "      <td>Alpes-Maritimes</td>\n",
       "      <td>89481</td>\n",
       "    </tr>\n",
       "    <tr>\n",
       "      <th>4</th>\n",
       "      <td>Alpes-de-Haute-Provence</td>\n",
       "      <td>3949</td>\n",
       "    </tr>\n",
       "    <tr>\n",
       "      <th>...</th>\n",
       "      <td>...</td>\n",
       "      <td>...</td>\n",
       "    </tr>\n",
       "    <tr>\n",
       "      <th>89</th>\n",
       "      <td>Vendée</td>\n",
       "      <td>18136</td>\n",
       "    </tr>\n",
       "    <tr>\n",
       "      <th>90</th>\n",
       "      <td>Vienne</td>\n",
       "      <td>8370</td>\n",
       "    </tr>\n",
       "    <tr>\n",
       "      <th>91</th>\n",
       "      <td>Vosges</td>\n",
       "      <td>5894</td>\n",
       "    </tr>\n",
       "    <tr>\n",
       "      <th>92</th>\n",
       "      <td>Yonne</td>\n",
       "      <td>9505</td>\n",
       "    </tr>\n",
       "    <tr>\n",
       "      <th>93</th>\n",
       "      <td>Yvelines</td>\n",
       "      <td>24785</td>\n",
       "    </tr>\n",
       "  </tbody>\n",
       "</table>\n",
       "<p>94 rows × 2 columns</p>\n",
       "</div>"
      ],
      "text/plain": [
       "            nom_departement  Total_Mutations\n",
       "0                       Ain            12389\n",
       "1                     Aisne             8306\n",
       "2                    Allier             5781\n",
       "3           Alpes-Maritimes            89481\n",
       "4   Alpes-de-Haute-Provence             3949\n",
       "..                      ...              ...\n",
       "89                   Vendée            18136\n",
       "90                   Vienne             8370\n",
       "91                   Vosges             5894\n",
       "92                    Yonne             9505\n",
       "93                 Yvelines            24785\n",
       "\n",
       "[94 rows x 2 columns]"
      ]
     },
     "metadata": {},
     "output_type": "display_data"
    }
   ],
   "source": [
    "sum_mut_departement = sum_mut_departement.rename(columns={'': 'nom_departement', 'Nb_mutations': 'Total_Mutations'})\n",
    "sum_mut_departement = sum_mut_departement.reset_index()\n",
    "sum_mut_departement"
   ]
  },
  {
   "cell_type": "code",
   "execution_count": null,
   "metadata": {},
   "outputs": [],
   "source": [
    "columns = sum_mut_departement.columns\n",
    "\n",
    "martinique = [\"Martinique\",3385]\n",
    "guadeloupe = [\"Guadeloupe\", 3902]\n",
    "reunion = [\"La Réunion\", 14128]\n",
    "guyane = [\"Guyane\", 1376]\n",
    "\n",
    "df_martinique = pd.DataFrame([martinique], columns=columns)\n",
    "df_guadeloupe = pd.DataFrame([guadeloupe], columns=columns)\n",
    "df_reunion = pd.DataFrame([reunion], columns=columns)\n",
    "df_guyane = pd.DataFrame([guyane], columns=columns)"
   ]
  },
  {
   "cell_type": "code",
   "execution_count": null,
   "metadata": {},
   "outputs": [
    {
     "data": {
      "text/html": [
       "<div>\n",
       "<style scoped>\n",
       "    .dataframe tbody tr th:only-of-type {\n",
       "        vertical-align: middle;\n",
       "    }\n",
       "\n",
       "    .dataframe tbody tr th {\n",
       "        vertical-align: top;\n",
       "    }\n",
       "\n",
       "    .dataframe thead th {\n",
       "        text-align: right;\n",
       "    }\n",
       "</style>\n",
       "<table border=\"1\" class=\"dataframe\">\n",
       "  <thead>\n",
       "    <tr style=\"text-align: right;\">\n",
       "      <th></th>\n",
       "      <th>nom_departement</th>\n",
       "      <th>Total_Mutations</th>\n",
       "    </tr>\n",
       "  </thead>\n",
       "  <tbody>\n",
       "    <tr>\n",
       "      <th>0</th>\n",
       "      <td>Ain</td>\n",
       "      <td>12389</td>\n",
       "    </tr>\n",
       "    <tr>\n",
       "      <th>1</th>\n",
       "      <td>Aisne</td>\n",
       "      <td>8306</td>\n",
       "    </tr>\n",
       "    <tr>\n",
       "      <th>2</th>\n",
       "      <td>Allier</td>\n",
       "      <td>5781</td>\n",
       "    </tr>\n",
       "    <tr>\n",
       "      <th>3</th>\n",
       "      <td>Alpes-Maritimes</td>\n",
       "      <td>89481</td>\n",
       "    </tr>\n",
       "    <tr>\n",
       "      <th>4</th>\n",
       "      <td>Alpes-de-Haute-Provence</td>\n",
       "      <td>3949</td>\n",
       "    </tr>\n",
       "    <tr>\n",
       "      <th>...</th>\n",
       "      <td>...</td>\n",
       "      <td>...</td>\n",
       "    </tr>\n",
       "    <tr>\n",
       "      <th>93</th>\n",
       "      <td>Yvelines</td>\n",
       "      <td>24785</td>\n",
       "    </tr>\n",
       "    <tr>\n",
       "      <th>94</th>\n",
       "      <td>Martinique</td>\n",
       "      <td>3385</td>\n",
       "    </tr>\n",
       "    <tr>\n",
       "      <th>95</th>\n",
       "      <td>Guadeloupe</td>\n",
       "      <td>3902</td>\n",
       "    </tr>\n",
       "    <tr>\n",
       "      <th>96</th>\n",
       "      <td>La Réunion</td>\n",
       "      <td>14128</td>\n",
       "    </tr>\n",
       "    <tr>\n",
       "      <th>97</th>\n",
       "      <td>Guyane</td>\n",
       "      <td>1376</td>\n",
       "    </tr>\n",
       "  </tbody>\n",
       "</table>\n",
       "<p>98 rows × 2 columns</p>\n",
       "</div>"
      ],
      "text/plain": [
       "            nom_departement  Total_Mutations\n",
       "0                       Ain            12389\n",
       "1                     Aisne             8306\n",
       "2                    Allier             5781\n",
       "3           Alpes-Maritimes            89481\n",
       "4   Alpes-de-Haute-Provence             3949\n",
       "..                      ...              ...\n",
       "93                 Yvelines            24785\n",
       "94               Martinique             3385\n",
       "95               Guadeloupe             3902\n",
       "96               La Réunion            14128\n",
       "97                   Guyane             1376\n",
       "\n",
       "[98 rows x 2 columns]"
      ]
     },
     "metadata": {},
     "output_type": "display_data"
    }
   ],
   "source": [
    "full_nbre = pd.concat([sum_mut_departement, df_martinique, df_guadeloupe, df_reunion, df_guyane], axis=0).reset_index(drop=True)\n",
    "full_nbre"
   ]
  },
  {
   "cell_type": "code",
   "execution_count": null,
   "metadata": {},
   "outputs": [],
   "source": [
    "full_nbre.to_csv('nbre_ventes.csv', index=False)"
   ]
  }
 ],
 "metadata": {
  "kernelspec": {
   "display_name": "Python 3",
   "language": "python",
   "name": "python3"
  },
  "language_info": {
   "codemirror_mode": {
    "name": "ipython",
    "version": 3
   },
   "file_extension": ".py",
   "mimetype": "text/x-python",
   "name": "python",
   "nbconvert_exporter": "python",
   "pygments_lexer": "ipython3",
   "version": "3.11.4"
  },
  "orig_nbformat": 4
 },
 "nbformat": 4,
 "nbformat_minor": 2
}
