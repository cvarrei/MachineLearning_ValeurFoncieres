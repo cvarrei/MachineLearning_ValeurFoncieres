{
 "cells": [
  {
   "cell_type": "code",
   "execution_count": 4,
   "metadata": {},
   "outputs": [],
   "source": [
    "import pandas as pd"
   ]
  },
  {
   "cell_type": "markdown",
   "metadata": {},
   "source": [
    "# Nettoyage des données"
   ]
  },
  {
   "cell_type": "code",
   "execution_count": 16,
   "metadata": {},
   "outputs": [],
   "source": [
    "df_train = pd.read_csv(\"Data/data_train.csv\", sep=\",\")"
   ]
  },
  {
   "cell_type": "code",
   "execution_count": 17,
   "metadata": {},
   "outputs": [],
   "source": [
    "#On enleve la colonne Normalized_Mutations\n",
    "\n",
    "df_train = df_train.drop(columns=['Normalized_Mutations'])"
   ]
  },
  {
   "cell_type": "code",
   "execution_count": 43,
   "metadata": {},
   "outputs": [
    {
     "data": {
      "text/html": [
       "<div>\n",
       "<style scoped>\n",
       "    .dataframe tbody tr th:only-of-type {\n",
       "        vertical-align: middle;\n",
       "    }\n",
       "\n",
       "    .dataframe tbody tr th {\n",
       "        vertical-align: top;\n",
       "    }\n",
       "\n",
       "    .dataframe thead th {\n",
       "        text-align: right;\n",
       "    }\n",
       "</style>\n",
       "<table border=\"1\" class=\"dataframe\">\n",
       "  <thead>\n",
       "    <tr style=\"text-align: right;\">\n",
       "      <th></th>\n",
       "      <th>Valeur fonciere</th>\n",
       "      <th>Type local</th>\n",
       "      <th>Surface reelle bati</th>\n",
       "      <th>Nombre pieces principales</th>\n",
       "      <th>Surface terrain</th>\n",
       "      <th>exterieur</th>\n",
       "      <th>year</th>\n",
       "      <th>month</th>\n",
       "      <th>nom_region</th>\n",
       "      <th>pop_active</th>\n",
       "      <th>salaire_moyen</th>\n",
       "      <th>nb_etab_elem</th>\n",
       "      <th>mean_prixm2</th>\n",
       "      <th>q1_prixm2</th>\n",
       "      <th>q3_prixm2</th>\n",
       "      <th>Total_Mutations</th>\n",
       "    </tr>\n",
       "  </thead>\n",
       "  <tbody>\n",
       "    <tr>\n",
       "      <th>0</th>\n",
       "      <td>90000.0</td>\n",
       "      <td>Maison</td>\n",
       "      <td>150.0</td>\n",
       "      <td>3</td>\n",
       "      <td>347.0</td>\n",
       "      <td>1.0</td>\n",
       "      <td>2018</td>\n",
       "      <td>1</td>\n",
       "      <td>Auvergne-Rhône-Alpes</td>\n",
       "      <td>320682.0</td>\n",
       "      <td>15.336249</td>\n",
       "      <td>405</td>\n",
       "      <td>2235.777587</td>\n",
       "      <td>1662.166667</td>\n",
       "      <td>2653.858156</td>\n",
       "      <td>12389</td>\n",
       "    </tr>\n",
       "    <tr>\n",
       "      <th>1</th>\n",
       "      <td>154200.0</td>\n",
       "      <td>Maison</td>\n",
       "      <td>180.0</td>\n",
       "      <td>6</td>\n",
       "      <td>680.0</td>\n",
       "      <td>1.0</td>\n",
       "      <td>2018</td>\n",
       "      <td>6</td>\n",
       "      <td>Auvergne-Rhône-Alpes</td>\n",
       "      <td>320682.0</td>\n",
       "      <td>15.336249</td>\n",
       "      <td>405</td>\n",
       "      <td>2235.777587</td>\n",
       "      <td>1662.166667</td>\n",
       "      <td>2653.858156</td>\n",
       "      <td>12389</td>\n",
       "    </tr>\n",
       "  </tbody>\n",
       "</table>\n",
       "</div>"
      ],
      "text/plain": [
       "   Valeur fonciere Type local  Surface reelle bati  Nombre pieces principales  \\\n",
       "0          90000.0     Maison                150.0                          3   \n",
       "1         154200.0     Maison                180.0                          6   \n",
       "\n",
       "   Surface terrain  exterieur  year  month            nom_region  pop_active  \\\n",
       "0            347.0        1.0  2018      1  Auvergne-Rhône-Alpes    320682.0   \n",
       "1            680.0        1.0  2018      6  Auvergne-Rhône-Alpes    320682.0   \n",
       "\n",
       "   salaire_moyen  nb_etab_elem  mean_prixm2    q1_prixm2    q3_prixm2  \\\n",
       "0      15.336249           405  2235.777587  1662.166667  2653.858156   \n",
       "1      15.336249           405  2235.777587  1662.166667  2653.858156   \n",
       "\n",
       "   Total_Mutations  \n",
       "0            12389  \n",
       "1            12389  "
      ]
     },
     "execution_count": 43,
     "metadata": {},
     "output_type": "execute_result"
    }
   ],
   "source": [
    "df_train.head(2)"
   ]
  },
  {
   "cell_type": "code",
   "execution_count": 49,
   "metadata": {},
   "outputs": [],
   "source": [
    "# Utilisez pd.get_dummies() pour créer des variables indicatrices\n",
    "dummies = pd.get_dummies(df_train['nom_region'], prefix='Region')\n",
    "# Concaténez les variables indicatrices avec le DataFrame d'origine\n",
    "df_train = pd.concat([df_train, dummies], axis=1)\n",
    "#Drop colonne Nom_Region\n",
    "df_train = df_train.drop(columns=['nom_region'])"
   ]
  },
  {
   "cell_type": "code",
   "execution_count": 50,
   "metadata": {},
   "outputs": [],
   "source": [
    "#On split le df en 4df suivant le Type Local\n",
    "df_local=df_train.loc[df_train['Type local']=='Local']\n",
    "df_dependance=df_train.loc[df_train['Type local']=='Dépendance']\n",
    "df_maison=df_train.loc[df_train['Type local']=='Maison']\n",
    "df_appartement=df_train.loc[df_train['Type local']=='Appartement']"
   ]
  },
  {
   "cell_type": "markdown",
   "metadata": {},
   "source": [
    "## Mise en modele"
   ]
  },
  {
   "cell_type": "code",
   "execution_count": 60,
   "metadata": {},
   "outputs": [
    {
     "name": "stdout",
     "output_type": "stream",
     "text": [
      "taille local (54448, 41)\n",
      "taille dependance (164546, 41)\n",
      "taille maison (931324, 41)\n",
      "taille appartement (469785, 41)\n"
     ]
    }
   ],
   "source": [
    "print(\"taille local\",df_local.shape)\n",
    "print(\"taille dependance\",df_dependance.shape)\n",
    "print(\"taille maison\",df_maison.shape)\n",
    "print(\"taille appartement\",df_appartement.shape)"
   ]
  },
  {
   "cell_type": "code",
   "execution_count": null,
   "metadata": {},
   "outputs": [],
   "source": [
    "df"
   ]
  }
 ],
 "metadata": {
  "kernelspec": {
   "display_name": "Python 3",
   "language": "python",
   "name": "python3"
  },
  "language_info": {
   "codemirror_mode": {
    "name": "ipython",
    "version": 3
   },
   "file_extension": ".py",
   "mimetype": "text/x-python",
   "name": "python",
   "nbconvert_exporter": "python",
   "pygments_lexer": "ipython3",
   "version": "3.11.4"
  },
  "orig_nbformat": 4
 },
 "nbformat": 4,
 "nbformat_minor": 2
}
